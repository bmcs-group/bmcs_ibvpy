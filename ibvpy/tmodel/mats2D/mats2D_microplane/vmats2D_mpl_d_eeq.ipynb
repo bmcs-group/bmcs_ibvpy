{
 "cells": [
  {
   "cell_type": "code",
   "execution_count": null,
   "id": "c23fa88c-8faa-4146-a52d-f6c1d1394c0f",
   "metadata": {},
   "outputs": [],
   "source": [
    "%matplotlib widget\n",
    "from vmats2D_mpl_d_eeq import MATS2DMplDamageEEQ\n",
    "import numpy as np\n",
    "from scipy.optimize import root, minimize"
   ]
  },
  {
   "cell_type": "code",
   "execution_count": null,
   "id": "7bb37ad4-883c-4b0d-935d-411816cb8882",
   "metadata": {},
   "outputs": [],
   "source": [
    "mdm = MATS2DMplDamageEEQ()"
   ]
  },
  {
   "cell_type": "code",
   "execution_count": null,
   "id": "084997f4-b1be-4f10-8fad-1d7b6ea9596b",
   "metadata": {},
   "outputs": [],
   "source": [
    "G_f0, f_t0, eps_cr0 = 0.08, 2, 0.00015\n",
    "def get_tensile_characteristics(params):\n",
    "    E, eps_0, eps_f = params\n",
    "    mdm.trait_set(E=E, nu=0.2)\n",
    "    mdm.trait_set(epsilon_0 = eps_0, epsilon_f = eps_f)\n",
    "    mdm.trait_set(eps_max = 100*eps_f)\n",
    "    G_f, f_t, eps_cr = mdm.get_sig_eps()\n",
    "    V = np.array([G_f, f_t, eps_cr], dtype=np.float_)\n",
    "    Z = np.array([G_f0, f_t0, eps_cr0], dtype=np.float_)\n",
    "    w = np.array([1,1,1], dtype=np.float_)\n",
    "    R = ((V - Z)*w)**2\n",
    "    return np.sum(R*w)"
   ]
  },
  {
   "cell_type": "code",
   "execution_count": null,
   "id": "c67dfe4a-2bfb-4dda-8d66-98e95b000af2",
   "metadata": {},
   "outputs": [],
   "source": [
    "E_ = 35000\n",
    "eps_cr_ = f_t0 / E_\n",
    "eps_f_ = eps_cr_ * 100\n",
    "params = np.array([E_, eps_cr_, eps_f_], dtype=np.float_)"
   ]
  },
  {
   "cell_type": "code",
   "execution_count": null,
   "id": "b22e5de1-b20d-45d8-9733-6ae9cd7dedbe",
   "metadata": {},
   "outputs": [],
   "source": [
    "bnds = ((1000, 1e+8), (1e-9, 0.01), (1e-5, 0.1))"
   ]
  },
  {
   "cell_type": "code",
   "execution_count": null,
   "id": "0ac6f59f-30ff-448e-90b7-c25f9e94e6bb",
   "metadata": {},
   "outputs": [],
   "source": [
    "res = minimize(get_tensile_characteristics, params, method=\"L-BFGS-B\", bounds=bnds)"
   ]
  },
  {
   "cell_type": "code",
   "execution_count": null,
   "id": "d0cf4a7f-f096-431a-9bf3-02114f1d70d9",
   "metadata": {},
   "outputs": [],
   "source": [
    "res.x"
   ]
  },
  {
   "cell_type": "code",
   "execution_count": null,
   "id": "18772b05-9491-4f25-b2d8-be6c123b59b1",
   "metadata": {},
   "outputs": [],
   "source": [
    "E, eps_0, eps_f = params\n",
    "mdm.trait_set(E=E, nu=0.2)\n",
    "mdm.trait_set(epsilon_0 = eps_0, epsilon_f = eps_f)\n",
    "mdm.trait_set(eps_max = 100*eps_f)\n",
    "mdm.get_sig_eps()"
   ]
  },
  {
   "cell_type": "code",
   "execution_count": null,
   "id": "3c922846-9e71-4632-81b6-0d6b9c25c8e4",
   "metadata": {},
   "outputs": [],
   "source": [
    "mdm.interact()"
   ]
  },
  {
   "cell_type": "code",
   "execution_count": null,
   "id": "8178402a-ac53-4c9b-9ee4-91e3027dd029",
   "metadata": {},
   "outputs": [],
   "source": [
    "res = root(get_tensile_characteristics, params, method='hybr',\n",
    "          # options={'xtol': self.xtol,}\n",
    "          )"
   ]
  },
  {
   "cell_type": "code",
   "execution_count": null,
   "id": "56ba23d9-2a17-4fae-9370-2a96ed437bd7",
   "metadata": {},
   "outputs": [],
   "source": [
    "res"
   ]
  },
  {
   "cell_type": "code",
   "execution_count": null,
   "id": "4db3f232-2c7a-4e34-aa62-a1cebbc03b39",
   "metadata": {},
   "outputs": [],
   "source": [
    "mdm.interact()"
   ]
  },
  {
   "cell_type": "code",
   "execution_count": null,
   "id": "49475b09-1868-453e-9698-0f2a4e412f34",
   "metadata": {},
   "outputs": [],
   "source": []
  }
 ],
 "metadata": {
  "kernelspec": {
   "display_name": "bmcs_env",
   "language": "python",
   "name": "bmcs_env"
  },
  "language_info": {
   "codemirror_mode": {
    "name": "ipython",
    "version": 3
   },
   "file_extension": ".py",
   "mimetype": "text/x-python",
   "name": "python",
   "nbconvert_exporter": "python",
   "pygments_lexer": "ipython3"
  }
 },
 "nbformat": 4,
 "nbformat_minor": 5
}
