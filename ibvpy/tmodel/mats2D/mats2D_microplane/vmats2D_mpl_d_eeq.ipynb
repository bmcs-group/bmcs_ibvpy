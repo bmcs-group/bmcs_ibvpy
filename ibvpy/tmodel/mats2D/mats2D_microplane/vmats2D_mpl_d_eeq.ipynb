{
 "cells": [
  {
   "cell_type": "code",
   "execution_count": 143,
   "id": "c23fa88c-8faa-4146-a52d-f6c1d1394c0f",
   "metadata": {},
   "outputs": [],
   "source": [
    "%matplotlib widget\n",
    "from vmats2D_mpl_d_eeq import MATS2DMplDamageEEQ\n",
    "import numpy as np\n",
    "from scipy.optimize import root, minimize"
   ]
  },
  {
   "cell_type": "code",
   "execution_count": 151,
   "id": "7bb37ad4-883c-4b0d-935d-411816cb8882",
   "metadata": {},
   "outputs": [],
   "source": [
    "mdm = MATS2DMplDamageEEQ()"
   ]
  },
  {
   "cell_type": "code",
   "execution_count": 175,
   "id": "084997f4-b1be-4f10-8fad-1d7b6ea9596b",
   "metadata": {},
   "outputs": [],
   "source": [
    "G_f0, f_t0, eps_cr0 = 0.08, 2, 0.00015\n",
    "def get_tensile_characteristics(params):\n",
    "    E, eps_0, eps_f = params\n",
    "    mdm.trait_set(E=E, nu=0.2)\n",
    "    mdm.trait_set(epsilon_0 = eps_0, epsilon_f = eps_f)\n",
    "    mdm.trait_set(eps_max = 100*eps_f)\n",
    "    G_f, f_t, eps_cr = mdm.get_sig_eps()\n",
    "    V = np.array([G_f, f_t, eps_cr], dtype=np.float_)\n",
    "    Z = np.array([G_f0, f_t0, eps_cr0], dtype=np.float_)\n",
    "    w = np.array([1,1,1], dtype=np.float_)\n",
    "    R = ((V - Z)*w)**2\n",
    "    return np.sum(R*w)"
   ]
  },
  {
   "cell_type": "code",
   "execution_count": 168,
   "id": "c67dfe4a-2bfb-4dda-8d66-98e95b000af2",
   "metadata": {},
   "outputs": [],
   "source": [
    "E_ = 35000\n",
    "eps_cr_ = f_t0 / E_\n",
    "eps_f_ = eps_cr_ * 100\n",
    "params = np.array([E_, eps_cr_, eps_f_], dtype=np.float_)"
   ]
  },
  {
   "cell_type": "code",
   "execution_count": 169,
   "id": "b22e5de1-b20d-45d8-9733-6ae9cd7dedbe",
   "metadata": {},
   "outputs": [],
   "source": [
    "bnds = ((1000, 1e+8), (1e-9, 0.01), (1e-5, 0.1))"
   ]
  },
  {
   "cell_type": "code",
   "execution_count": 170,
   "id": "0ac6f59f-30ff-448e-90b7-c25f9e94e6bb",
   "metadata": {},
   "outputs": [],
   "source": [
    "res = minimize(get_tensile_characteristics, params, method=\"L-BFGS-B\", bounds=bnds)"
   ]
  },
  {
   "cell_type": "code",
   "execution_count": 171,
   "id": "d0cf4a7f-f096-431a-9bf3-02114f1d70d9",
   "metadata": {},
   "outputs": [
    {
     "data": {
      "text/plain": [
       "array([3.50000000e+04, 3.61380714e-05, 2.15576747e-02])"
      ]
     },
     "execution_count": 171,
     "metadata": {},
     "output_type": "execute_result"
    }
   ],
   "source": [
    "res.x"
   ]
  },
  {
   "cell_type": "code",
   "execution_count": 172,
   "id": "18772b05-9491-4f25-b2d8-be6c123b59b1",
   "metadata": {},
   "outputs": [
    {
     "data": {
      "text/plain": [
       "(0.033373687536532144, 3.003158168182996, 0.0003429267274026234)"
      ]
     },
     "execution_count": 172,
     "metadata": {},
     "output_type": "execute_result"
    }
   ],
   "source": [
    "E, eps_0, eps_f = params\n",
    "mdm.trait_set(E=E, nu=0.2)\n",
    "mdm.trait_set(epsilon_0 = eps_0, epsilon_f = eps_f)\n",
    "mdm.trait_set(eps_max = 100*eps_f)\n",
    "mdm.get_sig_eps()"
   ]
  },
  {
   "cell_type": "code",
   "execution_count": 167,
   "id": "3c922846-9e71-4632-81b6-0d6b9c25c8e4",
   "metadata": {},
   "outputs": [
    {
     "data": {
      "application/vnd.jupyter.widget-view+json": {
       "model_id": "0dc18916dbfe43b998a04a5ff610e67f",
       "version_major": 2,
       "version_minor": 0
      },
      "text/plain": [
       "VBox(children=(HBox(children=(VBox(children=(Tree(layout=Layout(align_items='stretch', border='solid 1px black…"
      ]
     },
     "metadata": {},
     "output_type": "display_data"
    }
   ],
   "source": [
    "mdm.interact()"
   ]
  },
  {
   "cell_type": "code",
   "execution_count": 15,
   "id": "8178402a-ac53-4c9b-9ee4-91e3027dd029",
   "metadata": {},
   "outputs": [
    {
     "name": "stderr",
     "output_type": "stream",
     "text": [
      "/home/rch/PycharmProjects/bmcs_ibvpy/ibvpy/tmodel/mats2D/mats2D_microplane/vmats2D_mpl_d_eeq.py:144: RuntimeWarning: divide by zero encountered in true_divide\n",
      "  1.0 - (epsilon_0 / kappa_Emn[kappa_idx] *\n",
      "/home/rch/PycharmProjects/bmcs_ibvpy/ibvpy/tmodel/mats2D/mats2D_microplane/vmats2D_mpl_d_eeq.py:153: RuntimeWarning: invalid value encountered in sqrt\n",
      "  phi_Emn = np.sqrt(1.0 - self._get_omega(kappa_Emn))\n"
     ]
    }
   ],
   "source": [
    "res = root(get_tensile_characteristics, params, method='hybr',\n",
    "          # options={'xtol': self.xtol,}\n",
    "          )"
   ]
  },
  {
   "cell_type": "code",
   "execution_count": 9,
   "id": "56ba23d9-2a17-4fae-9370-2a96ed437bd7",
   "metadata": {},
   "outputs": [
    {
     "data": {
      "text/plain": [
       "    fjac: array([[-0.95622497, -0.29263254,  0.        ],\n",
       "       [-0.29263254,  0.95622497,  0.        ],\n",
       "       [ 0.        ,  0.        , -1.        ]])\n",
       "     fun: array([-0.97847195, -0.9934341 ,  0.02092165])\n",
       " message: 'The iteration is not making good progress, as measured by the \\n  improvement from the last five Jacobian evaluations.'\n",
       "    nfev: 52\n",
       "     qtf: array([ 1.22642093, -0.66359242, -0.01746365])\n",
       "       r: array([-1.86004957e-09,  0.00000000e+00, -4.03847256e-01, -0.00000000e+00,\n",
       "       -1.23603359e-01, -2.00040008e+01])\n",
       "  status: 4\n",
       " success: False\n",
       "       x: array([ 1.20627595e+07, -3.82867360e-02,  5.10353735e-02])"
      ]
     },
     "execution_count": 9,
     "metadata": {},
     "output_type": "execute_result"
    }
   ],
   "source": [
    "res"
   ]
  },
  {
   "cell_type": "code",
   "execution_count": 8,
   "id": "4db3f232-2c7a-4e34-aa62-a1cebbc03b39",
   "metadata": {},
   "outputs": [
    {
     "data": {
      "application/vnd.jupyter.widget-view+json": {
       "model_id": "1baadd3bba904b7486ae4ee3c1ac8734",
       "version_major": 2,
       "version_minor": 0
      },
      "text/plain": [
       "VBox(children=(HBox(children=(VBox(children=(Tree(layout=Layout(align_items='stretch', border='solid 1px black…"
      ]
     },
     "metadata": {},
     "output_type": "display_data"
    }
   ],
   "source": [
    "mdm.interact()"
   ]
  },
  {
   "cell_type": "code",
   "execution_count": null,
   "id": "49475b09-1868-453e-9698-0f2a4e412f34",
   "metadata": {},
   "outputs": [],
   "source": []
  }
 ],
 "metadata": {
  "kernelspec": {
   "display_name": "bmcs_env",
   "language": "python",
   "name": "bmcs_env"
  },
  "language_info": {
   "codemirror_mode": {
    "name": "ipython",
    "version": 3
   },
   "file_extension": ".py",
   "mimetype": "text/x-python",
   "name": "python",
   "nbconvert_exporter": "python",
   "pygments_lexer": "ipython3",
   "version": "3.8.8"
  }
 },
 "nbformat": 4,
 "nbformat_minor": 5
}
