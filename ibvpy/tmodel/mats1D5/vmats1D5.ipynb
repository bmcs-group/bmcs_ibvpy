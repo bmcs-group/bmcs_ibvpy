{
 "cells": [
  {
   "cell_type": "code",
   "execution_count": null,
   "id": "eight-vaccine",
   "metadata": {},
   "outputs": [],
   "source": [
    "%matplotlib widget"
   ]
  },
  {
   "cell_type": "code",
   "execution_count": null,
   "id": "dutch-mathematics",
   "metadata": {},
   "outputs": [],
   "source": [
    "from ibvpy.tmodel.mats1D5.vmats1D5_bondslip1D import \\\n",
    "    MATSBondSlipMultiLinear, MATSBondSlipD"
   ]
  },
  {
   "cell_type": "code",
   "execution_count": null,
   "id": "9bd9b4f9-3590-44d2-bb36-2e89b796dfbe",
   "metadata": {},
   "outputs": [],
   "source": [
    "MATSBondSlipD().interact()"
   ]
  },
  {
   "cell_type": "code",
   "execution_count": null,
   "id": "sitting-buddy",
   "metadata": {},
   "outputs": [],
   "source": [
    "bs = MATSBondSlipMultiLinear(s_data = \"0,1,2\", tau_data=\"0,1,0\")"
   ]
  },
  {
   "cell_type": "code",
   "execution_count": null,
   "id": "saving-graham",
   "metadata": {},
   "outputs": [],
   "source": [
    "bs.s_tau_table"
   ]
  },
  {
   "cell_type": "code",
   "execution_count": null,
   "id": "c7f6ff81-9e56-4bfb-a290-ff13fc24b53a",
   "metadata": {},
   "outputs": [],
   "source": [
    "mats_d = MATSBondSlipD()"
   ]
  },
  {
   "cell_type": "code",
   "execution_count": null,
   "id": "d9347e47-d9ad-40ba-a7ae-5dfccbd68bb2",
   "metadata": {},
   "outputs": [],
   "source": [
    "mats_d.omega_fn_"
   ]
  },
  {
   "cell_type": "code",
   "execution_count": null,
   "id": "94245b72-0b36-47a5-b5c6-2f26088ee26d",
   "metadata": {},
   "outputs": [],
   "source": [
    "mats_d.interact()"
   ]
  },
  {
   "cell_type": "code",
   "execution_count": null,
   "id": "d4036559-9fb9-4406-9141-c1cc62e73c99",
   "metadata": {},
   "outputs": [],
   "source": []
  }
 ],
 "metadata": {
  "kernelspec": {
   "display_name": "bmcs_env",
   "language": "python",
   "name": "bmcs_env"
  },
  "language_info": {
   "codemirror_mode": {
    "name": "ipython",
    "version": 3
   },
   "file_extension": ".py",
   "mimetype": "text/x-python",
   "name": "python",
   "nbconvert_exporter": "python",
   "pygments_lexer": "ipython3"
  },
  "toc": {
   "base_numbering": 1,
   "nav_menu": {},
   "number_sections": true,
   "sideBar": true,
   "skip_h1_title": false,
   "title_cell": "Table of Contents",
   "title_sidebar": "Contents",
   "toc_cell": false,
   "toc_position": {},
   "toc_section_display": true,
   "toc_window_display": true
  }
 },
 "nbformat": 4,
 "nbformat_minor": 5
}
