{
 "cells": [
  {
   "cell_type": "code",
   "execution_count": 1,
   "id": "eight-vaccine",
   "metadata": {},
   "outputs": [],
   "source": [
    "%matplotlib widget"
   ]
  },
  {
   "cell_type": "code",
   "execution_count": 2,
   "id": "dutch-mathematics",
   "metadata": {},
   "outputs": [],
   "source": [
    "from ibvpy.tmodel.mats1D5.vmats1D5_bondslip1D import MATSBondSlipMultiLinear"
   ]
  },
  {
   "cell_type": "code",
   "execution_count": 3,
   "id": "sitting-buddy",
   "metadata": {},
   "outputs": [],
   "source": [
    "bs = MATSBondSlipMultiLinear(s_data = \"0,1,2\", tau_data=\"0,1,0\")"
   ]
  },
  {
   "cell_type": "code",
   "execution_count": 4,
   "id": "saving-graham",
   "metadata": {},
   "outputs": [
    {
     "data": {
      "text/plain": [
       "(array([0., 1., 2.]), array([0., 1., 0.]))"
      ]
     },
     "execution_count": 4,
     "metadata": {},
     "output_type": "execute_result"
    }
   ],
   "source": [
    "bs.s_tau_table"
   ]
  },
  {
   "cell_type": "code",
   "execution_count": 5,
   "id": "pressing-emphasis",
   "metadata": {},
   "outputs": [
    {
     "data": {
      "application/vnd.jupyter.widget-view+json": {
       "model_id": "534a471c7cd14b7b9c13c0a44f6e9114",
       "version_major": 2,
       "version_minor": 0
      },
      "text/plain": [
       "HBox(children=(VBox(children=(Tree(layout=Layout(align_items='stretch', border='solid 1px black', display='fle…"
      ]
     },
     "metadata": {},
     "output_type": "display_data"
    }
   ],
   "source": [
    "bs.app()"
   ]
  },
  {
   "cell_type": "code",
   "execution_count": null,
   "id": "unknown-sphere",
   "metadata": {},
   "outputs": [],
   "source": []
  }
 ],
 "metadata": {
  "kernelspec": {
   "display_name": "bmcs_env",
   "language": "python",
   "name": "bmcs_env"
  },
  "language_info": {
   "codemirror_mode": {
    "name": "ipython",
    "version": 3
   },
   "file_extension": ".py",
   "mimetype": "text/x-python",
   "name": "python",
   "nbconvert_exporter": "python",
   "pygments_lexer": "ipython3",
   "version": "3.9.1"
  },
  "toc": {
   "base_numbering": 1,
   "nav_menu": {},
   "number_sections": true,
   "sideBar": true,
   "skip_h1_title": false,
   "title_cell": "Table of Contents",
   "title_sidebar": "Contents",
   "toc_cell": false,
   "toc_position": {},
   "toc_section_display": true,
   "toc_window_display": true
  }
 },
 "nbformat": 4,
 "nbformat_minor": 5
}
