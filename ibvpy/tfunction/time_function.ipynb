{
 "cells": [
  {
   "cell_type": "markdown",
   "id": "7b235087-c4ee-4443-94c8-108a86e20a09",
   "metadata": {},
   "source": [
    "# **Time function classes** "
   ]
  },
  {
   "cell_type": "markdown",
   "id": "e94fe13e-ffa0-489c-ba65-e594510d9639",
   "metadata": {},
   "source": [
    "To provide an easily configurable support for the loading scenarios applied in standardized tests, and to introduce a framework for a simple inclusion of more advanced loading scenarios, like stochastically defined wind loads, the `time_function` module defines several classes parameterized time function classes."
   ]
  },
  {
   "cell_type": "code",
   "execution_count": 1,
   "id": "a3ca64a6-746e-44b6-826f-c741ff9eb041",
   "metadata": {},
   "outputs": [],
   "source": [
    "%matplotlib widget\n",
    "import time_function as tf"
   ]
  },
  {
   "cell_type": "code",
   "execution_count": 2,
   "id": "62b3a42b-4a72-4fce-baa9-3da64d49ebc8",
   "metadata": {},
   "outputs": [
    {
     "data": {
      "application/vnd.jupyter.widget-view+json": {
       "model_id": "3ed6dcfcf68d4758bc637020c8bff3b7",
       "version_major": 2,
       "version_minor": 0
      },
      "text/plain": [
       "VBox(children=(HBox(children=(VBox(children=(Tree(layout=Layout(align_items='stretch', border='solid 1px black…"
      ]
     },
     "metadata": {},
     "output_type": "display_data"
    }
   ],
   "source": [
    "tf.TFCyclicSin(number_of_cycles=3, phase_shift=0.25).interact()"
   ]
  },
  {
   "cell_type": "code",
   "execution_count": 3,
   "id": "97c905ba-8bdf-4f5f-97f4-a668e87a85c3",
   "metadata": {},
   "outputs": [
    {
     "data": {
      "application/vnd.jupyter.widget-view+json": {
       "model_id": "739642d58ba84f5cb90e466b6a71332f",
       "version_major": 2,
       "version_minor": 0
      },
      "text/plain": [
       "VBox(children=(HBox(children=(VBox(children=(Tree(layout=Layout(align_items='stretch', border='solid 1px black…"
      ]
     },
     "metadata": {},
     "output_type": "display_data"
    }
   ],
   "source": [
    "tf.TFSelector().interact()"
   ]
  },
  {
   "cell_type": "code",
   "execution_count": 4,
   "id": "2fc0ed66-43e6-417a-8eb5-b10df42b2bec",
   "metadata": {},
   "outputs": [
    {
     "data": {
      "application/vnd.jupyter.widget-view+json": {
       "model_id": "f6f6f708022940a49e0dc51823d62846",
       "version_major": 2,
       "version_minor": 0
      },
      "text/plain": [
       "VBox(children=(HBox(children=(VBox(children=(Tree(layout=Layout(align_items='stretch', border='solid 1px black…"
      ]
     },
     "metadata": {},
     "output_type": "display_data"
    }
   ],
   "source": [
    "tf.TFMonotonic().interact()"
   ]
  },
  {
   "cell_type": "code",
   "execution_count": 5,
   "id": "1779b3b4-a18b-49d6-b2b9-aec4f9de01ea",
   "metadata": {},
   "outputs": [
    {
     "data": {
      "application/vnd.jupyter.widget-view+json": {
       "model_id": "15b5aca2161741f6bdc6741ad6e7e802",
       "version_major": 2,
       "version_minor": 0
      },
      "text/plain": [
       "VBox(children=(HBox(children=(VBox(children=(Tree(layout=Layout(align_items='stretch', border='solid 1px black…"
      ]
     },
     "metadata": {},
     "output_type": "display_data"
    }
   ],
   "source": [
    "tfc_incr = tf.TFCyclicSymmetricIncreasing()\n",
    "tfc_incr.interact()"
   ]
  },
  {
   "cell_type": "code",
   "execution_count": 6,
   "id": "c9b191b6-9982-4121-8ffa-633ab20b87f6",
   "metadata": {},
   "outputs": [
    {
     "data": {
      "application/vnd.jupyter.widget-view+json": {
       "model_id": "f33e815ff9874826b4f12e73d0f2d56e",
       "version_major": 2,
       "version_minor": 0
      },
      "text/plain": [
       "VBox(children=(HBox(children=(VBox(children=(Tree(layout=Layout(align_items='stretch', border='solid 1px black…"
      ]
     },
     "metadata": {},
     "output_type": "display_data"
    }
   ],
   "source": [
    "tfc_incr = tf.TFCyclicSymmetricConstant()\n",
    "tfc_incr.interact()"
   ]
  },
  {
   "cell_type": "code",
   "execution_count": 7,
   "id": "0fd4457d-2243-49ad-82cb-99383cdd2692",
   "metadata": {},
   "outputs": [
    {
     "data": {
      "application/vnd.jupyter.widget-view+json": {
       "model_id": "711b06c8ec87434781d04aa032de1568",
       "version_major": 2,
       "version_minor": 0
      },
      "text/plain": [
       "VBox(children=(HBox(children=(VBox(children=(Tree(layout=Layout(align_items='stretch', border='solid 1px black…"
      ]
     },
     "metadata": {},
     "output_type": "display_data"
    }
   ],
   "source": [
    "tfc_incr = tf.TFCyclicNonsymmetricIncreasing()\n",
    "tfc_incr.interact()"
   ]
  },
  {
   "cell_type": "code",
   "execution_count": 8,
   "id": "7a42553a-ad12-4a2f-9fb4-be1d41bba07d",
   "metadata": {},
   "outputs": [
    {
     "data": {
      "application/vnd.jupyter.widget-view+json": {
       "model_id": "5700c4fbf092438db8a16155e1fec46d",
       "version_major": 2,
       "version_minor": 0
      },
      "text/plain": [
       "VBox(children=(HBox(children=(VBox(children=(Tree(layout=Layout(align_items='stretch', border='solid 1px black…"
      ]
     },
     "metadata": {},
     "output_type": "display_data"
    }
   ],
   "source": [
    "tfc_incr = tf.TFCyclicNonsymmetricConstant()\n",
    "tfc_incr.interact()"
   ]
  },
  {
   "cell_type": "code",
   "execution_count": 9,
   "id": "8d7d38ff-067f-43b0-80be-8875f8e3db83",
   "metadata": {},
   "outputs": [],
   "source": [
    "from bmcs_utils.api import \\\n",
    "    Model, Int, Float, FloatRangeEditor, View, Item, EitherType\n",
    "from scipy.interpolate import interp1d\n",
    "import traits.api as tr\n",
    "import numpy as np"
   ]
  },
  {
   "cell_type": "code",
   "execution_count": 10,
   "id": "19495b9e-2990-427a-97fc-c44a70ade43e",
   "metadata": {},
   "outputs": [],
   "source": [
    "t_max=1\n",
    "range_factor=1\n",
    "loading_ratio=0\n",
    "time_ratio=0.5\n",
    "number_of_cycles = 10\n",
    "n_levels = int(number_of_cycles) * 2\n",
    "d_levels = np.linspace(0, 1, n_levels)\n",
    "d_levels.reshape(-1, 2)[:, 0] *= -1\n",
    "d_history = d_levels.flatten()\n",
    "t_arr = np.linspace(0, t_max, len(d_history))\n",
    "interp1d(t_arr, d_history, bounds_error=False, fill_value=t_max)\n",
    "d_history = np.array([0, 1 *  loading_ratio *range_factor , 1 *range_factor ])\n",
    "t_arr = np.array([0, t_max  * time_ratio * range_factor , t_max *range_factor])"
   ]
  },
  {
   "cell_type": "code",
   "execution_count": 11,
   "id": "8f667565-7c3c-4b8c-a635-6daffb080d59",
   "metadata": {},
   "outputs": [
    {
     "name": "stdout",
     "output_type": "stream",
     "text": [
      "[0 0 1]\n",
      "[0.  0.5 1. ]\n"
     ]
    }
   ],
   "source": [
    "print(d_history)\n",
    "print(t_arr)\n"
   ]
  },
  {
   "cell_type": "code",
   "execution_count": 12,
   "id": "802dab2f-0266-4cd0-9db7-8b5440a290a0",
   "metadata": {},
   "outputs": [
    {
     "data": {
      "application/vnd.jupyter.widget-view+json": {
       "model_id": "6c00557a98104b51ac8489a4a09d2f3b",
       "version_major": 2,
       "version_minor": 0
      },
      "text/plain": [
       "VBox(children=(HBox(children=(VBox(children=(Tree(layout=Layout(align_items='stretch', border='solid 1px black…"
      ]
     },
     "metadata": {},
     "output_type": "display_data"
    }
   ],
   "source": [
    "tfc_incr = tf.TFBilinear(loading_ratio=0, time_ratio=0.5)\n",
    "tfc_incr.interact()"
   ]
  },
  {
   "cell_type": "code",
   "execution_count": null,
   "id": "9547aca0-0021-4e76-9f65-9fb7530d7a00",
   "metadata": {},
   "outputs": [],
   "source": []
  }
 ],
 "metadata": {
  "kernelspec": {
   "display_name": "bmcs_env",
   "language": "python",
   "name": "bmcs_env"
  },
  "language_info": {
   "codemirror_mode": {
    "name": "ipython",
    "version": 3
   },
   "file_extension": ".py",
   "mimetype": "text/x-python",
   "name": "python",
   "nbconvert_exporter": "python",
   "pygments_lexer": "ipython3",
   "version": "3.9.5"
  }
 },
 "nbformat": 4,
 "nbformat_minor": 5
}
