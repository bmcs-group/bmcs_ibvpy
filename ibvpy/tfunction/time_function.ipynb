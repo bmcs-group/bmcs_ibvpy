{
 "cells": [
  {
   "cell_type": "markdown",
   "id": "7b235087-c4ee-4443-94c8-108a86e20a09",
   "metadata": {},
   "source": [
    "# **Time function classes** "
   ]
  },
  {
   "cell_type": "markdown",
   "id": "e94fe13e-ffa0-489c-ba65-e594510d9639",
   "metadata": {},
   "source": [
    "To provide an easily configurable support for the loading scenarios applied in standardized tests, and to introduce a framework for a simple inclusion of more advanced loading scenarios, like stochastically defined wind loads, the `time_function` module defines several classes parameterized time function classes."
   ]
  },
  {
   "cell_type": "code",
   "execution_count": 1,
   "id": "a3ca64a6-746e-44b6-826f-c741ff9eb041",
   "metadata": {},
   "outputs": [],
   "source": [
    "%matplotlib widget\n",
    "import time_function as tf"
   ]
  },
  {
   "cell_type": "code",
   "execution_count": 2,
   "id": "62b3a42b-4a72-4fce-baa9-3da64d49ebc8",
   "metadata": {},
   "outputs": [
    {
     "data": {
      "application/vnd.jupyter.widget-view+json": {
       "model_id": "0d457e0bb1914bb6b0674871dc70a1fb",
       "version_major": 2,
       "version_minor": 0
      },
      "text/plain": [
       "VBox(children=(HBox(children=(VBox(children=(Tree(layout=Layout(align_items='stretch', border='solid 1px black…"
      ]
     },
     "metadata": {},
     "output_type": "display_data"
    }
   ],
   "source": [
    "tf.TFCyclicSin(number_of_cycles=3, phase_shift=0.25).interact()"
   ]
  },
  {
   "cell_type": "code",
   "execution_count": 3,
   "id": "97c905ba-8bdf-4f5f-97f4-a668e87a85c3",
   "metadata": {},
   "outputs": [
    {
     "data": {
      "application/vnd.jupyter.widget-view+json": {
       "model_id": "df66b73a2cf34a5995655c6a76abbeeb",
       "version_major": 2,
       "version_minor": 0
      },
      "text/plain": [
       "VBox(children=(HBox(children=(VBox(children=(Tree(layout=Layout(align_items='stretch', border='solid 1px black…"
      ]
     },
     "metadata": {},
     "output_type": "display_data"
    }
   ],
   "source": [
    "tf.TFSelector().interact()"
   ]
  },
  {
   "cell_type": "code",
   "execution_count": 4,
   "id": "2fc0ed66-43e6-417a-8eb5-b10df42b2bec",
   "metadata": {},
   "outputs": [
    {
     "data": {
      "application/vnd.jupyter.widget-view+json": {
       "model_id": "1f96d9d38e2e4aec8b92718069af122c",
       "version_major": 2,
       "version_minor": 0
      },
      "text/plain": [
       "VBox(children=(HBox(children=(VBox(children=(Tree(layout=Layout(align_items='stretch', border='solid 1px black…"
      ]
     },
     "metadata": {},
     "output_type": "display_data"
    }
   ],
   "source": [
    "tf.TFMonotonic().interact()"
   ]
  },
  {
   "cell_type": "code",
   "execution_count": 5,
   "id": "1779b3b4-a18b-49d6-b2b9-aec4f9de01ea",
   "metadata": {},
   "outputs": [
    {
     "data": {
      "application/vnd.jupyter.widget-view+json": {
       "model_id": "eabee06db0d74b5b8706383b28db88ac",
       "version_major": 2,
       "version_minor": 0
      },
      "text/plain": [
       "VBox(children=(HBox(children=(VBox(children=(Tree(layout=Layout(align_items='stretch', border='solid 1px black…"
      ]
     },
     "metadata": {},
     "output_type": "display_data"
    }
   ],
   "source": [
    "tfc_incr = tf.TFCyclicSymmetricIncreasing()\n",
    "tfc_incr.interact()"
   ]
  },
  {
   "cell_type": "code",
   "execution_count": 6,
   "id": "c9b191b6-9982-4121-8ffa-633ab20b87f6",
   "metadata": {},
   "outputs": [
    {
     "data": {
      "application/vnd.jupyter.widget-view+json": {
       "model_id": "c9996637db9e414b9b9e57ba4dd127a0",
       "version_major": 2,
       "version_minor": 0
      },
      "text/plain": [
       "VBox(children=(HBox(children=(VBox(children=(Tree(layout=Layout(align_items='stretch', border='solid 1px black…"
      ]
     },
     "metadata": {},
     "output_type": "display_data"
    }
   ],
   "source": [
    "tfc_incr = tf.TFCyclicSymmetricConstant()\n",
    "tfc_incr.interact()"
   ]
  },
  {
   "cell_type": "code",
   "execution_count": 7,
   "id": "0fd4457d-2243-49ad-82cb-99383cdd2692",
   "metadata": {},
   "outputs": [
    {
     "data": {
      "application/vnd.jupyter.widget-view+json": {
       "model_id": "219bbe0483394accbf47b697cdd436ef",
       "version_major": 2,
       "version_minor": 0
      },
      "text/plain": [
       "VBox(children=(HBox(children=(VBox(children=(Tree(layout=Layout(align_items='stretch', border='solid 1px black…"
      ]
     },
     "metadata": {},
     "output_type": "display_data"
    }
   ],
   "source": [
    "tfc_incr = tf.TFCyclicNonsymmetricIncreasing()\n",
    "tfc_incr.interact()"
   ]
  },
  {
   "cell_type": "code",
   "execution_count": 3,
   "id": "7a42553a-ad12-4a2f-9fb4-be1d41bba07d",
   "metadata": {},
   "outputs": [
    {
     "data": {
      "application/vnd.jupyter.widget-view+json": {
       "model_id": "23b948d2d9e6454dbbc31a7446b8b692",
       "version_major": 2,
       "version_minor": 0
      },
      "text/plain": [
       "VBox(children=(HBox(children=(VBox(children=(Tree(layout=Layout(align_items='stretch', border='solid 1px black…"
      ]
     },
     "metadata": {},
     "output_type": "display_data"
    }
   ],
   "source": [
    "tfc_incr = tf.TFCyclicNonsymmetricConstant()\n",
    "tfc_incr.interact()"
   ]
  },
  {
   "cell_type": "code",
   "execution_count": 11,
   "id": "8d7d38ff-067f-43b0-80be-8875f8e3db83",
   "metadata": {},
   "outputs": [],
   "source": [
    "from bmcs_utils.api import \\\n",
    "    Model, Int, Float, FloatRangeEditor, View, Item, EitherType\n",
    "from scipy.interpolate import interp1d\n",
    "import traits.api as tr\n",
    "import numpy as np"
   ]
  },
  {
   "cell_type": "code",
   "execution_count": 35,
   "id": "19495b9e-2990-427a-97fc-c44a70ade43e",
   "metadata": {},
   "outputs": [
    {
     "name": "stdout",
     "output_type": "stream",
     "text": [
      "[0.  0.  0.  0.  1.  0.5 1.  0.5 1.  0.5 1.  0.5 1.  0.5 1.  0.5 1.  0.5\n",
      " 1.  0.5 1.  0.5 1.  0.5]\n"
     ]
    },
    {
     "data": {
      "text/plain": [
       "<scipy.interpolate.interpolate.interp1d at 0x24a54e725e0>"
      ]
     },
     "execution_count": 35,
     "metadata": {},
     "output_type": "execute_result"
    }
   ],
   "source": [
    "t_max=1\n",
    "range_factor=1\n",
    "loading_ratio=0\n",
    "time_ratio=0.5\n",
    "number_of_cycles = 10\n",
    "number_of_cycles = 10\n",
    "unloading_ratio = 0.5\n",
    "shift_cycles = 2\n",
    "d_1 = np.zeros(1)\n",
    "d_2 = np.zeros(((number_of_cycles + shift_cycles) * 2, ))\n",
    "d_2.reshape(-1, 2)[shift_cycles:, 0] = 1\n",
    "d_2.reshape(-1, 2)[shift_cycles:, 1] = unloading_ratio\n",
    "print(d_2)\n",
    "d_history = d_2.flatten()\n",
    "d_arr = np.hstack((d_1, d_history))\n",
    "t_arr = np.linspace(0, t_max, len(d_arr))\n",
    "interp1d(t_arr, d_arr, bounds_error=False, fill_value=t_max)"
   ]
  },
  {
   "cell_type": "code",
   "execution_count": 36,
   "id": "8f667565-7c3c-4b8c-a635-6daffb080d59",
   "metadata": {},
   "outputs": [
    {
     "name": "stdout",
     "output_type": "stream",
     "text": [
      "[0.  0.  0.  0.  1.  0.5 1.  0.5 1.  0.5 1.  0.5 1.  0.5 1.  0.5 1.  0.5\n",
      " 1.  0.5 1.  0.5 1.  0.5]\n",
      "[0.         0.04166667 0.08333333 0.125      0.16666667 0.20833333\n",
      " 0.25       0.29166667 0.33333333 0.375      0.41666667 0.45833333\n",
      " 0.5        0.54166667 0.58333333 0.625      0.66666667 0.70833333\n",
      " 0.75       0.79166667 0.83333333 0.875      0.91666667 0.95833333\n",
      " 1.        ]\n"
     ]
    }
   ],
   "source": [
    "print(d_history)\n",
    "print(t_arr)\n"
   ]
  },
  {
   "cell_type": "code",
   "execution_count": 9,
   "id": "802dab2f-0266-4cd0-9db7-8b5440a290a0",
   "metadata": {},
   "outputs": [
    {
     "data": {
      "application/vnd.jupyter.widget-view+json": {
       "model_id": "a5fe54e6dfb94d1ab093a40f42b1c01c",
       "version_major": 2,
       "version_minor": 0
      },
      "text/plain": [
       "VBox(children=(HBox(children=(VBox(children=(Tree(layout=Layout(align_items='stretch', border='solid 1px black…"
      ]
     },
     "metadata": {},
     "output_type": "display_data"
    }
   ],
   "source": [
    "tfc_incr = tf.TFBilinear(loading_ratio=0, time_ratio=0.5)\n",
    "tfc_incr.interact()"
   ]
  },
  {
   "cell_type": "code",
   "execution_count": null,
   "id": "9547aca0-0021-4e76-9f65-9fb7530d7a00",
   "metadata": {},
   "outputs": [],
   "source": []
  }
 ],
 "metadata": {
  "kernelspec": {
   "display_name": "bmcs_env",
   "language": "python",
   "name": "bmcs_env"
  },
  "language_info": {
   "codemirror_mode": {
    "name": "ipython",
    "version": 3
   },
   "file_extension": ".py",
   "mimetype": "text/x-python",
   "name": "python",
   "nbconvert_exporter": "python",
   "pygments_lexer": "ipython3",
   "version": "3.9.6"
  }
 },
 "nbformat": 4,
 "nbformat_minor": 5
}
