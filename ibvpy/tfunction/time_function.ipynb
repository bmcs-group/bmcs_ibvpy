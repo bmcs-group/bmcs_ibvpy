{
 "cells": [
  {
   "cell_type": "markdown",
   "id": "7b235087-c4ee-4443-94c8-108a86e20a09",
   "metadata": {},
   "source": [
    "# **Time function classes** "
   ]
  },
  {
   "cell_type": "markdown",
   "id": "e94fe13e-ffa0-489c-ba65-e594510d9639",
   "metadata": {},
   "source": [
    "To provide an easily configurable support for the loading scenarios applied in standardized tests, and to introduce a framework for a simple inclusion of more advanced loading scenarios, like stochastically defined wind loads, the `time_function` module defines several classes parameterized time function classes."
   ]
  },
  {
   "cell_type": "code",
   "execution_count": 4,
   "id": "a3ca64a6-746e-44b6-826f-c741ff9eb041",
   "metadata": {},
   "outputs": [],
   "source": [
    "%matplotlib widget\n",
    "import time_function as tf"
   ]
  },
  {
   "cell_type": "code",
   "execution_count": 5,
   "id": "62b3a42b-4a72-4fce-baa9-3da64d49ebc8",
   "metadata": {},
   "outputs": [
    {
     "data": {
      "application/vnd.jupyter.widget-view+json": {
       "model_id": "47237513b78c4017af94e4a10377e9e9",
       "version_major": 2,
       "version_minor": 0
      },
      "text/plain": [
       "VBox(children=(HBox(children=(VBox(children=(Tree(layout=Layout(align_items='stretch', border='solid 1px black…"
      ]
     },
     "metadata": {},
     "output_type": "display_data"
    }
   ],
   "source": [
    "tf.TFCyclicSin(number_of_cycles=3, phase_shift=0.25).interact()"
   ]
  },
  {
   "cell_type": "code",
   "execution_count": 2,
   "id": "97c905ba-8bdf-4f5f-97f4-a668e87a85c3",
   "metadata": {},
   "outputs": [
    {
     "data": {
      "application/vnd.jupyter.widget-view+json": {
       "model_id": "ff15fbec1df1466a835bcce542846a9d",
       "version_major": 2,
       "version_minor": 0
      },
      "text/plain": [
       "VBox(children=(HBox(children=(VBox(children=(Tree(layout=Layout(align_items='stretch', border='solid 1px black…"
      ]
     },
     "metadata": {},
     "output_type": "display_data"
    }
   ],
   "source": [
    "tf.TFSelector().interact()"
   ]
  },
  {
   "cell_type": "code",
   "execution_count": null,
   "id": "2fc0ed66-43e6-417a-8eb5-b10df42b2bec",
   "metadata": {},
   "outputs": [],
   "source": [
    "tf.TFMonotonic().interact()"
   ]
  },
  {
   "cell_type": "code",
   "execution_count": 3,
   "id": "1779b3b4-a18b-49d6-b2b9-aec4f9de01ea",
   "metadata": {},
   "outputs": [
    {
     "data": {
      "application/vnd.jupyter.widget-view+json": {
       "model_id": "85f56c9eae694fcea6aa398804739fa9",
       "version_major": 2,
       "version_minor": 0
      },
      "text/plain": [
       "VBox(children=(HBox(children=(VBox(children=(Tree(layout=Layout(align_items='stretch', border='solid 1px black…"
      ]
     },
     "metadata": {},
     "output_type": "display_data"
    }
   ],
   "source": [
    "tfc_incr = tf.TFCyclicSymmetricIncreasing()\n",
    "tfc_incr.interact()"
   ]
  },
  {
   "cell_type": "code",
   "execution_count": 4,
   "id": "c9b191b6-9982-4121-8ffa-633ab20b87f6",
   "metadata": {},
   "outputs": [
    {
     "data": {
      "application/vnd.jupyter.widget-view+json": {
       "model_id": "b1788f7c05bc4530be6c17453c3cff0b",
       "version_major": 2,
       "version_minor": 0
      },
      "text/plain": [
       "VBox(children=(HBox(children=(VBox(children=(Tree(layout=Layout(align_items='stretch', border='solid 1px black…"
      ]
     },
     "metadata": {},
     "output_type": "display_data"
    }
   ],
   "source": [
    "tfc_incr = tf.TFCyclicSymmetricConstant()\n",
    "tfc_incr.interact()"
   ]
  },
  {
   "cell_type": "code",
   "execution_count": 5,
   "id": "0fd4457d-2243-49ad-82cb-99383cdd2692",
   "metadata": {},
   "outputs": [
    {
     "data": {
      "application/vnd.jupyter.widget-view+json": {
       "model_id": "653907c0be5c434d8a1e448665032549",
       "version_major": 2,
       "version_minor": 0
      },
      "text/plain": [
       "VBox(children=(HBox(children=(VBox(children=(Tree(layout=Layout(align_items='stretch', border='solid 1px black…"
      ]
     },
     "metadata": {},
     "output_type": "display_data"
    }
   ],
   "source": [
    "tfc_incr = tf.TFCyclicNonsymmetricIncreasing()\n",
    "tfc_incr.interact()"
   ]
  },
  {
   "cell_type": "code",
   "execution_count": 6,
   "id": "7a42553a-ad12-4a2f-9fb4-be1d41bba07d",
   "metadata": {},
   "outputs": [
    {
     "data": {
      "application/vnd.jupyter.widget-view+json": {
       "model_id": "2f8fe70bd4d64aa4aee12463caef5608",
       "version_major": 2,
       "version_minor": 0
      },
      "text/plain": [
       "VBox(children=(HBox(children=(VBox(children=(Tree(layout=Layout(align_items='stretch', border='solid 1px black…"
      ]
     },
     "metadata": {},
     "output_type": "display_data"
    }
   ],
   "source": [
    "tfc_incr = tf.TFCyclicNonsymmetricConstant()\n",
    "tfc_incr.interact()"
   ]
  },
  {
   "cell_type": "code",
   "execution_count": null,
   "id": "802dab2f-0266-4cd0-9db7-8b5440a290a0",
   "metadata": {},
   "outputs": [],
   "source": []
  }
 ],
 "metadata": {
  "kernelspec": {
   "display_name": "bmcs_env",
   "language": "python",
   "name": "bmcs_env"
  },
  "language_info": {
   "codemirror_mode": {
    "name": "ipython",
    "version": 3
   },
   "file_extension": ".py",
   "mimetype": "text/x-python",
   "name": "python",
   "nbconvert_exporter": "python",
   "pygments_lexer": "ipython3",
   "version": "3.8.8"
  }
 },
 "nbformat": 4,
 "nbformat_minor": 5
}
