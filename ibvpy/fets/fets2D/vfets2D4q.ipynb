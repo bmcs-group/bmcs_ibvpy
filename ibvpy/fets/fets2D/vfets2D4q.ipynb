{
 "cells": [
  {
   "cell_type": "code",
   "execution_count": 1,
   "metadata": {
    "collapsed": true
   },
   "outputs": [],
   "source": [
    "from ibvpy.fets.fets2D.vfets2D4q import FETS2D4Q\n",
    "\n",
    "fets = FETS2D4Q()\n",
    "\n",
    "#fets.N_im"
   ]
  },
  {
   "cell_type": "code",
   "execution_count": 2,
   "outputs": [],
   "source": [
    "import ibvpy.fets.fets2D.vfets2D4q as fm"
   ],
   "metadata": {
    "collapsed": false,
    "pycharm": {
     "name": "#%%\n"
    }
   }
  },
  {
   "cell_type": "code",
   "execution_count": 3,
   "outputs": [
    {
     "data": {
      "text/plain": "(array([[0.62200847, 0.16666667, 0.0446582 , 0.16666667],\n        [0.16666667, 0.62200847, 0.16666667, 0.0446582 ],\n        [0.0446582 , 0.16666667, 0.62200847, 0.16666667],\n        [0.16666667, 0.0446582 , 0.16666667, 0.62200847]]),\n array([[[-0.39433757, -0.39433757],\n         [-0.39433757, -0.10566243],\n         [-0.10566243, -0.10566243],\n         [-0.10566243, -0.39433757]],\n \n        [[ 0.39433757, -0.10566243],\n         [ 0.39433757, -0.39433757],\n         [ 0.10566243, -0.39433757],\n         [ 0.10566243, -0.10566243]],\n \n        [[ 0.10566243,  0.10566243],\n         [ 0.10566243,  0.39433757],\n         [ 0.39433757,  0.39433757],\n         [ 0.39433757,  0.10566243]],\n \n        [[-0.10566243,  0.39433757],\n         [-0.10566243,  0.10566243],\n         [-0.39433757,  0.10566243],\n         [-0.39433757,  0.39433757]]]),\n array([[[-0.5, -0.5],\n         [-0.5,  0. ],\n         [ 0. ,  0. ],\n         [ 0. , -0.5]],\n \n        [[ 0.5,  0. ],\n         [ 0.5, -0.5],\n         [ 0. , -0.5],\n         [ 0. ,  0. ]],\n \n        [[ 0. ,  0. ],\n         [ 0. ,  0.5],\n         [ 0.5,  0.5],\n         [ 0.5,  0. ]],\n \n        [[ 0. ,  0.5],\n         [ 0. ,  0. ],\n         [-0.5,  0. ],\n         [-0.5,  0.5]]]))"
     },
     "execution_count": 3,
     "metadata": {},
     "output_type": "execute_result"
    }
   ],
   "source": [
    "fets.shape_function_values"
   ],
   "metadata": {
    "collapsed": false,
    "pycharm": {
     "name": "#%%\n"
    }
   }
  },
  {
   "cell_type": "code",
   "execution_count": null,
   "outputs": [],
   "source": [],
   "metadata": {
    "collapsed": false,
    "pycharm": {
     "name": "#%%\n"
    }
   }
  }
 ],
 "metadata": {
  "kernelspec": {
   "display_name": "Python 3",
   "language": "python",
   "name": "python3"
  },
  "language_info": {
   "codemirror_mode": {
    "name": "ipython",
    "version": 2
   },
   "file_extension": ".py",
   "mimetype": "text/x-python",
   "name": "python",
   "nbconvert_exporter": "python",
   "pygments_lexer": "ipython2",
   "version": "2.7.6"
  }
 },
 "nbformat": 4,
 "nbformat_minor": 0
}