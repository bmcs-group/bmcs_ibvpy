{
 "cells": [
  {
   "cell_type": "markdown",
   "id": "a3419dc8-d4f0-40d2-9d7e-92408bff60e3",
   "metadata": {},
   "source": [
    "# Matrix assembly"
   ]
  },
  {
   "cell_type": "code",
   "execution_count": null,
   "id": "aceb263a-2814-45cc-83c4-86481bf0409c",
   "metadata": {},
   "outputs": [],
   "source": [
    "from ibvpy.mathkit.linalg.sys_mtx_assembly import SysMtxAssembly\n",
    "import numpy as np"
   ]
  },
  {
   "cell_type": "markdown",
   "id": "47404e47-f52e-4842-8496-3459ccc1bfc0",
   "metadata": {},
   "source": [
    "## Bar 1"
   ]
  },
  {
   "cell_type": "code",
   "execution_count": null,
   "id": "487b5b7b-6a05-41d1-ab2f-4203ce0db4c1",
   "metadata": {},
   "outputs": [],
   "source": [
    "def get_bar_mtx_array(shape):\n",
    "    '''Get an array of matrices and dof_maps corresponding to\n",
    "    a bar discretization\n",
    "    '''\n",
    "    k_oo = np.array([[10, -10],\n",
    "                    [-10, 10]], dtype='float_')\n",
    "\n",
    "    k_Eoo = np.array([k_oo for i in range(shape)], dtype=float)\n",
    "    O_Eo = np.array([\n",
    "        np.arange(shape), np.arange(shape) + 1], dtype=int).transpose()\n",
    "\n",
    "    return O_Eo, k_Eoo"
   ]
  },
  {
   "cell_type": "markdown",
   "id": "022ec67e-d49a-4516-9284-e84182f53726",
   "metadata": {},
   "source": [
    "## Index expression for assembly map"
   ]
  },
  {
   "cell_type": "code",
   "execution_count": null,
   "id": "74f7ce29-1382-4ccd-930f-c6961386cdfe",
   "metadata": {},
   "outputs": [],
   "source": [
    "O_Eo, k_Eoo = get_bar_mtx_array(shape=10)"
   ]
  },
  {
   "cell_type": "code",
   "execution_count": null,
   "id": "72664fb1-f2b6-4491-98f1-7061cce50582",
   "metadata": {},
   "outputs": [],
   "source": [
    "a = np.arange(2, dtype=np.int_)\n",
    "O, P = (np.einsum('a,Eo->aEo', (1-a), O_Eo)[:, :, :, None] + \n",
    "        np.einsum('a,Ep->aEp', a, O_Eo)[:, :, None, :])"
   ]
  },
  {
   "cell_type": "markdown",
   "id": "d7eb35be-c720-4c64-a8f7-b317f09d509f",
   "metadata": {},
   "source": [
    "## Example - uniaxial bar"
   ]
  },
  {
   "cell_type": "code",
   "execution_count": null,
   "id": "7ca27211-58af-4328-8fd9-3df1da2ece0a",
   "metadata": {},
   "outputs": [],
   "source": [
    "K = SysMtxAssembly()\n",
    "K.add_mtx_array(dof_map_arr=O_Eo, mtx_arr=k_Eoo)\n",
    "K.register_constraint(a=0,  u_a=0.)  # clamped end\n",
    "K.register_constraint(a=10, u_a=1.)\n",
    "K.register_constraint(a=10, u_a=1.)\n",
    "K.toarray()"
   ]
  },
  {
   "cell_type": "code",
   "execution_count": null,
   "id": "8ed4b19c-52a0-4eb6-9951-119795a5895a",
   "metadata": {},
   "outputs": [],
   "source": [
    "R = np.zeros(K.n_dofs)\n",
    "R"
   ]
  },
  {
   "cell_type": "code",
   "execution_count": null,
   "id": "089ea943-f204-41af-b2ea-4eb168f74ccd",
   "metadata": {},
   "outputs": [],
   "source": [
    "K.apply_constraints(R)"
   ]
  },
  {
   "cell_type": "code",
   "execution_count": null,
   "id": "449a9627-c976-4ce8-9f0c-d08b15850270",
   "metadata": {},
   "outputs": [],
   "source": [
    "K.toarray()"
   ]
  },
  {
   "cell_type": "code",
   "execution_count": null,
   "id": "cd0a7d34-5204-4463-88c6-8f1ea36a8b1e",
   "metadata": {},
   "outputs": [],
   "source": [
    "R"
   ]
  },
  {
   "cell_type": "code",
   "execution_count": null,
   "id": "e14f5883-e721-413c-97b2-94203688bff9",
   "metadata": {},
   "outputs": [],
   "source": [
    "U_O, _ = K.solve(R)\n",
    "U_O"
   ]
  },
  {
   "cell_type": "markdown",
   "id": "94afa475-20f6-45af-8d5b-5a820e78adf8",
   "metadata": {},
   "source": [
    "## Boundary conditions - linear algebra"
   ]
  },
  {
   "cell_type": "markdown",
   "id": "e85a021b-cea8-4cb7-9a8b-f61fbc1f559c",
   "metadata": {},
   "source": [
    "$$\n",
    "\\left[\n",
    "\\begin{array}{cc}\n",
    "K_{ab} & K_{an} \\\\\n",
    "K_{mb} & K_{mn} \\\\\n",
    "\\end{array}\n",
    "\\right]\n",
    "\\left[\n",
    "\\begin{array}{c}\n",
    "u_{b} \\\\ u_{n} \n",
    "\\end{array}\n",
    "\\right]\n",
    "=\n",
    "\\left[\n",
    "\\begin{array}{c}\n",
    "P_{a} \\\\ P_{m} \n",
    "\\end{array}\n",
    "\\right]\n",
    "$$"
   ]
  },
  {
   "cell_type": "markdown",
   "id": "0ac1e29c-d239-459f-9e05-12e459f55cee",
   "metadata": {},
   "source": [
    "$$\n",
    "\\left[\n",
    "\\begin{array}{c}\n",
    "u_{b} \\\\ u_{n} \n",
    "\\end{array}\n",
    "\\right]\n",
    "=\n",
    "\\left[\n",
    "\\begin{array}{c}\n",
    "\\alpha_{bp} \\\\ \\delta_{np} \n",
    "\\end{array}\n",
    "\\right]\n",
    "u_p\n",
    "+\n",
    "\\left[\n",
    "\\begin{array}{c}\n",
    "\\delta_{bc} \\\\ 0_{nc} \n",
    "\\end{array}\n",
    "\\right]\n",
    "\\bar{u}_{c}\n",
    "$$"
   ]
  },
  {
   "cell_type": "markdown",
   "id": "670d88ff-99ff-4a2e-aef6-26fd9c09510a",
   "metadata": {},
   "source": [
    "$$\n",
    "\\left[\n",
    "\\begin{array}{cc}\n",
    "K_{ab} & K_{an} \\\\\n",
    "K_{mb} & K_{mn} \\\\\n",
    "\\end{array}\n",
    "\\right]\n",
    "\\left(\n",
    "\\left[\n",
    "\\begin{array}{c}\n",
    "\\alpha_{bp} \\\\ \\delta_{np} \n",
    "\\end{array}\n",
    "\\right]\n",
    "u_p\n",
    "+\n",
    "\\left[\n",
    "\\begin{array}{c}\n",
    "\\delta_{bc} \\\\ 0_{nc} \n",
    "\\end{array}\n",
    "\\right]\n",
    "\\bar{u}_{c}\n",
    "\\right)\n",
    "=\n",
    "\\left[\n",
    "\\begin{array}{c}\n",
    "P_{a} \\\\ P_{m} \n",
    "\\end{array}\n",
    "\\right]\n",
    "$$"
   ]
  },
  {
   "cell_type": "markdown",
   "id": "6c3540b4-06ed-4b87-902f-92cf9ab7667f",
   "metadata": {},
   "source": [
    "$$\n",
    "\\left[\n",
    "\\begin{array}{cc}\n",
    "\\alpha_{ao} & \\delta_{mo} \n",
    "\\end{array}\n",
    "\\right]\n",
    "\\left[\n",
    "\\begin{array}{cc}\n",
    "K_{ab} & K_{an} \\\\\n",
    "K_{mb} & K_{mn} \\\\\n",
    "\\end{array}\n",
    "\\right]\n",
    "\\left(\n",
    "\\left[\n",
    "\\begin{array}{c}\n",
    "\\alpha_{bp} \\\\ \\delta_{np} \n",
    "\\end{array}\n",
    "\\right]\n",
    "u_p\n",
    "+\n",
    "\\left[\n",
    "\\begin{array}{c}\n",
    "\\delta_{bc} \\\\ 0_{nc} \n",
    "\\end{array}\n",
    "\\right]\n",
    "\\bar{u}_{c}\n",
    "\\right)\n",
    "=\n",
    "\\left[\n",
    "\\begin{array}{cc}\n",
    "\\alpha_{ao} & \\delta_{mo} \n",
    "\\end{array}\n",
    "\\right]\n",
    "\\left[\n",
    "\\begin{array}{c}\n",
    "P_{a} \\\\ P_{m} \n",
    "\\end{array}\n",
    "\\right]\n",
    "$$"
   ]
  },
  {
   "cell_type": "markdown",
   "id": "3aa0beb3-2ad7-4873-add2-41460265f87a",
   "metadata": {},
   "source": [
    "$$\n",
    "\\left[\n",
    "\\begin{array}{cc}\n",
    "\\alpha_{ao} & \\delta_{mo} \n",
    "\\end{array}\n",
    "\\right]\n",
    "\\left[\n",
    "\\begin{array}{cc}\n",
    "K_{ab} & K_{an} \\\\\n",
    "K_{mb} & K_{mn} \\\\\n",
    "\\end{array}\n",
    "\\right]\n",
    "\\left[\n",
    "\\begin{array}{c}\n",
    "\\alpha_{bp} \\\\ \\delta_{np} \n",
    "\\end{array}\n",
    "\\right]\n",
    "u_p\n",
    "=\n",
    "\\left[\n",
    "\\begin{array}{cc}\n",
    "\\alpha_{ao} & \\delta_{mo} \n",
    "\\end{array}\n",
    "\\right]\n",
    "\\left[\n",
    "\\begin{array}{c}\n",
    "P_{a} \\\\ P_{m} \n",
    "\\end{array}\n",
    "\\right]\n",
    "-\n",
    "\\left[\n",
    "\\begin{array}{cc}\n",
    "\\alpha_{ao} & \\delta_{mo} \n",
    "\\end{array}\n",
    "\\right]\n",
    "\\left[\n",
    "\\begin{array}{cc}\n",
    "K_{ab} & K_{an} \\\\\n",
    "K_{mb} & K_{mn} \\\\\n",
    "\\end{array}\n",
    "\\right]\n",
    "\\left[\n",
    "\\begin{array}{c}\n",
    "\\delta_{bc} \\\\ 0_{nc} \n",
    "\\end{array}\n",
    "\\right]\n",
    "\\bar{u}_{c}\n",
    "$$"
   ]
  },
  {
   "cell_type": "markdown",
   "id": "7b8f84e9-72da-4e8b-a2bc-2ee8ca300002",
   "metadata": {},
   "source": [
    "$$\n",
    "\\left[\n",
    "\\begin{array}{cc}\n",
    "\\alpha_{ao} K_{ab} \\alpha_{bp} & \\alpha_{ao} K_{an} \\delta_{np} \\\\\n",
    "\\delta_{mo} K_{mb} \\alpha_{bp} & \\delta_{mo} K_{mn} \\delta_{np} \\\\\n",
    "\\end{array}\n",
    "\\right]\n",
    "u_p\n",
    "=\n",
    "\\left[\n",
    "\\begin{array}{c}\n",
    "\\alpha_{ao} P_{a} \\\\ \\delta_{mo}  P_{m} \n",
    "\\end{array}\n",
    "\\right]\n",
    "-\n",
    "\\left[\n",
    "\\begin{array}{cc}\n",
    "\\alpha_{ao} K_{ab} \\delta_{bc} & \\alpha_{ao} K_{an} 0_{nc}  \\\\\n",
    "\\delta_{mo} K_{mb} \\delta_{bc} & \\delta_{mo} K_{mn} 0_{nc} \\\\\n",
    "\\end{array}\n",
    "\\right]\n",
    "\\bar{u}_{c}\n",
    "$$"
   ]
  },
  {
   "cell_type": "markdown",
   "id": "5a69143a-389e-4333-8838-0c5d4a09c492",
   "metadata": {},
   "source": [
    "$$\n",
    "\\left(\n",
    "\\alpha_{ao} K_{ab} \\alpha_{bp} + 2 \\alpha_{ao} K_{ap} +\n",
    "K_{op} \n",
    "\\right)\n",
    "u_p\n",
    "=\n",
    "\\alpha_{ao} P_{a} + P_{o} \n",
    "-\n",
    "\\left(\n",
    "\\alpha_{ao} K_{ac} + K_{oc} \n",
    "\\right)\n",
    "\\bar{u}_{c}\n",
    "$$"
   ]
  },
  {
   "cell_type": "code",
   "execution_count": null,
   "id": "82c94996-f8e1-4ff2-842c-af3b2e8dde66",
   "metadata": {},
   "outputs": [],
   "source": []
  }
 ],
 "metadata": {
  "kernelspec": {
   "display_name": "bmcs_env2",
   "language": "python",
   "name": "bmcs_env2"
  },
  "language_info": {
   "codemirror_mode": {
    "name": "ipython",
    "version": 3
   },
   "file_extension": ".py",
   "mimetype": "text/x-python",
   "name": "python",
   "nbconvert_exporter": "python",
   "pygments_lexer": "ipython3"
  }
 },
 "nbformat": 4,
 "nbformat_minor": 5
}
