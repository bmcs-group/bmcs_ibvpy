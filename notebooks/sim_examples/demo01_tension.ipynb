{
 "cells": [
  {
   "cell_type": "code",
   "execution_count": 1,
   "metadata": {
    "collapsed": true
   },
   "outputs": [],
   "source": [
    "\n",
    "import time\n",
    "\n",
    "from ibvpy.bcond import BCSlice\n",
    "from ibvpy.fets import FETS2D4Q\n",
    "from ibvpy.mats.mats2D.mats2D_elastic import MATS2DElastic\n",
    "from ibvpy.mats.mats3D.mats3D_plastic.vmats3D_desmorat import \\\n",
    "    MATS3DDesmorat\n",
    "from ibvpy.mats.viz3d_tensor_field import \\\n",
    "    Vis3DTensorField, Viz3DTensorField\n",
    "from mayavi import mlab\n",
    "from ibvpy.sim.api import \\\n",
    "    TStepBC\n",
    "from ibvpy.xdomain.xdomain_fe_grid import XDomainFEGrid\n",
    "\n",
    "import numpy as np\n",
    "\n",
    "from notebooks.sim_examples.mlab_decorators import decorate_figure"
   ]
  },
  {
   "cell_type": "code",
   "execution_count": 2,
   "outputs": [],
   "source": [
    "thickness = 1\n",
    "\n",
    "xdomain = XDomainFEGrid(coord_max=(1, 1),\n",
    "                        shape=(1, 1),\n",
    "                        integ_factor=thickness,\n",
    "                        fets=FETS2D4Q())"
   ],
   "metadata": {
    "collapsed": false,
    "pycharm": {
     "name": "#%%\n"
    }
   }
  },
  {
   "cell_type": "code",
   "execution_count": 3,
   "outputs": [],
   "source": [
    "m = MATS3DDesmorat()\n",
    "m = MATS2DElastic(E=1, nu=0)\n",
    "\n",
    "left_y = BCSlice(slice=xdomain.mesh[0, :, 0, :],\n",
    "                 var='u', dims=[1], value=0)\n",
    "left_x = BCSlice(slice=xdomain.mesh[0, :, 0, :],\n",
    "                 var='u', dims=[0], value=-1)\n",
    "right_x = BCSlice(slice=xdomain.mesh[-1, :, -1, :],\n",
    "                  var='u', dims=[0], value=0.0)"
   ],
   "metadata": {
    "collapsed": false,
    "pycharm": {
     "name": "#%%\n"
    }
   }
  },
  {
   "cell_type": "code",
   "execution_count": 4,
   "outputs": [],
   "source": [
    "m = TStepBC(\n",
    "    domains=[(xdomain, m)],\n",
    "    bc=[left_x, right_x, left_y],\n",
    "    record={\n",
    "        'strain': Vis3DTensorField(var='eps_ab'),\n",
    "        #        'damage': Vis3DStateField(var='omega_a'),\n",
    "        #        'kinematic hardening': Vis3DStateField(var='z_a')\n",
    "    }\n",
    ")"
   ],
   "metadata": {
    "collapsed": false,
    "pycharm": {
     "name": "#%%\n"
    }
   }
  },
  {
   "cell_type": "code",
   "execution_count": 5,
   "outputs": [
    {
     "name": "stdout",
     "output_type": "stream",
     "text": [
      "t:\t 0.00(0), \n",
      "\t 0.10(1), \n",
      "\t 0.20(1), \n",
      "\t 0.30(1), \n",
      "\t 0.40(1), \n",
      "\t 0.50(1), \n",
      "\t 0.60(1), \n",
      "\t 0.70(1), \n",
      "\t 0.80(1), \n",
      "\t 0.90(1), \n",
      "\t 1.00(1), \n",
      "\n"
     ]
    }
   ],
   "source": [
    "s = m.sim\n",
    "s.tloop.k_max = 1000\n",
    "s.tline.step = 0.1\n",
    "s.tloop.verbose = True\n",
    "s.run()"
   ],
   "metadata": {
    "collapsed": false,
    "pycharm": {
     "name": "#%%\n"
    }
   }
  },
  {
   "cell_type": "code",
   "execution_count": null,
   "outputs": [],
   "source": [
    "print('area', thickness)\n",
    "F_ti = s.hist.F_t\n",
    "print('left')\n",
    "print(np.sum(F_ti[-1, right_x.dofs]))\n",
    "print('right')\n",
    "print(np.sum(F_ti[-1, left_x.dofs]))\n",
    "\n",
    "mlab.options.backend = 'envisage'\n",
    "\n",
    "f_strain = mlab.figure()\n",
    "scene = mlab.get_engine().scenes[-1]\n",
    "scene.name = 'strain'\n",
    "strain_viz = Viz3DTensorField(vis3d=s.hist['strain'])\n",
    "strain_viz.setup()\n",
    "\n",
    "decorate_figure(f_strain, strain_viz, 200, [70, 20, 0])\n",
    "\n",
    "mlab.show()"
   ],
   "metadata": {
    "collapsed": false,
    "pycharm": {
     "name": "#%%\n"
    }
   }
  },
  {
   "cell_type": "code",
   "execution_count": 3,
   "outputs": [],
   "source": [
    "fets=FETS2D4Q()"
   ],
   "metadata": {
    "collapsed": false,
    "pycharm": {
     "name": "#%%\n"
    }
   }
  },
  {
   "cell_type": "code",
   "execution_count": 4,
   "outputs": [
    {
     "ename": "ValueError",
     "evalue": "operand has more dimensions than subscripts given in einstein sum, but no '...' ellipsis provided to broadcast the extra dimensions.",
     "output_type": "error",
     "traceback": [
      "\u001B[0;31m---------------------------------------------------------------------------\u001B[0m",
      "\u001B[0;31mValueError\u001B[0m                                Traceback (most recent call last)",
      "\u001B[0;32m<ipython-input-4-ff02b36f5a9c>\u001B[0m in \u001B[0;36m<module>\u001B[0;34m\u001B[0m\n\u001B[0;32m----> 1\u001B[0;31m \u001B[0mfets\u001B[0m\u001B[0;34m.\u001B[0m\u001B[0mdN_imr\u001B[0m\u001B[0;34m\u001B[0m\u001B[0;34m\u001B[0m\u001B[0m\n\u001B[0m",
      "\u001B[0;32m~/PycharmProjects/bmcs_ibvpy/ibvpy/fets/fets2D/vfets2D4q.py\u001B[0m in \u001B[0;36m_get_dN_imr\u001B[0;34m(self)\u001B[0m\n\u001B[1;32m     97\u001B[0m \u001B[0;34m\u001B[0m\u001B[0m\n\u001B[1;32m     98\u001B[0m     \u001B[0;32mdef\u001B[0m \u001B[0m_get_dN_imr\u001B[0m\u001B[0;34m(\u001B[0m\u001B[0mself\u001B[0m\u001B[0;34m)\u001B[0m\u001B[0;34m:\u001B[0m\u001B[0;34m\u001B[0m\u001B[0;34m\u001B[0m\u001B[0m\n\u001B[0;32m---> 99\u001B[0;31m         \u001B[0;32mreturn\u001B[0m \u001B[0mself\u001B[0m\u001B[0;34m.\u001B[0m\u001B[0mshape_function_values\u001B[0m\u001B[0;34m[\u001B[0m\u001B[0;36m1\u001B[0m\u001B[0;34m]\u001B[0m\u001B[0;34m\u001B[0m\u001B[0;34m\u001B[0m\u001B[0m\n\u001B[0m\u001B[1;32m    100\u001B[0m \u001B[0;34m\u001B[0m\u001B[0m\n\u001B[1;32m    101\u001B[0m     \u001B[0mdN_inr\u001B[0m \u001B[0;34m=\u001B[0m \u001B[0mtr\u001B[0m\u001B[0;34m.\u001B[0m\u001B[0mProperty\u001B[0m\u001B[0;34m(\u001B[0m\u001B[0;34m)\u001B[0m\u001B[0;34m\u001B[0m\u001B[0;34m\u001B[0m\u001B[0m\n",
      "\u001B[0;32m~/miniconda3/envs/bmcs_env/lib/python3.9/site-packages/traits/has_traits.py\u001B[0m in \u001B[0;36mdecorator\u001B[0;34m(self)\u001B[0m\n\u001B[1;32m    859\u001B[0m         \u001B[0mresult\u001B[0m \u001B[0;34m=\u001B[0m \u001B[0mself\u001B[0m\u001B[0;34m.\u001B[0m\u001B[0m__dict__\u001B[0m\u001B[0;34m.\u001B[0m\u001B[0mget\u001B[0m\u001B[0;34m(\u001B[0m\u001B[0mname\u001B[0m\u001B[0;34m,\u001B[0m \u001B[0mUndefined\u001B[0m\u001B[0;34m)\u001B[0m\u001B[0;34m\u001B[0m\u001B[0;34m\u001B[0m\u001B[0m\n\u001B[1;32m    860\u001B[0m         \u001B[0;32mif\u001B[0m \u001B[0mresult\u001B[0m \u001B[0;32mis\u001B[0m \u001B[0mUndefined\u001B[0m\u001B[0;34m:\u001B[0m\u001B[0;34m\u001B[0m\u001B[0;34m\u001B[0m\u001B[0m\n\u001B[0;32m--> 861\u001B[0;31m             \u001B[0mself\u001B[0m\u001B[0;34m.\u001B[0m\u001B[0m__dict__\u001B[0m\u001B[0;34m[\u001B[0m\u001B[0mname\u001B[0m\u001B[0;34m]\u001B[0m \u001B[0;34m=\u001B[0m \u001B[0mresult\u001B[0m \u001B[0;34m=\u001B[0m \u001B[0mfunction\u001B[0m\u001B[0;34m(\u001B[0m\u001B[0mself\u001B[0m\u001B[0;34m)\u001B[0m\u001B[0;34m\u001B[0m\u001B[0;34m\u001B[0m\u001B[0m\n\u001B[0m\u001B[1;32m    862\u001B[0m \u001B[0;34m\u001B[0m\u001B[0m\n\u001B[1;32m    863\u001B[0m         \u001B[0;32mreturn\u001B[0m \u001B[0mresult\u001B[0m\u001B[0;34m\u001B[0m\u001B[0;34m\u001B[0m\u001B[0m\n",
      "\u001B[0;32m~/PycharmProjects/bmcs_ibvpy/ibvpy/fets/fets2D/vfets2D4q.py\u001B[0m in \u001B[0;36m_get_shape_function_values\u001B[0;34m(self)\u001B[0m\n\u001B[1;32m     76\u001B[0m         N_mi = np.array([N_xi_i.subs(list(zip([xi_1, xi_2], xi)))\n\u001B[1;32m     77\u001B[0m                          for xi in self.xi_m], dtype=np.float_)\n\u001B[0;32m---> 78\u001B[0;31m         \u001B[0mN_im\u001B[0m \u001B[0;34m=\u001B[0m \u001B[0mnp\u001B[0m\u001B[0;34m.\u001B[0m\u001B[0meinsum\u001B[0m\u001B[0;34m(\u001B[0m\u001B[0;34m'mi->im'\u001B[0m\u001B[0;34m,\u001B[0m \u001B[0mN_mi\u001B[0m\u001B[0;34m)\u001B[0m\u001B[0;34m\u001B[0m\u001B[0;34m\u001B[0m\u001B[0m\n\u001B[0m\u001B[1;32m     79\u001B[0m         dN_mir = np.array([dN_xi_ir.subs(list(zip([xi_1, xi_2], xi)))\n\u001B[1;32m     80\u001B[0m                            for xi in self.xi_m], dtype=np.float_).reshape(4, 4, 2)\n",
      "\u001B[0;32m<__array_function__ internals>\u001B[0m in \u001B[0;36meinsum\u001B[0;34m(*args, **kwargs)\u001B[0m\n",
      "\u001B[0;32m~/miniconda3/envs/bmcs_env/lib/python3.9/site-packages/numpy/core/einsumfunc.py\u001B[0m in \u001B[0;36meinsum\u001B[0;34m(out, optimize, *operands, **kwargs)\u001B[0m\n\u001B[1;32m   1348\u001B[0m         \u001B[0;32mif\u001B[0m \u001B[0mspecified_out\u001B[0m\u001B[0;34m:\u001B[0m\u001B[0;34m\u001B[0m\u001B[0;34m\u001B[0m\u001B[0m\n\u001B[1;32m   1349\u001B[0m             \u001B[0mkwargs\u001B[0m\u001B[0;34m[\u001B[0m\u001B[0;34m'out'\u001B[0m\u001B[0;34m]\u001B[0m \u001B[0;34m=\u001B[0m \u001B[0mout\u001B[0m\u001B[0;34m\u001B[0m\u001B[0;34m\u001B[0m\u001B[0m\n\u001B[0;32m-> 1350\u001B[0;31m         \u001B[0;32mreturn\u001B[0m \u001B[0mc_einsum\u001B[0m\u001B[0;34m(\u001B[0m\u001B[0;34m*\u001B[0m\u001B[0moperands\u001B[0m\u001B[0;34m,\u001B[0m \u001B[0;34m**\u001B[0m\u001B[0mkwargs\u001B[0m\u001B[0;34m)\u001B[0m\u001B[0;34m\u001B[0m\u001B[0;34m\u001B[0m\u001B[0m\n\u001B[0m\u001B[1;32m   1351\u001B[0m \u001B[0;34m\u001B[0m\u001B[0m\n\u001B[1;32m   1352\u001B[0m     \u001B[0;31m# Check the kwargs to avoid a more cryptic error later, without having to\u001B[0m\u001B[0;34m\u001B[0m\u001B[0;34m\u001B[0m\u001B[0;34m\u001B[0m\u001B[0m\n",
      "\u001B[0;31mValueError\u001B[0m: operand has more dimensions than subscripts given in einstein sum, but no '...' ellipsis provided to broadcast the extra dimensions."
     ]
    }
   ],
   "source": [
    "fets.dN_imr"
   ],
   "metadata": {
    "collapsed": false,
    "pycharm": {
     "name": "#%%\n"
    }
   }
  },
  {
   "cell_type": "code",
   "execution_count": null,
   "outputs": [],
   "source": [],
   "metadata": {
    "collapsed": false,
    "pycharm": {
     "name": "#%%\n"
    }
   }
  }
 ],
 "metadata": {
  "kernelspec": {
   "display_name": "Python 3",
   "language": "python",
   "name": "python3"
  },
  "language_info": {
   "codemirror_mode": {
    "name": "ipython",
    "version": 2
   },
   "file_extension": ".py",
   "mimetype": "text/x-python",
   "name": "python",
   "nbconvert_exporter": "python",
   "pygments_lexer": "ipython2",
   "version": "2.7.6"
  }
 },
 "nbformat": 4,
 "nbformat_minor": 0
}