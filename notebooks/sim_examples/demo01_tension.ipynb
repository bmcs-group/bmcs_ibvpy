{
 "cells": [
  {
   "cell_type": "code",
   "execution_count": 1,
   "metadata": {},
   "outputs": [],
   "source": [
    "\n",
    "import time\n",
    "\n",
    "from ibvpy.bcond import BCSlice\n",
    "from ibvpy.fets import FETS2D4Q\n",
    "from ibvpy.tmodel.mats2D.mats2D_elastic import MATS2DElastic\n",
    "from ibvpy.tmodel.mats3D.mats3D_plastic.vmats3D_desmorat import \\\n",
    "    MATS3DDesmorat\n",
    "from ibvpy.tmodel.viz3d_tensor_field import \\\n",
    "    Vis3DTensorField, Viz3DTensorField\n",
    "from mayavi import mlab\n",
    "from ibvpy.api import \\\n",
    "    TStepBC\n",
    "from ibvpy.xmodel.xdomain_fe_grid import XDomainFEGrid\n",
    "\n",
    "import numpy as np\n",
    "\n",
    "from notebooks.sim_examples.mlab_decorators import decorate_figure"
   ]
  },
  {
   "cell_type": "code",
   "execution_count": 2,
   "metadata": {
    "pycharm": {
     "name": "#%%\n"
    }
   },
   "outputs": [],
   "source": [
    "thickness = 1\n",
    "\n",
    "xdomain = XDomainFEGrid(coord_max=(1, 1),\n",
    "                        shape=(1, 1),\n",
    "                        integ_factor=thickness,\n",
    "                        fets=FETS2D4Q())"
   ]
  },
  {
   "cell_type": "code",
   "execution_count": 3,
   "metadata": {
    "pycharm": {
     "name": "#%%\n"
    }
   },
   "outputs": [],
   "source": [
    "tmodel = MATS3DDesmorat()\n",
    "tmodel = MATS2DElastic(E=1, nu=0)\n",
    "\n",
    "left_y = BCSlice(slice=xdomain.mesh[0, :, 0, :],\n",
    "                 var='u', dims=[1], value=0)\n",
    "left_x = BCSlice(slice=xdomain.mesh[0, :, 0, :],\n",
    "                 var='u', dims=[0], value=-1)\n",
    "right_x = BCSlice(slice=xdomain.mesh[-1, :, -1, :],\n",
    "                  var='u', dims=[0], value=0.0)"
   ]
  },
  {
   "cell_type": "code",
   "execution_count": 4,
   "metadata": {
    "pycharm": {
     "name": "#%%\n"
    }
   },
   "outputs": [],
   "source": [
    "m = TStepBC(\n",
    "    domains=[(xdomain, tmodel)],\n",
    "    bc=[left_x, right_x, left_y],\n",
    ")"
   ]
  },
  {
   "cell_type": "code",
   "execution_count": 5,
   "metadata": {
    "pycharm": {
     "name": "#%%\n"
    }
   },
   "outputs": [],
   "source": [
    "m.hist.vis_record = {\n",
    "    'strain': Vis3DTensorField(var='eps_ab'),\n",
    "    'stress': Vis3DTensorField(var='sig_ab'),\n",
    "    #        'damage': Vis3DStateField(var='omega_a'),\n",
    "    #        'kinematic hardening': Vis3DStateField(var='z_a')\n",
    "}\n"
   ]
  },
  {
   "cell_type": "code",
   "execution_count": 6,
   "metadata": {
    "pycharm": {
     "name": "#%%\n"
    }
   },
   "outputs": [
    {
     "name": "stdout",
     "output_type": "stream",
     "text": [
      "t:\t 0.00(0), \n",
      "\t 0.10(1), \n",
      "\t 0.20(1), \n",
      "\t 0.30(1), \n",
      "\t 0.40(1), \n",
      "\t 0.50(1), \n",
      "\t 0.60(1), \n",
      "\t 0.70(1), \n",
      "\t 0.80(1), \n",
      "\t 0.90(1), \n",
      "\t 1.00(1), \n",
      "\n"
     ]
    }
   ],
   "source": [
    "s = m.sim\n",
    "s.tloop.k_max = 1000\n",
    "s.tline.step = 0.1\n",
    "s.tloop.verbose = True\n",
    "s.run()"
   ]
  },
  {
   "cell_type": "code",
   "execution_count": 7,
   "metadata": {
    "pycharm": {
     "name": "#%%\n"
    }
   },
   "outputs": [
    {
     "name": "stdout",
     "output_type": "stream",
     "text": [
      "area 1\n",
      "left\n",
      "0.9999999999999996\n",
      "right\n",
      "-0.9999999999999996\n"
     ]
    }
   ],
   "source": [
    "print('area', thickness)\n",
    "F_ti = s.hist.F_t\n",
    "print('left')\n",
    "print(np.sum(F_ti[-1, right_x.dofs]))\n",
    "print('right')\n",
    "print(np.sum(F_ti[-1, left_x.dofs]))\n",
    "\n",
    "mlab.options.backend = 'envisage'\n",
    "\n",
    "f_strain = mlab.figure()\n",
    "scene = mlab.get_engine().scenes[-1]\n",
    "scene.name = 'strain'\n",
    "strain_viz = Viz3DTensorField(vis3d=s.hist['strain'])\n",
    "strain_viz.setup()\n",
    "\n",
    "decorate_figure(f_strain, strain_viz, 200, [70, 20, 0])\n",
    "\n",
    "#mlab.show()"
   ]
  },
  {
   "cell_type": "code",
   "execution_count": 7,
   "metadata": {
    "pycharm": {
     "name": "#%%\n"
    }
   },
   "outputs": [],
   "source": []
  },
  {
   "cell_type": "code",
   "execution_count": null,
   "metadata": {
    "pycharm": {
     "name": "#%%\n"
    }
   },
   "outputs": [],
   "source": []
  }
 ],
 "metadata": {
  "kernelspec": {
   "display_name": "Python 3 (ipykernel)",
   "language": "python",
   "name": "python3"
  },
  "language_info": {
   "codemirror_mode": {
    "name": "ipython",
    "version": 3
   },
   "file_extension": ".py",
   "mimetype": "text/x-python",
   "name": "python",
   "nbconvert_exporter": "python",
   "pygments_lexer": "ipython3",
   "version": "3.8.8"
  },
  "toc": {
   "base_numbering": 1,
   "nav_menu": {},
   "number_sections": true,
   "sideBar": true,
   "skip_h1_title": false,
   "title_cell": "Table of Contents",
   "title_sidebar": "Contents",
   "toc_cell": false,
   "toc_position": {},
   "toc_section_display": true,
   "toc_window_display": true
  }
 },
 "nbformat": 4,
 "nbformat_minor": 4
}
