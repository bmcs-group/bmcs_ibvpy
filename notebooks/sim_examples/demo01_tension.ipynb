{
 "cells": [
  {
   "cell_type": "code",
   "execution_count": 1,
   "metadata": {
    "collapsed": true
   },
   "outputs": [
    {
     "ename": "ModuleNotFoundError",
     "evalue": "No module named 'ibvpy.core'",
     "output_type": "error",
     "traceback": [
      "\u001B[0;31m---------------------------------------------------------------------------\u001B[0m",
      "\u001B[0;31mModuleNotFoundError\u001B[0m                       Traceback (most recent call last)",
      "\u001B[0;32m<ipython-input-1-3e93da3be523>\u001B[0m in \u001B[0;36m<module>\u001B[0;34m\u001B[0m\n\u001B[1;32m      9\u001B[0m     \u001B[0mVis3DTensorField\u001B[0m\u001B[0;34m,\u001B[0m \u001B[0mViz3DTensorField\u001B[0m\u001B[0;34m\u001B[0m\u001B[0;34m\u001B[0m\u001B[0m\n\u001B[1;32m     10\u001B[0m \u001B[0;32mfrom\u001B[0m \u001B[0mmayavi\u001B[0m \u001B[0;32mimport\u001B[0m \u001B[0mmlab\u001B[0m\u001B[0;34m\u001B[0m\u001B[0;34m\u001B[0m\u001B[0m\n\u001B[0;32m---> 11\u001B[0;31m \u001B[0;32mfrom\u001B[0m \u001B[0mibvpy\u001B[0m\u001B[0;34m.\u001B[0m\u001B[0mapi\u001B[0m \u001B[0;32mimport\u001B[0m\u001B[0;31m \u001B[0m\u001B[0;31m\\\u001B[0m\u001B[0;34m\u001B[0m\u001B[0;34m\u001B[0m\u001B[0m\n\u001B[0m\u001B[1;32m     12\u001B[0m     \u001B[0mTStepBC\u001B[0m\u001B[0;34m\u001B[0m\u001B[0;34m\u001B[0m\u001B[0m\n\u001B[1;32m     13\u001B[0m \u001B[0;32mfrom\u001B[0m \u001B[0mibvpy\u001B[0m\u001B[0;34m.\u001B[0m\u001B[0mxmodel\u001B[0m\u001B[0;34m.\u001B[0m\u001B[0mxdomain_fe_grid\u001B[0m \u001B[0;32mimport\u001B[0m \u001B[0mXDomainFEGrid\u001B[0m\u001B[0;34m\u001B[0m\u001B[0;34m\u001B[0m\u001B[0m\n",
      "\u001B[0;32m~/PycharmProjects/bmcs_ibvpy/ibvpy/api.py\u001B[0m in \u001B[0;36m<module>\u001B[0;34m\u001B[0m\n\u001B[1;32m     20\u001B[0m \u001B[0;32mfrom\u001B[0m \u001B[0;34m.\u001B[0m\u001B[0mbcond\u001B[0m\u001B[0;34m.\u001B[0m\u001B[0mbc_dofgroup\u001B[0m \u001B[0;32mimport\u001B[0m \u001B[0mBCDofGroup\u001B[0m\u001B[0;34m\u001B[0m\u001B[0;34m\u001B[0m\u001B[0m\n\u001B[1;32m     21\u001B[0m \u001B[0;32mfrom\u001B[0m \u001B[0;34m.\u001B[0m\u001B[0mbcond\u001B[0m\u001B[0;34m.\u001B[0m\u001B[0mbc_slice\u001B[0m \u001B[0;32mimport\u001B[0m \u001B[0mBCSlice\u001B[0m\u001B[0;34m\u001B[0m\u001B[0;34m\u001B[0m\u001B[0m\n\u001B[0;32m---> 22\u001B[0;31m \u001B[0;32mfrom\u001B[0m \u001B[0;34m.\u001B[0m\u001B[0mcore\u001B[0m\u001B[0;34m.\u001B[0m\u001B[0mi_bcond\u001B[0m \u001B[0;32mimport\u001B[0m \u001B[0mIBCond\u001B[0m\u001B[0;34m\u001B[0m\u001B[0;34m\u001B[0m\u001B[0m\n\u001B[0m\u001B[1;32m     23\u001B[0m \u001B[0;32mfrom\u001B[0m \u001B[0;34m.\u001B[0m\u001B[0mfets\u001B[0m\u001B[0;34m.\u001B[0m\u001B[0mfets\u001B[0m \u001B[0;32mimport\u001B[0m \u001B[0mFETSEval\u001B[0m\u001B[0;34m,\u001B[0m \u001B[0mRTraceEvalElemFieldVar\u001B[0m\u001B[0;34m\u001B[0m\u001B[0;34m\u001B[0m\u001B[0m\n\u001B[1;32m     24\u001B[0m \u001B[0;32mfrom\u001B[0m \u001B[0;34m.\u001B[0m\u001B[0mfets\u001B[0m\u001B[0;34m.\u001B[0m\u001B[0mi_fets\u001B[0m \u001B[0;32mimport\u001B[0m \u001B[0mIFETSEval\u001B[0m\u001B[0;34m\u001B[0m\u001B[0;34m\u001B[0m\u001B[0m\n",
      "\u001B[0;31mModuleNotFoundError\u001B[0m: No module named 'ibvpy.core'"
     ]
    }
   ],
   "source": [
    "\n",
    "import time\n",
    "\n",
    "from ibvpy.bcond import BCSlice\n",
    "from ibvpy.fets import FETS2D4Q\n",
    "from ibvpy.tmodel.mats2D.mats2D_elastic import MATS2DElastic\n",
    "from ibvpy.tmodel.mats3D.mats3D_plastic.vmats3D_desmorat import \\\n",
    "    MATS3DDesmorat\n",
    "from ibvpy.tmodel.viz3d_tensor_field import \\\n",
    "    Vis3DTensorField, Viz3DTensorField\n",
    "from mayavi import mlab\n",
    "from ibvpy.api import \\\n",
    "    TStepBC\n",
    "from ibvpy.xmodel.xdomain_fe_grid import XDomainFEGrid\n",
    "\n",
    "import numpy as np\n",
    "\n",
    "from notebooks.sim_examples.mlab_decorators import decorate_figure"
   ]
  },
  {
   "cell_type": "code",
   "execution_count": null,
   "outputs": [],
   "source": [
    "thickness = 1\n",
    "\n",
    "xdomain = XDomainFEGrid(coord_max=(1, 1),\n",
    "                        shape=(1, 1),\n",
    "                        integ_factor=thickness,\n",
    "                        fets=FETS2D4Q())"
   ],
   "metadata": {
    "collapsed": false,
    "pycharm": {
     "name": "#%%\n"
    }
   }
  },
  {
   "cell_type": "code",
   "execution_count": 3,
   "outputs": [],
   "source": [
    "tmodel = MATS3DDesmorat()\n",
    "tmodel = MATS2DElastic(E=1, nu=0)\n",
    "\n",
    "left_y = BCSlice(slice=xdomain.mesh[0, :, 0, :],\n",
    "                 var='u', dims=[1], value=0)\n",
    "left_x = BCSlice(slice=xdomain.mesh[0, :, 0, :],\n",
    "                 var='u', dims=[0], value=-1)\n",
    "right_x = BCSlice(slice=xdomain.mesh[-1, :, -1, :],\n",
    "                  var='u', dims=[0], value=0.0)"
   ],
   "metadata": {
    "collapsed": false,
    "pycharm": {
     "name": "#%%\n"
    }
   }
  },
  {
   "cell_type": "code",
   "execution_count": 4,
   "outputs": [],
   "source": [
    "m = TStepBC(\n",
    "    domains=[(xdomain, tmodel)],\n",
    "    bc=[left_x, right_x, left_y],\n",
    ")"
   ],
   "metadata": {
    "collapsed": false,
    "pycharm": {
     "name": "#%%\n"
    }
   }
  },
  {
   "cell_type": "code",
   "execution_count": 5,
   "outputs": [],
   "source": [
    "m.hist.vis_record = {\n",
    "    'strain': Vis3DTensorField(var='eps_ab'),\n",
    "    'stress': Vis3DTensorField(var='sig_ab'),\n",
    "    #        'damage': Vis3DStateField(var='omega_a'),\n",
    "    #        'kinematic hardening': Vis3DStateField(var='z_a')\n",
    "}\n"
   ],
   "metadata": {
    "collapsed": false,
    "pycharm": {
     "name": "#%%\n"
    }
   }
  },
  {
   "cell_type": "code",
   "execution_count": 6,
   "outputs": [
    {
     "name": "stdout",
     "output_type": "stream",
     "text": [
      "VAR\n",
      "eps_ab\n",
      "DOMAIN\n",
      "{'eps_ab': <bound method MATSXDEval.get_eps_ab of <ibvpy.mats.mats2D.mats2D_elastic.vmats2D_elastic.MATS2DElastic object at 0x7fe1627ab680>>, 'sig_ab': <bound method MATSXDEval.get_sig_ab of <ibvpy.mats.mats2D.mats2D_elastic.vmats2D_elastic.MATS2DElastic object at 0x7fe1627ab680>>}\n",
      "VAR\n",
      "sig_ab\n",
      "DOMAIN\n",
      "{'eps_ab': <bound method MATSXDEval.get_eps_ab of <ibvpy.mats.mats2D.mats2D_elastic.vmats2D_elastic.MATS2DElastic object at 0x7fe1627ab680>>, 'sig_ab': <bound method MATSXDEval.get_sig_ab of <ibvpy.mats.mats2D.mats2D_elastic.vmats2D_elastic.MATS2DElastic object at 0x7fe1627ab680>>}\n",
      "t:\t 0.00(0), \n",
      "\t 0.10(1), \n",
      "\t 0.20(1), \n",
      "\t 0.30(1), \n",
      "\t 0.40(1), \n",
      "\t 0.50(1), \n",
      "\t 0.60(1), \n",
      "\t 0.70(1), \n",
      "\t 0.80(1), \n",
      "\t 0.90(1), \n",
      "\t 1.00(1), \n",
      "\n"
     ]
    }
   ],
   "source": [
    "s = m.sim\n",
    "s.tloop.k_max = 1000\n",
    "s.tline.step = 0.1\n",
    "s.tloop.verbose = True\n",
    "s.run()"
   ],
   "metadata": {
    "collapsed": false,
    "pycharm": {
     "name": "#%%\n"
    }
   }
  },
  {
   "cell_type": "code",
   "execution_count": 7,
   "outputs": [
    {
     "name": "stdout",
     "output_type": "stream",
     "text": [
      "area 1\n",
      "left\n",
      "15.999999999999993\n",
      "right\n",
      "-15.999999999999993\n"
     ]
    }
   ],
   "source": [
    "print('area', thickness)\n",
    "F_ti = s.hist.F_t\n",
    "print('left')\n",
    "print(np.sum(F_ti[-1, right_x.dofs]))\n",
    "print('right')\n",
    "print(np.sum(F_ti[-1, left_x.dofs]))\n",
    "\n",
    "mlab.options.backend = 'envisage'\n",
    "\n",
    "f_strain = mlab.figure()\n",
    "scene = mlab.get_engine().scenes[-1]\n",
    "scene.name = 'strain'\n",
    "strain_viz = Viz3DTensorField(vis3d=s.hist['strain'])\n",
    "strain_viz.setup()\n",
    "\n",
    "decorate_figure(f_strain, strain_viz, 200, [70, 20, 0])\n",
    "\n",
    "mlab.show()"
   ],
   "metadata": {
    "collapsed": false,
    "pycharm": {
     "name": "#%%\n"
    }
   }
  },
  {
   "cell_type": "code",
   "execution_count": null,
   "outputs": [],
   "source": [],
   "metadata": {
    "collapsed": false,
    "pycharm": {
     "name": "#%%\n"
    }
   }
  }
 ],
 "metadata": {
  "kernelspec": {
   "display_name": "Python 3",
   "language": "python",
   "name": "python3"
  },
  "language_info": {
   "codemirror_mode": {
    "name": "ipython",
    "version": 2
   },
   "file_extension": ".py",
   "mimetype": "text/x-python",
   "name": "python",
   "nbconvert_exporter": "python",
   "pygments_lexer": "ipython2",
   "version": "2.7.6"
  }
 },
 "nbformat": 4,
 "nbformat_minor": 0
}