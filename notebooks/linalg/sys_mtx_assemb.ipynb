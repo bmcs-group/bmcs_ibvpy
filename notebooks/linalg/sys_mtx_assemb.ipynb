{
 "cells": [
  {
   "cell_type": "markdown",
   "id": "d0263740-0f53-4d9d-af33-dbe4e1fdf2ac",
   "metadata": {},
   "source": [
    "# Display the sparse matrix in compact form"
   ]
  },
  {
   "cell_type": "code",
   "execution_count": 8,
   "id": "e80e1bd3-63d9-40fa-9548-7e4c75d35b2c",
   "metadata": {},
   "outputs": [],
   "source": [
    "from numpy import array, zeros, arange\n",
    "from ibvpy.mathkit.linalg.dense_mtx import DenseMtx\n",
    "from ibvpy.mathkit.linalg.sys_mtx_assembly import SysMtxAssembly\n",
    "\n",
    "\n",
    "# bar clamped at the left end and loaded at the right end\n",
    "def get_bar_mtx_array(shape):\n",
    "    '''Get an array of matrices and dof_maps corresponding to\n",
    "    a bar discretization\n",
    "    '''\n",
    "    el_mtx = array([[10, -10],\n",
    "                    [-10, 10]], dtype='float_')\n",
    "\n",
    "    el_mtx_arr = array([el_mtx for i in range(shape)], dtype=float)\n",
    "    el_dof_map = array([arange(shape),\n",
    "                        arange(shape) + 1], dtype=int).transpose()\n",
    "\n",
    "    return el_dof_map, el_mtx_arr"
   ]
  },
  {
   "cell_type": "code",
   "execution_count": 10,
   "id": "6e36aa7f-6410-4abd-9924-b9f5b9e56e3c",
   "metadata": {},
   "outputs": [
    {
     "name": "stdout",
     "output_type": "stream",
     "text": [
      "---------------------------------------------------------------\n",
      "Clamped bar loaded at the right end with unit displacement\n",
      "[00]-[01]-[02]-[03]-[04]-[05]-[06]-[07]-[08]-[09]-[10]\n",
      "u[0] = 0, u[10] = 1\n"
     ]
    }
   ],
   "source": [
    "print('---------------------------------------------------------------')\n",
    "print('Clamped bar loaded at the right end with unit displacement')\n",
    "print('[00]-[01]-[02]-[03]-[04]-[05]-[06]-[07]-[08]-[09]-[10]')\n",
    "print('u[0] = 0, u[10] = 1')\n",
    "K = SysMtxAssembly()"
   ]
  },
  {
   "cell_type": "code",
   "execution_count": 11,
   "id": "df7b4983-b8cb-4698-88ed-c4648ca838f4",
   "metadata": {},
   "outputs": [
    {
     "data": {
      "text/plain": [
       "array([[ 10., -10.,   0.,   0.,   0.,   0.,   0.,   0.,   0.,   0.,   0.],\n",
       "       [-10.,  20., -10.,   0.,   0.,   0.,   0.,   0.,   0.,   0.,   0.],\n",
       "       [  0., -10.,  20., -10.,   0.,   0.,   0.,   0.,   0.,   0.,   0.],\n",
       "       [  0.,   0., -10.,  20., -10.,   0.,   0.,   0.,   0.,   0.,   0.],\n",
       "       [  0.,   0.,   0., -10.,  20., -10.,   0.,   0.,   0.,   0.,   0.],\n",
       "       [  0.,   0.,   0.,   0., -10.,  20., -10.,   0.,   0.,   0.,   0.],\n",
       "       [  0.,   0.,   0.,   0.,   0., -10.,  20., -10.,   0.,   0.,   0.],\n",
       "       [  0.,   0.,   0.,   0.,   0.,   0., -10.,  20., -10.,   0.,   0.],\n",
       "       [  0.,   0.,   0.,   0.,   0.,   0.,   0., -10.,  20., -10.,   0.],\n",
       "       [  0.,   0.,   0.,   0.,   0.,   0.,   0.,   0., -10.,  20., -10.],\n",
       "       [  0.,   0.,   0.,   0.,   0.,   0.,   0.,   0.,   0., -10.,  10.]])"
      ]
     },
     "execution_count": 11,
     "metadata": {},
     "output_type": "execute_result"
    }
   ],
   "source": [
    "dof_map, mtx_arr = get_bar_mtx_array(shape=10)\n",
    "K.add_mtx_array(dof_map_arr=dof_map, mtx_arr=mtx_arr)\n",
    "K.register_constraint(a=0,  u_a=0.)  # clamped end\n",
    "K.register_constraint(a=10, u_a=1.)\n",
    "K.register_constraint(a=10, u_a=1.)\n",
    "K_dense = DenseMtx(assemb=K)\n",
    "K_dense"
   ]
  },
  {
   "cell_type": "code",
   "execution_count": 4,
   "id": "fd9243e2-f03c-42ce-bd17-78854e1ea633",
   "metadata": {},
   "outputs": [
    {
     "name": "stdout",
     "output_type": "stream",
     "text": [
      "K\n",
      " [[ 10.   0.   0.   0.   0.   0.   0.   0.   0.   0.   0.]\n",
      " [  0.  20. -10.   0.   0.   0.   0.   0.   0.   0.   0.]\n",
      " [  0. -10.  20. -10.   0.   0.   0.   0.   0.   0.   0.]\n",
      " [  0.   0. -10.  20. -10.   0.   0.   0.   0.   0.   0.]\n",
      " [  0.   0.   0. -10.  20. -10.   0.   0.   0.   0.   0.]\n",
      " [  0.   0.   0.   0. -10.  20. -10.   0.   0.   0.   0.]\n",
      " [  0.   0.   0.   0.   0. -10.  20. -10.   0.   0.   0.]\n",
      " [  0.   0.   0.   0.   0.   0. -10.  20. -10.   0.   0.]\n",
      " [  0.   0.   0.   0.   0.   0.   0. -10.  20. -10.   0.]\n",
      " [  0.   0.   0.   0.   0.   0.   0.   0. -10.  20.   0.]\n",
      " [  0.   0.   0.   0.   0.   0.   0.   0.   0.   0.  10.]]\n",
      "R\n",
      " [0. 0. 0. 0. 0. 0. 0. 0. 0. 0. 0.]\n",
      "K_arrays\n",
      "i\n",
      " [[[ 10.   0.]\n",
      "  [  0.  10.]]\n",
      "\n",
      " [[ 10. -10.]\n",
      "  [-10.  10.]]\n",
      "\n",
      " [[ 10. -10.]\n",
      "  [-10.  10.]]\n",
      "\n",
      " [[ 10. -10.]\n",
      "  [-10.  10.]]\n",
      "\n",
      " [[ 10. -10.]\n",
      "  [-10.  10.]]\n",
      "\n",
      " [[ 10. -10.]\n",
      "  [-10.  10.]]\n",
      "\n",
      " [[ 10. -10.]\n",
      "  [-10.  10.]]\n",
      "\n",
      " [[ 10. -10.]\n",
      "  [-10.  10.]]\n",
      "\n",
      " [[ 10. -10.]\n",
      "  [-10.  10.]]\n",
      "\n",
      " [[ 10.   0.]\n",
      "  [  0.  10.]]]\n",
      "K\n",
      " [[-10.   0.   0.   0.   0.   0.   0.   0.   0.   0.   0.]\n",
      " [  0.  20. -10.   0.   0.   0.   0.   0.   0.   0.   0.]\n",
      " [  0. -10.  20. -10.   0.   0.   0.   0.   0.   0.   0.]\n",
      " [  0.   0. -10.  20. -10.   0.   0.   0.   0.   0.   0.]\n",
      " [  0.   0.   0. -10.  20. -10.   0.   0.   0.   0.   0.]\n",
      " [  0.   0.   0.   0. -10.  20. -10.   0.   0.   0.   0.]\n",
      " [  0.   0.   0.   0.   0. -10.  20. -10.   0.   0.   0.]\n",
      " [  0.   0.   0.   0.   0.   0. -10.  20. -10.   0.   0.]\n",
      " [  0.   0.   0.   0.   0.   0.   0. -10.  20. -10.   0.]\n",
      " [  0.   0.   0.   0.   0.   0.   0.   0. -10.  20.   0.]\n",
      " [  0.   0.   0.   0.   0.   0.   0.   0.   0.   0. -10.]]\n",
      "R\n",
      " [  0.   0.   0.   0.   0.   0.   0.   0.   0.   0. -10.]\n",
      "K_arrays\n",
      "i\n",
      " [[[-10.   0.]\n",
      "  [  0.  10.]]\n",
      "\n",
      " [[ 10. -10.]\n",
      "  [-10.  10.]]\n",
      "\n",
      " [[ 10. -10.]\n",
      "  [-10.  10.]]\n",
      "\n",
      " [[ 10. -10.]\n",
      "  [-10.  10.]]\n",
      "\n",
      " [[ 10. -10.]\n",
      "  [-10.  10.]]\n",
      "\n",
      " [[ 10. -10.]\n",
      "  [-10.  10.]]\n",
      "\n",
      " [[ 10. -10.]\n",
      "  [-10.  10.]]\n",
      "\n",
      " [[ 10. -10.]\n",
      "  [-10.  10.]]\n",
      "\n",
      " [[ 10. -10.]\n",
      "  [-10.  10.]]\n",
      "\n",
      " [[ 10.   0.]\n",
      "  [  0. -10.]]]\n",
      "u = (array([0., 0., 0., 0., 0., 0., 0., 0., 0., 0., 1.]), True)\n",
      "\n"
     ]
    }
   ],
   "source": [
    "R = zeros(K.n_dofs)\n",
    "print('K\\n', K_dense)\n",
    "print('R\\n', R)\n",
    "print('K_arrays')\n",
    "for i, sys_mtx_array in enumerate(K.sys_mtx_arrays):\n",
    "    print('i\\n', sys_mtx_array.mtx_arr)\n",
    "K.apply_constraints(R)\n",
    "K_dense = DenseMtx(assemb=K)\n",
    "print('K\\n', K_dense)\n",
    "print('R\\n', R)\n",
    "print('K_arrays')\n",
    "for i, sys_mtx_array in enumerate(K.sys_mtx_arrays):\n",
    "    print('i\\n', sys_mtx_array.mtx_arr)\n",
    "print('u =',  K.solve(R))\n",
    "print()"
   ]
  },
  {
   "cell_type": "code",
   "execution_count": null,
   "id": "405fbe1f-c118-46e4-b543-8b6f0d072f2f",
   "metadata": {},
   "outputs": [],
   "source": []
  },
  {
   "cell_type": "code",
   "execution_count": null,
   "id": "1651a932-7dec-43da-b737-e071061c6588",
   "metadata": {},
   "outputs": [],
   "source": []
  }
 ],
 "metadata": {
  "kernelspec": {
   "display_name": "bmcs_env",
   "language": "python",
   "name": "bmcs_env"
  },
  "language_info": {
   "codemirror_mode": {
    "name": "ipython",
    "version": 3
   },
   "file_extension": ".py",
   "mimetype": "text/x-python",
   "name": "python",
   "nbconvert_exporter": "python",
   "pygments_lexer": "ipython3",
   "version": "3.9.0"
  }
 },
 "nbformat": 4,
 "nbformat_minor": 5
}
