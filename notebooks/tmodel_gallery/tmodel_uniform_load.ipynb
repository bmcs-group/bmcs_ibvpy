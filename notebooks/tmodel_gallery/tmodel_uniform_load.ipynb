{
 "cells": [
  {
   "cell_type": "code",
   "execution_count": 40,
   "id": "automotive-answer",
   "metadata": {},
   "outputs": [],
   "source": [
    "%matplotlib widget\n",
    "import numpy as np\n",
    "import matplotlib.pylab as plt"
   ]
  },
  {
   "cell_type": "code",
   "execution_count": 41,
   "id": "potential-attribute",
   "metadata": {},
   "outputs": [],
   "source": [
    "from ibvpy.bcond import BCDof\n",
    "from ibvpy.tmodel.mats3D import MATS3DScalarDamage\n",
    "from ibvpy.xmodel.xdomain_point import XDomainSinglePoint\n",
    "from ibvpy.sim.tstep_bc import TStepBC"
   ]
  },
  {
   "cell_type": "code",
   "execution_count": 52,
   "id": "brown-vegetation",
   "metadata": {},
   "outputs": [],
   "source": [
    "tmodel = MATS3DScalarDamage(E=28000, epsilon_0=3/28000, epsilon_f=0.2)"
   ]
  },
  {
   "cell_type": "code",
   "execution_count": 53,
   "id": "closing-guest",
   "metadata": {},
   "outputs": [],
   "source": [
    "xmodel = XDomainSinglePoint()"
   ]
  },
  {
   "cell_type": "code",
   "execution_count": 54,
   "id": "express-occurrence",
   "metadata": {},
   "outputs": [],
   "source": [
    "w_max = 4 # mm\n",
    "bc_load = BCDof(dof=0, var='u', dims=[0], value=w_max)"
   ]
  },
  {
   "cell_type": "code",
   "execution_count": 55,
   "id": "eligible-explanation",
   "metadata": {},
   "outputs": [],
   "source": [
    "m = TStepBC(\n",
    "    domains=[(xmodel, tmodel)],\n",
    "    bc=[bc_load]\n",
    ")"
   ]
  },
  {
   "cell_type": "code",
   "execution_count": 56,
   "id": "defensive-insider",
   "metadata": {},
   "outputs": [],
   "source": [
    "w_steps = 200\n",
    "s = m.sim\n",
    "s.tloop.k_max = 400\n",
    "s.tline.step = 1 / w_steps\n",
    "s.run()"
   ]
  },
  {
   "cell_type": "code",
   "execution_count": 57,
   "id": "elect-chinese",
   "metadata": {},
   "outputs": [
    {
     "data": {
      "application/vnd.jupyter.widget-view+json": {
       "model_id": "b626c784708547a991b025ca5d3d7089",
       "version_major": 2,
       "version_minor": 0
      },
      "text/plain": [
       "Canvas(toolbar=Toolbar(toolitems=[('Home', 'Reset original view', 'home', 'home'), ('Back', 'Back to previous …"
      ]
     },
     "metadata": {},
     "output_type": "display_data"
    },
    {
     "data": {
      "text/plain": [
       "[<matplotlib.lines.Line2D at 0x7f5145011550>]"
      ]
     },
     "execution_count": 57,
     "metadata": {},
     "output_type": "execute_result"
    }
   ],
   "source": [
    "_, ax = plt.subplots(1,1)\n",
    "ax.plot(m.hist.U_t[:,0], m.hist.F_t[:,0])\n",
    "ax.plot(m.hist.U_t[:,1], m.hist.F_t[:,0])"
   ]
  },
  {
   "cell_type": "code",
   "execution_count": null,
   "id": "developmental-anniversary",
   "metadata": {
    "pycharm": {
     "name": "#%%\n"
    }
   },
   "outputs": [],
   "source": []
  },
  {
   "cell_type": "code",
   "execution_count": null,
   "id": "flush-delhi",
   "metadata": {},
   "outputs": [],
   "source": []
  }
 ],
 "metadata": {
  "kernelspec": {
   "display_name": "bmcs_env",
   "language": "python",
   "name": "bmcs_env"
  },
  "language_info": {
   "codemirror_mode": {
    "name": "ipython",
    "version": 3
   },
   "file_extension": ".py",
   "mimetype": "text/x-python",
   "name": "python",
   "nbconvert_exporter": "python",
   "pygments_lexer": "ipython3",
   "version": "3.9.1"
  },
  "toc": {
   "base_numbering": 1,
   "nav_menu": {},
   "number_sections": true,
   "sideBar": true,
   "skip_h1_title": false,
   "title_cell": "Table of Contents",
   "title_sidebar": "Contents",
   "toc_cell": false,
   "toc_position": {},
   "toc_section_display": true,
   "toc_window_display": false
  }
 },
 "nbformat": 4,
 "nbformat_minor": 5
}
