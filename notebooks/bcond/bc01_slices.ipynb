{
 "cells": [
  {
   "cell_type": "markdown",
   "id": "24c36ece-ec47-435e-87e4-58115811f1e3",
   "metadata": {},
   "source": [
    "# Boundary condition examples"
   ]
  },
  {
   "cell_type": "code",
   "execution_count": null,
   "id": "084cf6bb-e9d6-4a78-bcb3-8db73aa5c5bd",
   "metadata": {},
   "outputs": [],
   "source": [
    "from ibvpy.api import \\\n",
    "    BCSliceE, BCSliceI, TStepBC, XDomainFEGrid, FETS3D8H, MATS3DElastic"
   ]
  },
  {
   "cell_type": "code",
   "execution_count": null,
   "id": "d4c577b5-6724-4c5a-9a02-038f91ea59c8",
   "metadata": {},
   "outputs": [],
   "source": [
    "xd = XDomainFEGrid(\n",
    "    fets=FETS3D8H(),\n",
    "    coord_min=(0,0,0),\n",
    "    coord_max=(2,2,2),\n",
    "    shape=(2,2,2)\n",
    ")"
   ]
  },
  {
   "cell_type": "code",
   "execution_count": null,
   "id": "c7f6b7c0-4e1c-4a4b-8995-3200bccb0401",
   "metadata": {},
   "outputs": [],
   "source": [
    "m = MATS3DElastic()"
   ]
  },
  {
   "cell_type": "code",
   "execution_count": null,
   "id": "d0b4b946-eb98-4d3c-b895-bde0bb515e3a",
   "metadata": {},
   "outputs": [],
   "source": [
    "m = TStepBC(\n",
    "    domains=[(xd, m)]\n",
    ")"
   ]
  },
  {
   "cell_type": "code",
   "execution_count": null,
   "id": "50856362-271d-44bb-abed-ee84799947a5",
   "metadata": {},
   "outputs": [],
   "source": [
    "bc_fix_xy = BCSliceI(var='u', dims=[0,1,2], slice=xd.mesh.I[:,:,0])"
   ]
  },
  {
   "cell_type": "code",
   "execution_count": null,
   "id": "e9a447e8-59aa-4c34-977f-bd4638f7f364",
   "metadata": {},
   "outputs": [],
   "source": [
    "bc_fix_xy.dofs"
   ]
  },
  {
   "cell_type": "code",
   "execution_count": null,
   "id": "eb3ed292-0884-4bb4-baf0-e6d17cba470c",
   "metadata": {},
   "outputs": [],
   "source": [
    "bc_fix_xy.dof_X"
   ]
  },
  {
   "cell_type": "code",
   "execution_count": null,
   "id": "753308bc-0b71-456d-ac54-b7449824cc38",
   "metadata": {},
   "outputs": [],
   "source": []
  }
 ],
 "metadata": {
  "kernelspec": {
   "display_name": "bmcs_env",
   "language": "python",
   "name": "bmcs_env"
  },
  "language_info": {
   "codemirror_mode": {
    "name": "ipython",
    "version": 3
   },
   "file_extension": ".py",
   "mimetype": "text/x-python",
   "name": "python",
   "nbconvert_exporter": "python",
   "pygments_lexer": "ipython3"
  }
 },
 "nbformat": 4,
 "nbformat_minor": 5
}
