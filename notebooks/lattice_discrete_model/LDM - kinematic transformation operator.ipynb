{
 "cells": [
  {
   "cell_type": "markdown",
   "metadata": {},
   "source": [
    "## Kinematic transformation operator for lattice models"
   ]
  },
  {
   "cell_type": "code",
   "execution_count": 1,
   "metadata": {},
   "outputs": [],
   "source": [
    "import numpy as np\n",
    "%matplotlib widget\n",
    "from mpl_toolkits import mplot3d\n",
    "import matplotlib.pyplot as plt"
   ]
  },
  {
   "cell_type": "code",
   "execution_count": 2,
   "metadata": {},
   "outputs": [
    {
     "data": {
      "text/html": [
       "<style>\n",
       "div.jupyter-widgets.widget-label {display: none;}\n",
       "</style>\n"
      ],
      "text/plain": [
       "<IPython.core.display.HTML object>"
      ]
     },
     "metadata": {},
     "output_type": "display_data"
    }
   ],
   "source": [
    "%%html\n",
    "<style>\n",
    "div.jupyter-widgets.widget-label {display: none;}\n",
    "</style>"
   ]
  },
  {
   "cell_type": "code",
   "execution_count": 3,
   "metadata": {},
   "outputs": [],
   "source": [
    "u = np.array([[1,2,3],\n",
    "              [2,3,4]], dtype=np.float_)\n",
    "v = np.array([[3,2,5],\n",
    "              [5,3,2]], dtype=np.float_)"
   ]
  },
  {
   "cell_type": "code",
   "execution_count": 4,
   "metadata": {},
   "outputs": [
    {
     "data": {
      "text/plain": [
       "array([22., 27.])"
      ]
     },
     "execution_count": 4,
     "metadata": {},
     "output_type": "execute_result"
    }
   ],
   "source": [
    "np.einsum('...a,...a->...', u, v)"
   ]
  },
  {
   "cell_type": "code",
   "execution_count": 5,
   "metadata": {},
   "outputs": [],
   "source": [
    "A = np.einsum('...i,...j->...ij', u, v)"
   ]
  },
  {
   "cell_type": "code",
   "execution_count": 6,
   "metadata": {},
   "outputs": [
    {
     "data": {
      "text/plain": [
       "array([[ 38.,  76., 114.],\n",
       "       [ 76., 114., 152.]])"
      ]
     },
     "execution_count": 6,
     "metadata": {},
     "output_type": "execute_result"
    }
   ],
   "source": [
    "np.einsum('...ij,...j->...i', A, v)"
   ]
  },
  {
   "cell_type": "code",
   "execution_count": 7,
   "metadata": {},
   "outputs": [],
   "source": [
    "C = np.einsum('...ij,...jk->...ij', A, A)"
   ]
  },
  {
   "cell_type": "code",
   "execution_count": 8,
   "metadata": {},
   "outputs": [
    {
     "ename": "NameError",
     "evalue": "name 'EPS' is not defined",
     "output_type": "error",
     "traceback": [
      "\u001b[0;31m---------------------------------------------------------------------------\u001b[0m",
      "\u001b[0;31mNameError\u001b[0m                                 Traceback (most recent call last)",
      "\u001b[0;32m<ipython-input-8-1197e36073f8>\u001b[0m in \u001b[0;36m<module>\u001b[0;34m\u001b[0m\n\u001b[0;32m----> 1\u001b[0;31m \u001b[0mnp\u001b[0m\u001b[0;34m.\u001b[0m\u001b[0meinsum\u001b[0m\u001b[0;34m(\u001b[0m\u001b[0;34m'ijk,...j,...k->...i'\u001b[0m\u001b[0;34m,\u001b[0m \u001b[0mEPS\u001b[0m\u001b[0;34m,\u001b[0m \u001b[0mu\u001b[0m\u001b[0;34m,\u001b[0m \u001b[0mv\u001b[0m\u001b[0;34m)\u001b[0m\u001b[0;34m\u001b[0m\u001b[0;34m\u001b[0m\u001b[0m\n\u001b[0m",
      "\u001b[0;31mNameError\u001b[0m: name 'EPS' is not defined"
     ]
    }
   ],
   "source": [
    "np.einsum('ijk,...j,...k->...i', EPS, u, v)"
   ]
  },
  {
   "cell_type": "markdown",
   "metadata": {},
   "source": [
    "### Kronecker delta"
   ]
  },
  {
   "cell_type": "code",
   "execution_count": 9,
   "metadata": {},
   "outputs": [],
   "source": [
    "DELTA = np.identity(3)"
   ]
  },
  {
   "cell_type": "markdown",
   "metadata": {},
   "source": [
    "### Levi Civita symbol"
   ]
  },
  {
   "cell_type": "code",
   "execution_count": 10,
   "metadata": {},
   "outputs": [],
   "source": [
    "EPS = np.zeros((3, 3, 3), dtype='f')\n",
    "EPS[(0, 1, 2), (1, 2, 0), (2, 0, 1)] = 1\n",
    "EPS[(2, 1, 0), (1, 0, 2), (0, 2, 1)] = -1"
   ]
  },
  {
   "cell_type": "markdown",
   "metadata": {},
   "source": [
    "### Index letters\n",
    "\n",
    "To orientation in the formulas and in the code, the following \n",
    "index convention is used to in the sequel:\n",
    "\n",
    " * $I$ is a global node index, $I \\in (0, n_I-1)$\n",
    " * $a,b,c,d$ are indexes of spatial directions $a,b,c,d \\in (0,1,2)$\n",
    " * $L$ is a global index of a line, $L \\in (0, n_L-1)$\n",
    " * $i$ is an index of a line node $i \\in (0,1)$ \n",
    " * $p$ is an index of kinematic category $p \\in (0,1)$ where index $p = 0$ denotes translation and $p = 1$ denotes rotation"
   ]
  },
  {
   "cell_type": "markdown",
   "metadata": {},
   "source": [
    "### Input arrays\n",
    "The array of nodal coordinates in 3D and their links $L$: "
   ]
  },
  {
   "cell_type": "code",
   "execution_count": 11,
   "metadata": {},
   "outputs": [],
   "source": [
    "X_Ia = np.array(\n",
    "    [\n",
    "        [0, 0, 0],\n",
    "        [0, 1, 0],\n",
    "        [-1, 1, 0],\n",
    "        [1, 1, 0]\n",
    "    ], dtype=np.float_\n",
    ")\n",
    "\n",
    "I_Li = np.array(\n",
    "    [\n",
    "        [0, 2],\n",
    "        [0, 3],\n",
    "        [1, 2],\n",
    "        [1, 3]\n",
    "    ], dtype=np.int_\n",
    ")\n",
    "# X_Ia = np.array([[0, 0, 0], [1, 0, 0]], dtype=np.float_ )\n",
    "# I_Li = np.array([[0,1]], dtype=np.int_)"
   ]
  },
  {
   "cell_type": "markdown",
   "metadata": {},
   "source": [
    "```python\n",
    "X_Ia = np.array([[0, 0, 0], [1, 0, 0]], dtype=np.float_ )\n",
    "I_Li = np.array([[0,1]], dtype=np.int_)\n",
    "```"
   ]
  },
  {
   "cell_type": "markdown",
   "metadata": {},
   "source": [
    "### Rearange the nodes into an array with line and local node index"
   ]
  },
  {
   "cell_type": "code",
   "execution_count": 12,
   "metadata": {},
   "outputs": [
    {
     "data": {
      "text/plain": [
       "array([[[ 0.,  0.,  0.],\n",
       "        [-1.,  1.,  0.]],\n",
       "\n",
       "       [[ 0.,  0.,  0.],\n",
       "        [ 1.,  1.,  0.]],\n",
       "\n",
       "       [[ 0.,  1.,  0.],\n",
       "        [-1.,  1.,  0.]],\n",
       "\n",
       "       [[ 0.,  1.,  0.],\n",
       "        [ 1.,  1.,  0.]]])"
      ]
     },
     "execution_count": 12,
     "metadata": {},
     "output_type": "execute_result"
    }
   ],
   "source": [
    "X_Lia = X_Ia[I_Li]\n",
    "X_Lia"
   ]
  },
  {
   "cell_type": "markdown",
   "metadata": {},
   "source": [
    "```python\n",
    "X_Lia = X_Ia[I_Li]\n",
    "```"
   ]
  },
  {
   "cell_type": "markdown",
   "metadata": {},
   "source": [
    "Matplotlibs repeats the plot along the last dimension. Thus, rearange the array representing the links with nodal coordinates such that $L$ is the last dimension and the spatial coordinate is the first dimension. "
   ]
  },
  {
   "cell_type": "code",
   "execution_count": 13,
   "metadata": {},
   "outputs": [],
   "source": [
    "X_aiL = np.einsum('Lia->aiL', X_Lia)"
   ]
  },
  {
   "cell_type": "markdown",
   "metadata": {},
   "source": [
    "Then, the lattice can be plotted in using the line."
   ]
  },
  {
   "cell_type": "code",
   "execution_count": 14,
   "metadata": {},
   "outputs": [
    {
     "data": {
      "application/vnd.jupyter.widget-view+json": {
       "model_id": "cddd40feae7d48d48fbad9ae1c78ef55",
       "version_major": 2,
       "version_minor": 0
      },
      "text/plain": [
       "Canvas(toolbar=Toolbar(toolitems=[('Home', 'Reset original view', 'home', 'home'), ('Back', 'Back to previous …"
      ]
     },
     "metadata": {},
     "output_type": "display_data"
    }
   ],
   "source": [
    "_, ax = plt.subplots(1,1)\n",
    "ax.plot(*X_aiL,color='black', marker=\"o\");\n",
    "ax.set_xlabel('x');\n",
    "ax.set_ylabel('y');"
   ]
  },
  {
   "cell_type": "code",
   "execution_count": 15,
   "metadata": {},
   "outputs": [
    {
     "data": {
      "application/vnd.jupyter.widget-view+json": {
       "model_id": "53e4c76395bb4636baeffcde20e7bf35",
       "version_major": 2,
       "version_minor": 0
      },
      "text/plain": [
       "Canvas(toolbar=Toolbar(toolitems=[('Home', 'Reset original view', 'home', 'home'), ('Back', 'Back to previous …"
      ]
     },
     "metadata": {},
     "output_type": "display_data"
    }
   ],
   "source": [
    "X_Lai = np.einsum('Lia->Lai', X_Lia)\n",
    "fig = plt.figure()\n",
    "ax = plt.axes(projection=\"3d\")\n",
    "for X_ai in X_Lai:\n",
    "    x_line, y_line, z_line = X_ai\n",
    "    ax.plot3D(x_line, y_line, z_line, 'gray');\n",
    "x_points, y_points, z_points = np.einsum('Ia->aI', X_Ia)\n",
    "ax.scatter3D(x_points, y_points, z_points, color='red');\n",
    "ax.set_xlabel('X');\n",
    "ax.set_ylabel('Y');\n",
    "ax.set_zlabel('Z');"
   ]
  },
  {
   "cell_type": "markdown",
   "metadata": {},
   "source": [
    "## Construction of orthogonal basis\n",
    "To provide a robust scheme for the identification of two tangential\n",
    "vectors the concept presented here has been applied\n",
    "\n",
    "https://orbit.dtu.dk/files/126824972/onb_frisvad_jgt2012_v2.pdf"
   ]
  },
  {
   "cell_type": "code",
   "execution_count": 16,
   "metadata": {},
   "outputs": [],
   "source": [
    "# line vector v0\n",
    "Tu_La = X_Lia[..., 1, :] - X_Lia[..., 0, :]\n",
    "# Exclude the cases that a vector is perfectly aligned with an axis\n",
    "I = np.fabs(Tu_La[..., 0]) > np.fabs(Tu_La[..., 2])\n",
    "# a reference vector orthogonal to y-z projection - within the y-z plane \n",
    "Tvv_La = np.c_[0 * Tu_La[..., 0], -Tu_La[..., 2], Tu_La[..., 1]]\n",
    "# a reference vector orthogonal to x-y projection - within the x-y plane\n",
    "Tvv_La[I, :] = np.c_[-Tu_La[I, 1], Tu_La[I, 0], 0 * Tu_La[I, 0]]\n",
    "# vector v1 - orthogonal to the line vector v0 and a reference vector\n",
    "Tw_La = np.einsum('abc,...a,...b->...c', EPS, Tu_La, Tvv_La)\n",
    "# vector v2 - orthogonal to v0 and v1\n",
    "Tv_La = np.einsum('abc,...a,...b->...c', EPS, Tw_La, Tu_La)\n",
    "# orthonormal bases\n",
    "T_Lba = np.einsum('...bLa->...Lba', np.array([Tu_La, Tv_La, Tw_La]))"
   ]
  },
  {
   "cell_type": "markdown",
   "metadata": {},
   "source": [
    "### Normalize to get orthonormal basis"
   ]
  },
  {
   "cell_type": "code",
   "execution_count": 17,
   "metadata": {},
   "outputs": [
    {
     "data": {
      "text/plain": [
       "array([[[-0.70710678,  0.70710678,  0.        ],\n",
       "        [-0.70710678, -0.70710678,  0.        ],\n",
       "        [ 0.        ,  0.        ,  1.        ]],\n",
       "\n",
       "       [[ 0.70710678,  0.70710678,  0.        ],\n",
       "        [-0.70710678,  0.70710678,  0.        ],\n",
       "        [ 0.        ,  0.        ,  1.        ]],\n",
       "\n",
       "       [[-1.        ,  0.        ,  0.        ],\n",
       "        [ 0.        , -1.        ,  0.        ],\n",
       "        [ 0.        ,  0.        ,  1.        ]],\n",
       "\n",
       "       [[ 1.        ,  0.        ,  0.        ],\n",
       "        [ 0.        ,  1.        ,  0.        ],\n",
       "        [ 0.        ,  0.        ,  1.        ]]])"
      ]
     },
     "execution_count": 17,
     "metadata": {},
     "output_type": "execute_result"
    }
   ],
   "source": [
    "norm_T_lb = 1. / np.sqrt(np.einsum(\n",
    "    '...lba,...lba->...lb', T_Lba, T_Lba)\n",
    ")\n",
    "nT_Lba = np.einsum('...lb,...lba->...lba', norm_T_lb, T_Lba)\n",
    "nT_Lba"
   ]
  },
  {
   "cell_type": "markdown",
   "metadata": {},
   "source": [
    "## Coordinates of interfaces between two linked aggregates\n",
    "\\begin{align}\n",
    "    x^{\\mathrm{m}}_{La} = \\frac{1}{2} \\delta_{ii} x_{Lia}\n",
    "\\end{align}\n",
    "\n",
    "\\begin{align}\n",
    "    \\Delta x^{m}_{Lia} = x^{\\mathrm{m}}_{La} - x_{Lia}\n",
    "\\end{align}"
   ]
  },
  {
   "cell_type": "code",
   "execution_count": 18,
   "metadata": {},
   "outputs": [
    {
     "data": {
      "text/plain": [
       "array([[[-0.5,  0.5,  0. ],\n",
       "        [ 0.5, -0.5,  0. ]],\n",
       "\n",
       "       [[ 0.5,  0.5,  0. ],\n",
       "        [-0.5, -0.5,  0. ]],\n",
       "\n",
       "       [[-0.5,  0. ,  0. ],\n",
       "        [ 0.5,  0. ,  0. ]],\n",
       "\n",
       "       [[ 0.5,  0. ,  0. ],\n",
       "        [-0.5,  0. ,  0. ]]])"
      ]
     },
     "execution_count": 18,
     "metadata": {},
     "output_type": "execute_result"
    }
   ],
   "source": [
    "DELTA2 = np.identity(2)\n",
    "Xm_La = np.einsum('ii,Lia->La', DELTA2, X_Lia) / 2\n",
    "Xm_Lia = Xm_La[..., np.newaxis, :]\n",
    "dXm_Lia = Xm_Lia - X_Lia\n",
    "dXm_Lia"
   ]
  },
  {
   "cell_type": "markdown",
   "metadata": {},
   "source": [
    "```python\n",
    "DELTA2 = np.identity(2)\n",
    "Xm_La = np.einsum('ii,Lia->La', DELTA2, X_Lia) / 2\n",
    "Xm_Lia = Xm_La[..., np.newaxis, :]\n",
    "dXm_Lia = Xm_Lia - X_Lia\n",
    "```"
   ]
  },
  {
   "cell_type": "markdown",
   "metadata": {},
   "source": [
    "\n",
    "\n",
    "## Displacement of nodes $U_{Ia}$ and rotation of aggregates $\\Phi_{Ia}$"
   ]
  },
  {
   "cell_type": "code",
   "execution_count": 19,
   "metadata": {},
   "outputs": [],
   "source": [
    "U_Ia = np.array(\n",
    "    [\n",
    "        [0.4, 0, 0],\n",
    "        [0, 0, 0],\n",
    "        [0, 0, 0],\n",
    "        [0, 0, 0]\n",
    "    ], dtype=np.float_\n",
    ")\n",
    "\n",
    "Phi_Ia = np.array(\n",
    "    [\n",
    "        [0, 0, 0.1 * np.pi],\n",
    "        [0, 0, -0.1 * np.pi],\n",
    "        [0, 0, 0.1 * np.pi],\n",
    "        [0.3 * np.pi, 0, 0.1 * np.pi]\n",
    "    ], dtype=np.float_\n",
    ")\n",
    "# U_Ia = np.array(\n",
    "#     [[0, 0, 0],\n",
    "#      [0, -0.1, 0]], dtype=np.float_\n",
    "# )\n",
    "# Phi_Ia = np.array(\n",
    "#     [[0, 0, 0],\n",
    "#     [0,0, np.pi/10]], dtype=np.float_\n",
    "# )"
   ]
  },
  {
   "cell_type": "code",
   "execution_count": 20,
   "metadata": {},
   "outputs": [
    {
     "data": {
      "text/plain": [
       "array([[[0.4, 0. , 0. ],\n",
       "        [0. , 0. , 0. ]],\n",
       "\n",
       "       [[0.4, 0. , 0. ],\n",
       "        [0. , 0. , 0. ]],\n",
       "\n",
       "       [[0. , 0. , 0. ],\n",
       "        [0. , 0. , 0. ]],\n",
       "\n",
       "       [[0. , 0. , 0. ],\n",
       "        [0. , 0. , 0. ]]])"
      ]
     },
     "execution_count": 20,
     "metadata": {},
     "output_type": "execute_result"
    }
   ],
   "source": [
    "U_Lia = U_Ia[I_Li]\n",
    "U_Lia"
   ]
  },
  {
   "cell_type": "markdown",
   "metadata": {},
   "source": [
    "## Global displacement of interface points"
   ]
  },
  {
   "cell_type": "markdown",
   "metadata": {},
   "source": [
    "### Translation of aggregates mapped to interfaces\n",
    "Distribute the translation of a center of grain gravity $u_{Ia}$ to the interface $i$ of the link $L$\n",
    "\\begin{align}\n",
    "U^{\\mathrm{m,trans}}_{Lia} = U_{I_{[Li]}a}\n",
    "\\end{align}"
   ]
  },
  {
   "cell_type": "code",
   "execution_count": 21,
   "metadata": {},
   "outputs": [],
   "source": [
    "Um_trans_Lia = U_Ia[I_Li]"
   ]
  },
  {
   "cell_type": "markdown",
   "metadata": {},
   "source": [
    "```python\n",
    "Um_trans_Lia = U_Ia[I_Li]\n",
    "```"
   ]
  },
  {
   "cell_type": "markdown",
   "metadata": {},
   "source": [
    "### Rotations of aggregates\n",
    "\\begin{align}\n",
    "    \\Theta_{Lib} &= \\Theta_{I[Li]a} \\\\\n",
    "    U^{\\mathrm{m,rot}}_{Lia} &=  \\epsilon_{abc}  \\Theta_{Lib} \\Delta x^{\\mathrm{m}}_{Lic}  \n",
    "\\end{align}"
   ]
  },
  {
   "cell_type": "code",
   "execution_count": 22,
   "metadata": {},
   "outputs": [],
   "source": [
    "Phi_Lia = Phi_Ia[I_Li]\n",
    "Um_rot_Lia = np.einsum('abc,...b,...c->...a',\n",
    "                   EPS, Phi_Lia, dXm_Lia)"
   ]
  },
  {
   "cell_type": "markdown",
   "metadata": {},
   "source": [
    "```python\n",
    "Phi_Lia = Phi_Ia[I_Li]\n",
    "Um_rot_Lia = np.einsum('abc,...b,...c->...a',\n",
    "                   EPS, Phi_Lia, dXm_Lia)\n",
    "```"
   ]
  },
  {
   "cell_type": "markdown",
   "metadata": {},
   "source": [
    "The  global displacement at the interface is \n",
    "\\begin{align}\n",
    "    U^{\\mathrm{m}}_{Lia} = U^{\\mathrm{m,trans}}_{Lia} + U^{\\mathrm{m,rot}}_{Lia}\n",
    "\\end{align}"
   ]
  },
  {
   "cell_type": "code",
   "execution_count": 23,
   "metadata": {},
   "outputs": [
    {
     "data": {
      "text/plain": [
       "array([[[ 0.24292037, -0.15707963,  0.        ],\n",
       "        [ 0.15707963,  0.15707963,  0.        ]],\n",
       "\n",
       "       [[ 0.24292037,  0.15707963,  0.        ],\n",
       "        [ 0.15707963, -0.15707963, -0.4712389 ]],\n",
       "\n",
       "       [[ 0.        ,  0.15707963,  0.        ],\n",
       "        [ 0.        ,  0.15707963,  0.        ]],\n",
       "\n",
       "       [[ 0.        , -0.15707963,  0.        ],\n",
       "        [ 0.        , -0.15707963,  0.        ]]])"
      ]
     },
     "execution_count": 23,
     "metadata": {},
     "output_type": "execute_result"
    }
   ],
   "source": [
    "Um_Lia = Um_trans_Lia + Um_rot_Lia\n",
    "Um_Lia"
   ]
  },
  {
   "cell_type": "markdown",
   "metadata": {},
   "source": [
    "```python\n",
    "Um_Lia = Um_trans_Lia + Um_rot_Lia\n",
    "```"
   ]
  },
  {
   "cell_type": "markdown",
   "metadata": {},
   "source": [
    "### Plot the displacements"
   ]
  },
  {
   "cell_type": "code",
   "execution_count": 24,
   "metadata": {},
   "outputs": [],
   "source": [
    "Um_trans_aiL = np.einsum('Lia->aiL',Um_trans_Lia)\n",
    "XU_aiL = X_aiL + Um_trans_aiL\n",
    "XUm_aiL = np.einsum('Lia->aiL',(Xm_Lia + Um_Lia))\n",
    "XUIm_aiL = np.concatenate(\n",
    "    [\n",
    "        np.einsum('iaL->aiL',\n",
    "                  np.array([XU_aiL[:,0,...], XUm_aiL[:,0,...]])),\n",
    "        np.einsum('iaL->aiL',\n",
    "                  np.array([XU_aiL[:,1,...], XUm_aiL[:,1,...]]))\n",
    "    ], axis=-1\n",
    ")"
   ]
  },
  {
   "cell_type": "code",
   "execution_count": 25,
   "metadata": {},
   "outputs": [
    {
     "data": {
      "application/vnd.jupyter.widget-view+json": {
       "model_id": "f33a978542dd44618b3f0023fe787d54",
       "version_major": 2,
       "version_minor": 0
      },
      "text/plain": [
       "Canvas(toolbar=Toolbar(toolitems=[('Home', 'Reset original view', 'home', 'home'), ('Back', 'Back to previous …"
      ]
     },
     "metadata": {},
     "output_type": "display_data"
    }
   ],
   "source": [
    "fig, ax = plt.subplots(1,1)\n",
    "fig.frameon = False\n",
    "ax.plot(X_aiL[0],X_aiL[1],color='black', marker=\"o\");\n",
    "ax.plot(XU_aiL[0],XU_aiL[1],color='green', marker=\"o\");\n",
    "ax.plot(XUm_aiL[0], XUm_aiL[1],color='red', marker=\"o\");\n",
    "ax.plot(XUIm_aiL[0], XUIm_aiL[1],color='blue', marker=\"o\");\n",
    "ax.set_xlabel('X');\n",
    "ax.set_ylabel('Y');\n",
    "ax.set_aspect('equal')"
   ]
  },
  {
   "cell_type": "code",
   "execution_count": 26,
   "metadata": {},
   "outputs": [],
   "source": [
    "XU_Lai = np.einsum('aiL->Lai',XU_aiL)\n",
    "XUm_Lai = np.einsum('aiL->Lai',XUm_aiL)\n",
    "XUIm_Lai = np.einsum('aiL->Lai',XUIm_aiL)"
   ]
  },
  {
   "cell_type": "code",
   "execution_count": 27,
   "metadata": {},
   "outputs": [
    {
     "data": {
      "application/vnd.jupyter.widget-view+json": {
       "model_id": "34c3e7fa35244df9b1549e6b455fd55d",
       "version_major": 2,
       "version_minor": 0
      },
      "text/plain": [
       "Canvas(toolbar=Toolbar(toolitems=[('Home', 'Reset original view', 'home', 'home'), ('Back', 'Back to previous …"
      ]
     },
     "metadata": {},
     "output_type": "display_data"
    }
   ],
   "source": [
    "fig = plt.figure()\n",
    "ax = plt.axes(projection=\"3d\")\n",
    "for X_ai,XU_ai, XUm_ai in zip(X_Lai, XU_Lai, XUm_Lai):\n",
    "    x_line, y_line, z_line = X_ai\n",
    "    ax.plot3D(x_line, y_line, z_line, 'gray');\n",
    "    x_line, y_line, z_line = XU_ai\n",
    "    ax.plot3D(x_line, y_line, z_line, 'green')\n",
    "    x_line, y_line, z_line = XUm_ai\n",
    "    ax.plot3D(x_line, y_line, z_line, 'red')\n",
    "for XUIm_ai in XUIm_Lai:\n",
    "    x_line, y_line, z_line = XUIm_ai\n",
    "    ax.plot3D(x_line, y_line, z_line, 'blue')    \n",
    "ax.scatter3D(x_points, y_points, z_points, color='red');\n",
    "ax.set_xlabel('X');\n",
    "ax.set_ylabel('Y');\n",
    "ax.set_zlabel('Z');"
   ]
  },
  {
   "cell_type": "markdown",
   "metadata": {},
   "source": [
    "### Local displacement at interface points\n",
    "Transform the displacements at the interface planes $i$ to the local base of the link $L$\n",
    "\\begin{align}\n",
    "    u^\\mathrm{m}_{Lib} = T_{Lba} U^\\mathrm{m}_{Lia}\n",
    "\\end{align}"
   ]
  },
  {
   "cell_type": "code",
   "execution_count": 28,
   "metadata": {},
   "outputs": [],
   "source": [
    "um_Lib = np.einsum('...Lba,...Lia->...Lib', nT_Lba, Um_Lia)"
   ]
  },
  {
   "cell_type": "markdown",
   "metadata": {},
   "source": [
    "```python\n",
    "um_Lib = np.einsum('...Lba,...Lia->...Lib', nT_Lba, Um_Lia)\n",
    "```"
   ]
  },
  {
   "cell_type": "markdown",
   "metadata": {},
   "source": [
    "## Relative displacements at the interface $L$\n",
    "The relative displacement\n",
    "at the interface between the aggregates $L0$ and $L1$ along the link $L$\n",
    "is given as\n",
    "\\begin{align}\n",
    "    u^{\\mathrm{m}}_{La} =  u^{\\mathrm{m}}_{L1a} - u^{\\mathrm{m}}_{L0a}.\n",
    "\\end{align}\n",
    "To express it using Einstein summation rule let us introduce a sign switch operator\n",
    "$(-1)^i$ and rewrite this equations a\n",
    "\\begin{align}\n",
    "    u^{\\mathrm{m}}_{La} = (-1)^i \\delta_{ii} u^{\\mathrm{m}}_{Lia}\n",
    "\\end{align}"
   ]
  },
  {
   "cell_type": "code",
   "execution_count": 29,
   "metadata": {},
   "outputs": [
    {
     "data": {
      "text/plain": [
       "array([[ 0.28284271, -0.16144558,  0.        ],\n",
       "       [-0.28284271, -0.16144558, -0.4712389 ],\n",
       "       [ 0.        ,  0.        ,  0.        ],\n",
       "       [ 0.        ,  0.        ,  0.        ]])"
      ]
     },
     "execution_count": 29,
     "metadata": {},
     "output_type": "execute_result"
    }
   ],
   "source": [
    "switch_sign = np.array([-1,1],dtype=np.float_)\n",
    "em_Lb = np.einsum('i,ii,...Lia->...La', \n",
    "                  switch_sign, DELTA2, um_Lib)\n",
    "em_Lb"
   ]
  },
  {
   "cell_type": "markdown",
   "metadata": {},
   "source": [
    "```python\n",
    "switch_sign = np.array([-1,1],dtype=np.float_)\n",
    "em_Lb = np.einsum('i,ii,...Lia->...La', \n",
    "                  switch_sign, DELTA2, um_Lib)\n",
    "```"
   ]
  },
  {
   "cell_type": "markdown",
   "metadata": {},
   "source": [
    "## Putting it all together\n",
    "\n",
    "### Kinematic operator $B_{pLiac}$\n",
    "To include all the steps describe above in a kinematic operator \n",
    "that can be evaluate prior to the non-linear calculation, let us perform\n",
    "the backward substitution starting from the interface. The resulting \n",
    "multidimensional array has the form:\n",
    "\\begin{align}\n",
    "    u^{\\mathrm{m}}_{La} &= (-1)^i \\delta_{ii} u^{\\mathrm{m}}_{Lia} \\\\\n",
    "    &= (-1)^i \\delta_{ii} T_{Lab} U^\\mathrm{m}_{Lib}  \\\\\n",
    "    &= (-1)^i \\delta_{ii} T_{Lab} (U^{\\mathrm{m,trans}}_{Lib} + U^{\\mathrm{m,rot}}_{Lib})\\\\\n",
    "    &= (-1)^i \\delta_{ii} T_{Lab} (U_{Lib} + \\epsilon_{bcd}  \\Theta_{Lic} \\Delta x^{\\mathrm{m}}_{Lid} ) \\\\\n",
    "    &= S_{Liac} U_{Lic} +  S_{Liab} \\epsilon_{bcd} \\Delta x^{\\mathrm{m}}_{Lid} \\Theta_{Lic} \n",
    "\\end{align}"
   ]
  },
  {
   "cell_type": "markdown",
   "metadata": {},
   "source": [
    "The terns associated with the translation are summarized in \n",
    "\\begin{align}\n",
    " S_{Liac} = (-1)^i \\delta_{ii} T_{Lab}\n",
    "\\end{align}"
   ]
  },
  {
   "cell_type": "code",
   "execution_count": 66,
   "metadata": {},
   "outputs": [],
   "source": [
    "S_Liac = np.einsum('i,ii,...Lac->...Liac', \n",
    "                    switch_sign, DELTA2, nT_Lba)"
   ]
  },
  {
   "cell_type": "markdown",
   "metadata": {},
   "source": [
    "To provide a compact mapping, let us stack the global displacement variables $U_{Lib}$ and $\\Theta_{Lic}$ along a new dimension $p$ to separate the kinematic operator from the unknown nodal variables\n",
    "\\begin{align}\n",
    "  {u}^{\\mathrm{m}}_{La} = \\mathcal{B}_{pLiac} \\mathcal{U}_{pLiac} \n",
    "\\end{align}\n",
    "where\n",
    "\\begin{align}\n",
    "\\mathcal{B}_{pLiac} =   \\left[\n",
    "  \\begin{array}{cc}\n",
    "  S_{Liac},& S_{Liab} \\epsilon_{bcd} \\Delta x^{\\mathrm{m}}_{Lid}\n",
    "  \\end{array}\n",
    "  \\right]\n",
    "\\end{align}\n",
    "and\n",
    "\\begin{align}\n",
    "  \\mathcal{U}_{pLiac} =   \\left[\n",
    "  \\begin{array}{cc}\n",
    "  U_{Lic},& \\Theta_{Lic}\n",
    "  \\end{array}\n",
    "  \\right]\n",
    "\\end{align}"
   ]
  },
  {
   "cell_type": "code",
   "execution_count": 67,
   "metadata": {},
   "outputs": [],
   "source": [
    "B_pLiac = np.array([S_Liac, np.einsum('Liab,bcd,Lid->Liac', S_Liac, EPS, dXm_Lia)])"
   ]
  },
  {
   "cell_type": "code",
   "execution_count": 69,
   "metadata": {},
   "outputs": [
    {
     "data": {
      "text/plain": [
       "array([[[ 0. ,  0. ,  0. ],\n",
       "        [ 0. , -0.1,  0. ]]])"
      ]
     },
     "execution_count": 69,
     "metadata": {},
     "output_type": "execute_result"
    }
   ],
   "source": [
    "U_pLia = np.array([U_Lia, Phi_Lia])\n",
    "U_Lia"
   ]
  },
  {
   "cell_type": "markdown",
   "metadata": {},
   "source": [
    "### Verification of the compact operator"
   ]
  },
  {
   "cell_type": "code",
   "execution_count": 70,
   "metadata": {},
   "outputs": [],
   "source": [
    "uu_m_La = np.einsum('pLiac,pLic->La', B_pLiac, U_pLia)"
   ]
  },
  {
   "cell_type": "markdown",
   "metadata": {},
   "source": [
    "Verify the equivalence of the rearanged kinematic operator with the step by step evaluation of the response performed earlier."
   ]
  },
  {
   "cell_type": "code",
   "execution_count": 71,
   "metadata": {},
   "outputs": [
    {
     "data": {
      "text/plain": [
       "array([[0., 0., 0.]])"
      ]
     },
     "execution_count": 71,
     "metadata": {},
     "output_type": "execute_result"
    }
   ],
   "source": [
    "uu_m_La - em_Lb"
   ]
  },
  {
   "cell_type": "markdown",
   "metadata": {},
   "source": [
    "The implementation of the kinematic operator mapping the nodal displacements and rotations \n",
    "that can be cached as a property in the domain object looks as follows"
   ]
  },
  {
   "cell_type": "markdown",
   "metadata": {},
   "source": [
    "### Sliding / opening inter-aggregate stiffness matrix"
   ]
  },
  {
   "cell_type": "code",
   "execution_count": 72,
   "metadata": {},
   "outputs": [],
   "source": [
    "X_Lia = X_Ia[I_Li]\n",
    "DELTA2 = np.identity(2)\n",
    "Xm_La = np.einsum('ii,Lia->La', DELTA2, X_Lia) / 2\n",
    "Xm_Lia = Xm_La[..., np.newaxis, :]\n",
    "dXm_Lia = Xm_Lia - X_Lia\n",
    "switch_sign = np.array([-1, 1], dtype=np.float_)\n",
    "S_Liac = np.einsum('i,ii,...Lac->...Liac',\n",
    "                   switch_sign, DELTA2, nT_Lba)\n",
    "B_pLiac = np.array(\n",
    "    [S_Liac, np.einsum('Liab,bcd,Lid->Liac',\n",
    "                       S_Liac, EPS, dXm_Lia)]\n",
    ")\n",
    "B_Lipac = np.einsum('pLiac->Lipac', B_pLiac)"
   ]
  },
  {
   "cell_type": "code",
   "execution_count": 73,
   "metadata": {},
   "outputs": [],
   "source": [
    "D_ab = np.identity(3)\n",
    "K_Lipbjqd = np.einsum('Lipab,Ljqcd,ac->Lipbjqd', B_Lipac, B_Lipac, D_ab)"
   ]
  },
  {
   "cell_type": "code",
   "execution_count": 74,
   "metadata": {},
   "outputs": [
    {
     "data": {
      "text/plain": [
       "(1, 2, 2, 3, 2, 2, 3)"
      ]
     },
     "execution_count": 74,
     "metadata": {},
     "output_type": "execute_result"
    }
   ],
   "source": [
    "K_Lipbjqd.shape"
   ]
  },
  {
   "cell_type": "markdown",
   "metadata": {},
   "source": [
    "Number of degrees of freedom $n_o = n_L n_i n_p n_a$ "
   ]
  },
  {
   "cell_type": "code",
   "execution_count": 77,
   "metadata": {},
   "outputs": [
    {
     "data": {
      "text/plain": [
       "24"
      ]
     },
     "execution_count": 77,
     "metadata": {},
     "output_type": "execute_result"
    }
   ],
   "source": [
    "n_o = len(X_Ia) * 6 *2\n",
    "n_o"
   ]
  },
  {
   "cell_type": "code",
   "execution_count": 78,
   "metadata": {},
   "outputs": [
    {
     "ename": "NameError",
     "evalue": "name 'K_mtx' is not defined",
     "output_type": "error",
     "traceback": [
      "\u001b[0;31m---------------------------------------------------------------------------\u001b[0m",
      "\u001b[0;31mNameError\u001b[0m                                 Traceback (most recent call last)",
      "\u001b[0;32m<ipython-input-78-88c226120df9>\u001b[0m in \u001b[0;36m<module>\u001b[0;34m\u001b[0m\n\u001b[0;32m----> 1\u001b[0;31m \u001b[0mK_mtx\u001b[0m\u001b[0;34m.\u001b[0m\u001b[0mreshape\u001b[0m\u001b[0;34m(\u001b[0m\u001b[0;34m-\u001b[0m\u001b[0;36m1\u001b[0m\u001b[0;34m,\u001b[0m\u001b[0mn_o\u001b[0m\u001b[0;34m,\u001b[0m\u001b[0mn_o\u001b[0m\u001b[0;34m)\u001b[0m\u001b[0;34m\u001b[0m\u001b[0;34m\u001b[0m\u001b[0m\n\u001b[0m",
      "\u001b[0;31mNameError\u001b[0m: name 'K_mtx' is not defined"
     ]
    }
   ],
   "source": [
    "K_mtx.reshape(-1,n_o,n_o)"
   ]
  },
  {
   "cell_type": "code",
   "execution_count": null,
   "metadata": {},
   "outputs": [],
   "source": []
  }
 ],
 "metadata": {
  "kernelspec": {
   "display_name": "Python 3",
   "language": "python",
   "name": "python3"
  },
  "language_info": {
   "codemirror_mode": {
    "name": "ipython",
    "version": 3
   },
   "file_extension": ".py",
   "mimetype": "text/x-python",
   "name": "python",
   "nbconvert_exporter": "python",
   "pygments_lexer": "ipython3",
   "version": "3.9.0"
  },
  "toc": {
   "base_numbering": 1,
   "nav_menu": {},
   "number_sections": true,
   "sideBar": true,
   "skip_h1_title": true,
   "title_cell": "Table of Contents",
   "title_sidebar": "Contents",
   "toc_cell": false,
   "toc_position": {
    "height": "calc(100% - 180px)",
    "left": "10px",
    "top": "150px",
    "width": "219.5px"
   },
   "toc_section_display": true,
   "toc_window_display": true
  }
 },
 "nbformat": 4,
 "nbformat_minor": 2
}
