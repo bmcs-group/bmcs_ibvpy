{
 "cells": [
  {
   "cell_type": "markdown",
   "id": "7fe163db-9193-44c1-9033-f79a48775c99",
   "metadata": {},
   "source": [
    "# **MS1 calibration for shear fatigue behavior - not included at Euro-C**"
   ]
  },
  {
   "cell_type": "markdown",
   "id": "a1af772b-a50e-4b71-873e-6713eda2ec74",
   "metadata": {},
   "source": [
    "Study not included at Euro-C. The notebook can be reused for calibration"
   ]
  },
  {
   "cell_type": "code",
   "execution_count": 1,
   "id": "d7b4549e-c36b-4c4c-96d2-8a71c0b9aae8",
   "metadata": {},
   "outputs": [],
   "source": [
    "%matplotlib widget\n",
    "import numpy as np\n",
    "np.seterr(divide='ignore', invalid='ignore') \n",
    "import matplotlib.pylab as plt\n",
    "from ibvpy.bcond import BCSlice, BCDof\n",
    "from ibvpy.fets import FETS2D4Q\n",
    "from ibvpy.tmodel.mats3D import MATS3DElastic\n",
    "from ibvpy.tmodel.viz3d_scalar_field import \\\n",
    "    Vis3DStateField, Viz3DScalarField\n",
    "from ibvpy.tmodel.viz3d_tensor_field import \\\n",
    "    Vis3DTensorField, Viz3DTensorField\n",
    "from ibvpy.sim.tstep_bc import TStepBC\n",
    "from ibvpy.xmodel.xdomain_fe_grid import XDomainFEGrid\n",
    "from ibvpy.xmodel.xdomain_fe_grid_axisym import XDomainFEGridAxiSym\n",
    "from ibvpy.api import TStepBC, TFCyclicNonsymmetricConstant, TFBilinear\n",
    "from mayavi import mlab\n",
    "from ibvpy.bcond import BCSliceI, BCDof\n",
    "from ibvpy.tfunction import TimeFunction, TFSelector, TFCyclicSin, TFCyclicNonsymmetricConstant\n",
    "import copy"
   ]
  },
  {
   "cell_type": "markdown",
   "id": "e1a6a1a4-d857-4067-961e-3c69ba2b922c",
   "metadata": {
    "tags": []
   },
   "source": [
    "## Unit element Axisymm "
   ]
  },
  {
   "cell_type": "code",
   "execution_count": 3,
   "id": "cfc8a405-15c0-4d2a-9687-08422101ab0e",
   "metadata": {},
   "outputs": [],
   "source": [
    "n_x_e = 3\n",
    "n_inner_y_e = 1\n",
    "n_outer_y_e = 1\n",
    "L_x = 90.0 # [mm]\n",
    "d_x = L_x / n_x_e\n",
    "R_in = 25 # [mm]\n",
    "dR = 4 # [mm]\n",
    "R_out = 50 # [mm]\n",
    "len_notch = 30\n",
    "n_notch = 1\n",
    "\n",
    "xmodel = XDomainFEGridAxiSym(integ_factor = 2 * np.pi,\n",
    "                               coord_min=(0+n_notch*d_x, R_in),\n",
    "                               coord_max=(L_x-n_notch*d_x, R_in+dR),\n",
    "                               shape=(n_x_e-2*n_notch, 1),\n",
    "                               fets=FETS2D4Q())\n",
    "m_elastic = MATS3DElastic(E=40000, nu=0.18)\n",
    "m = TStepBC(\n",
    "    domains=[(xmodel, m_elastic),\n",
    "             ]\n",
    ")"
   ]
  },
  {
   "cell_type": "code",
   "execution_count": 4,
   "id": "2b77200b-9125-4358-be08-3e4e1aaea0f3",
   "metadata": {},
   "outputs": [],
   "source": [
    "tf_precrompression = TFBilinear(loading_ratio = 1.0, time_ratio=0.1)\n",
    "tf_sliding = TFBilinear(loading_ratio = 0.0, time_ratio=0.1)"
   ]
  },
  {
   "cell_type": "code",
   "execution_count": 5,
   "id": "203202d7-3369-481b-bdb0-bf3fb2d5b24f",
   "metadata": {},
   "outputs": [],
   "source": [
    "slide_upper_slice = BCSliceI(slice=xmodel.mesh.I[:, -1],\n",
    "                                   var='u', dims=[0], value=0.0)\n",
    "slide_upper_dofs = slide_upper_slice.dofs\n",
    "\n",
    "slide_lower_slice = BCSliceI(slice=xmodel.mesh.I[:, 0],\n",
    "                                   var='u', dims=[0], value=0.0)\n",
    "slide_lower_dofs = slide_lower_slice.dofs\n",
    "\n",
    "confinement_upper_slice = BCSliceI(slice=xmodel.mesh.I[:, -1],\n",
    "                                   var='u', dims=[1], value=0.0)\n",
    "confinement_upper_dofs = confinement_upper_slice.dofs\n",
    "\n",
    "confinement_lower_slice = BCSliceI(slice=xmodel.mesh.I[:, 0],\n",
    "                                   var='u', dims=[1], value=0.0)\n",
    "confinement_lower_dofs = confinement_lower_slice.dofs\n"
   ]
  },
  {
   "cell_type": "markdown",
   "id": "608251c9-956e-4e40-9b18-1b0541580c0f",
   "metadata": {
    "tags": []
   },
   "source": [
    "## Monotonic - dc"
   ]
  },
  {
   "cell_type": "code",
   "execution_count": 8,
   "id": "6a8ae0b1-4516-4de0-89f5-5cb176d335a0",
   "metadata": {
    "tags": []
   },
   "outputs": [],
   "source": [
    "compression_stress = -30\n",
    "slide = 0.1\n",
    "\n",
    "\n",
    "m = TStepBC(\n",
    "domains=[(xmodel, m_elastic),\n",
    "         ]\n",
    ")\n",
    "# Shear bc\n",
    "\n",
    "inner_fixed_0 = slide_lower_slice\n",
    "inner_fixed_1 = confinement_lower_slice\n",
    "\n",
    "compression_force = compression_stress * 2 * np.pi * (R_in + dR) * len_notch  / (len(confinement_upper_dofs))\n",
    "upper_compression_force = [BCDof(var='f', dof=dof, value=compression_force, \n",
    "                                 time_function=tf_precrompression)\n",
    "                           for dof in confinement_upper_dofs]\n",
    "\n",
    "slide_upper = [BCDof(var='u', dof=dof, value=slide, time_function=tf_sliding)\n",
    "                     for dof in slide_upper_dofs]\n",
    "\n",
    "bc1 = [inner_fixed_0, inner_fixed_1] + slide_upper + upper_compression_force\n",
    "\n",
    "m.bc=bc1\n",
    "m.hist.vis_record = {\n",
    "#    'strain': Vis3DTensorField(var='eps_ab'),\n",
    "    'stress': Vis3DTensorField(var='sig_ab'),\n",
    "    #        'kinematic hardening': Vis3DStateField(var='z_a')\n",
    "}\n",
    "\n",
    "s = m.sim\n",
    "s.tloop.verbose = False\n",
    "s.tloop.k_max = 1000\n",
    "s.tline.step = 0.1\n",
    "# Accessing the following property - ensures serialization\n",
    "s.tstep.fe_domain.serialized_subdomains\n",
    "s.reset()\n",
    "s.run()"
   ]
  },
  {
   "cell_type": "code",
   "execution_count": 13,
   "id": "39dc1b5a-08fd-4901-b975-af652070916d",
   "metadata": {},
   "outputs": [
    {
     "data": {
      "application/vnd.jupyter.widget-view+json": {
       "model_id": "f82390709acd4b45b8fb437f3cb2a21f",
       "version_major": 2,
       "version_minor": 0
      },
      "text/plain": [
       "Canvas(toolbar=Toolbar(toolitems=[('Home', 'Reset original view', 'home', 'home'), ('Back', 'Back to previous …"
      ]
     },
     "metadata": {},
     "output_type": "display_data"
    }
   ],
   "source": [
    "cm = 1/2.54  # centimeters in inches\n",
    "# plt.style.use('grayscale')\n",
    "plt.style.use('default')\n",
    "\n",
    "plt.tight_layout()\n",
    "max_F = []\n",
    "plt.rcParams[\"font.family\"] = \"Times New Roman\"\n",
    "\n",
    "fig, ((ax1,ax2,ax3)) = plt.subplots(1, 3,figsize=(21*cm, 7*cm))\n",
    "\n",
    "U_slide = np.average(m.hist.U_t[:, slide_upper_dofs], axis=-1)\n",
    "U_dilatancy  =m.hist.U_t[:, confinement_upper_dofs[0]]\n",
    "F_slide = np.sum(m.hist.F_t[:, slide_upper_dofs], axis=-1)\n",
    "\n",
    "F_confinement = np.sum(m.hist.F_t[:, confinement_upper_dofs], axis=-1)\n",
    "\n",
    "ax1.plot(U_slide, F_confinement/(2 * np.pi * (R_in+dR)*(L_x-n_notch*2*d_x)))\n",
    "ax1.set_ylabel('confinement [MPa]', fontsize=10)\n",
    "ax1.set_xlabel('slip [mm]', fontsize=10)\n",
    "\n",
    "ax2.plot(U_slide, F_slide/1000)\n",
    "ax2.set_ylabel('shear force [kN]', fontsize=10)\n",
    "ax2.set_xlabel('slip [mm]', fontsize=10)\n",
    "\n",
    "ax3.plot(U_slide, U_dilatancy)\n",
    "ax3.set_ylabel('dilatancy [mm]', fontsize=10)\n",
    "ax3.set_xlabel('slip [mm]', fontsize=10)\n",
    "    \n",
    "    \n",
    "left  = 0.1  # the left side of the subplots of the figure\n",
    "right = 0.98  # the right side of the subplots of the figure\n",
    "bottom = 0.2   # the bottom of the subplots of the figure\n",
    "top = 0.9      # the top of the subplots of the figure\n",
    "wspace = 0.4   # the amount of width reserved for blank space between subplots\n",
    "hspace = 0.4   # the amount of height reserved for white space between subplots\n",
    "# mpl.rcParams['axes.prop_cycle'] = mpl.cycler(color=[\"k\", \"r\", \"b\"]) \n",
    "plt.subplots_adjust(left=left, bottom=bottom, right=right, top=None, wspace=wspace, hspace=hspace)\n",
    "\n"
   ]
  },
  {
   "cell_type": "markdown",
   "id": "5ff9f7e2-0025-415b-b579-712abfebb36d",
   "metadata": {
    "tags": []
   },
   "source": [
    "## Monotonic - fc"
   ]
  },
  {
   "cell_type": "code",
   "execution_count": 14,
   "id": "eea9dcc6-bd2d-41da-ab5f-f316570e5b72",
   "metadata": {
    "tags": []
   },
   "outputs": [],
   "source": [
    "compression_stress = -30\n",
    "slide = 2000 * 1000\n",
    "\n",
    "\n",
    "m = TStepBC(\n",
    "domains=[(xmodel, m_elastic),\n",
    "         ]\n",
    ")\n",
    "# Shear bc\n",
    "\n",
    "inner_fixed_0 = slide_lower_slice\n",
    "inner_fixed_1 = confinement_lower_slice\n",
    "\n",
    "compression_force = compression_stress * 2 * np.pi * (R_in + dR) * len_notch  / (len(confinement_upper_dofs))\n",
    "upper_compression_force = [BCDof(var='f', dof=dof, value=compression_force, \n",
    "                                 time_function=tf_precrompression)\n",
    "                           for dof in confinement_upper_dofs]\n",
    "\n",
    "slide_upper = [BCDof(var='f', dof=dof, value=slide, time_function=tf_sliding)\n",
    "                     for dof in slide_upper_dofs]\n",
    "\n",
    "bc1 = [inner_fixed_0, inner_fixed_1] + slide_upper + upper_compression_force\n",
    "\n",
    "m.bc=bc1\n",
    "m.hist.vis_record = {\n",
    "#    'strain': Vis3DTensorField(var='eps_ab'),\n",
    "    'stress': Vis3DTensorField(var='sig_ab'),\n",
    "    #        'kinematic hardening': Vis3DStateField(var='z_a')\n",
    "}\n",
    "\n",
    "s = m.sim\n",
    "s.tloop.verbose = False\n",
    "s.tloop.k_max = 1000\n",
    "s.tline.step = 0.1\n",
    "# Accessing the following property - ensures serialization\n",
    "s.tstep.fe_domain.serialized_subdomains\n",
    "s.reset()\n",
    "s.run()"
   ]
  },
  {
   "cell_type": "code",
   "execution_count": 15,
   "id": "5a84dc1d-0bf3-4a12-a9a8-4f6f68dcda94",
   "metadata": {},
   "outputs": [
    {
     "data": {
      "application/vnd.jupyter.widget-view+json": {
       "model_id": "d1374a4a68124b8098e669a3e3a71da6",
       "version_major": 2,
       "version_minor": 0
      },
      "text/plain": [
       "Canvas(toolbar=Toolbar(toolitems=[('Home', 'Reset original view', 'home', 'home'), ('Back', 'Back to previous …"
      ]
     },
     "metadata": {},
     "output_type": "display_data"
    }
   ],
   "source": [
    "cm = 1/2.54  # centimeters in inches\n",
    "# plt.style.use('grayscale')\n",
    "plt.style.use('default')\n",
    "\n",
    "plt.tight_layout()\n",
    "max_F = []\n",
    "plt.rcParams[\"font.family\"] = \"Times New Roman\"\n",
    "\n",
    "fig, ((ax1,ax2,ax3)) = plt.subplots(1, 3,figsize=(21*cm, 7*cm))\n",
    "\n",
    "U_slide = np.average(m.hist.U_t[:, slide_upper_dofs], axis=-1)\n",
    "U_dilatancy  =m.hist.U_t[:, confinement_upper_dofs[0]]\n",
    "F_slide = np.sum(m.hist.F_t[:, slide_upper_dofs], axis=-1)\n",
    "\n",
    "F_confinement = np.sum(m.hist.F_t[:, confinement_upper_dofs], axis=-1)\n",
    "\n",
    "ax1.plot(U_slide, F_confinement/(2 * np.pi * (R_in+dR)*(L_x-n_notch*2*d_x)))\n",
    "ax1.set_ylabel('confinement [MPa]', fontsize=10)\n",
    "ax1.set_xlabel('slip [mm]', fontsize=10)\n",
    "\n",
    "ax2.plot(U_slide, F_slide/1000)\n",
    "ax2.set_ylabel('shear force [kN]', fontsize=10)\n",
    "ax2.set_xlabel('slip [mm]', fontsize=10)\n",
    "\n",
    "ax3.plot(U_slide, U_dilatancy)\n",
    "ax3.set_ylabel('dilatancy [mm]', fontsize=10)\n",
    "ax3.set_xlabel('slip [mm]', fontsize=10)\n",
    "    \n",
    "    \n",
    "left  = 0.1  # the left side of the subplots of the figure\n",
    "right = 0.98  # the right side of the subplots of the figure\n",
    "bottom = 0.2   # the bottom of the subplots of the figure\n",
    "top = 0.9      # the top of the subplots of the figure\n",
    "wspace = 0.4   # the amount of width reserved for blank space between subplots\n",
    "hspace = 0.4   # the amount of height reserved for white space between subplots\n",
    "# mpl.rcParams['axes.prop_cycle'] = mpl.cycler(color=[\"k\", \"r\", \"b\"]) \n",
    "plt.subplots_adjust(left=left, bottom=bottom, right=right, top=None, wspace=wspace, hspace=hspace)\n",
    "\n"
   ]
  },
  {
   "cell_type": "code",
   "execution_count": null,
   "id": "95eb9847-91d1-41f7-9b4b-9b12ef578411",
   "metadata": {},
   "outputs": [],
   "source": []
  }
 ],
 "metadata": {
  "kernelspec": {
   "display_name": "bmcs_env",
   "language": "python",
   "name": "bmcs_env"
  },
  "language_info": {
   "codemirror_mode": {
    "name": "ipython",
    "version": 3
   },
   "file_extension": ".py",
   "mimetype": "text/x-python",
   "name": "python",
   "nbconvert_exporter": "python",
   "pygments_lexer": "ipython3",
   "version": "3.8.12"
  }
 },
 "nbformat": 4,
 "nbformat_minor": 5
}
