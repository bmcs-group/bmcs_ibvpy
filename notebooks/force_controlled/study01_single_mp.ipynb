{
 "cells": [
  {
   "cell_type": "markdown",
   "id": "c1143535-2d2e-4f5b-9451-f6c5aa78b5aa",
   "metadata": {},
   "source": [
    "# **Single material point simulation - pure shear in elastic material**"
   ]
  },
  {
   "cell_type": "code",
   "execution_count": null,
   "id": "83f63e78-3bbd-4515-9b2f-895b2b51c826",
   "metadata": {},
   "outputs": [],
   "source": [
    "%matplotlib widget\n",
    "from bmcs_matmod.msx import MSX\n",
    "import matplotlib.pylab as plt\n",
    "import numpy as np\n",
    "np.seterr(divide='ignore', invalid='ignore');\n",
    "from bmcs_matmod.msx.energy_dissipation import EnergyDissipation\n",
    "from ibvpy.tfunction import TimeFunction, TFSelector, TFCyclicSin, TFCyclicNonsymmetricConstant\n",
    "from ibvpy.api import TStepBC, TFCyclicNonsymmetricConstant, TFBilinear\n",
    "from ibvpy.api import XDomainSinglePoint, MATS3DScalarDamage, TStepBC, BCDof\n",
    "from ibvpy.tmodel.mats3D import MATS3DElastic\n",
    "from ibvpy.mathkit.linalg.dense_mtx import DenseMtx"
   ]
  },
  {
   "cell_type": "code",
   "execution_count": null,
   "id": "c0fe8620-8489-44f8-933c-3edd80b1e866",
   "metadata": {},
   "outputs": [],
   "source": [
    "m_elastic = MATS3DElastic()"
   ]
  },
  {
   "cell_type": "code",
   "execution_count": null,
   "id": "2dfdf46c-cbfe-4f7e-982c-7540b5d476ef",
   "metadata": {},
   "outputs": [],
   "source": [
    "xmodel = XDomainSinglePoint()\n",
    "m = TStepBC(\n",
    "    domains=[(xmodel, m_elastic),],\n",
    "    bc=[BCDof(\n",
    "            var='u', dof=3, value=-0.01)]\n",
    ")\n",
    "\n",
    "m.sim.tline.trait_set(step=0.1)\n",
    "m.sim.reset()\n",
    "m.sim.run()"
   ]
  },
  {
   "cell_type": "code",
   "execution_count": null,
   "id": "bd25090f-46f0-4915-86b1-1823a4b4b916",
   "metadata": {},
   "outputs": [],
   "source": [
    "%matplotlib widget\n",
    "import matplotlib.pylab as plt\n",
    "fig, ((ax1,ax2)) = plt.subplots(1, 2)\n",
    "ax1.plot(m.hist.U_t[:,3], m.hist.F_t[:,0])\n",
    "ax1.plot(m.hist.U_t[:,3], m.hist.F_t[:,1])\n",
    "ax1.plot(m.hist.U_t[:,3], m.hist.F_t[:,2])\n",
    "ax1.plot(m.hist.U_t[:,3], m.hist.F_t[:,3])\n",
    "ax1.plot(m.hist.U_t[:,3], m.hist.F_t[:,4])\n",
    "ax1.plot(m.hist.U_t[:,3], m.hist.F_t[:,5])\n",
    "\n",
    "ax2.plot(m.hist.U_t[:,3], m.hist.U_t[:,0])\n",
    "ax2.plot(m.hist.U_t[:,3], m.hist.U_t[:,1])\n",
    "ax2.plot(m.hist.U_t[:,3], m.hist.U_t[:,2])\n",
    "ax2.plot(m.hist.U_t[:,3], m.hist.U_t[:,4])\n",
    "ax2.plot(m.hist.U_t[:,3], m.hist.U_t[:,5])"
   ]
  },
  {
   "cell_type": "markdown",
   "id": "516fd040-6d3e-44c1-b9e2-ca4d10c82dca",
   "metadata": {},
   "source": [
    "# Shear foce control"
   ]
  },
  {
   "cell_type": "code",
   "execution_count": null,
   "id": "b796bb25-129d-42d5-a49d-349721c79f1a",
   "metadata": {},
   "outputs": [],
   "source": [
    "xmodel = XDomainSinglePoint()\n",
    "m = TStepBC(\n",
    "    domains=[(xmodel, m_elastic),],\n",
    "    bc=[BCDof(\n",
    "            var='f', dof=3, value=-1)]\n",
    ")\n",
    "m.sim.reset()"
   ]
  },
  {
   "cell_type": "code",
   "execution_count": null,
   "id": "3532090a-0f5f-44e5-8b27-acb23ebbd46f",
   "metadata": {},
   "outputs": [],
   "source": [
    "m.sim.tline.trait_set(step=0.1)\n",
    "m.sim.reset()\n",
    "m.sim.run()"
   ]
  },
  {
   "cell_type": "code",
   "execution_count": null,
   "id": "eca1d960-6270-4462-9703-e49a91f7889b",
   "metadata": {},
   "outputs": [],
   "source": [
    "%matplotlib widget\n",
    "import matplotlib.pylab as plt\n",
    "fig, ((ax1,ax2)) = plt.subplots(1, 2)\n",
    "ax1.plot(m.hist.U_t[:,3], m.hist.F_t[:,0])\n",
    "ax1.plot(m.hist.U_t[:,3], m.hist.F_t[:,1])\n",
    "ax1.plot(m.hist.U_t[:,3], m.hist.F_t[:,2])\n",
    "ax1.plot(m.hist.U_t[:,3], m.hist.F_t[:,3])\n",
    "ax1.plot(m.hist.U_t[:,3], m.hist.F_t[:,4])\n",
    "ax1.plot(m.hist.U_t[:,3], m.hist.F_t[:,5])\n",
    "\n",
    "ax2.plot(m.hist.U_t[:,3], m.hist.U_t[:,0])\n",
    "ax2.plot(m.hist.U_t[:,3], m.hist.U_t[:,1])\n",
    "ax2.plot(m.hist.U_t[:,3], m.hist.U_t[:,2])\n",
    "ax2.plot(m.hist.U_t[:,3], m.hist.U_t[:,4])\n",
    "ax2.plot(m.hist.U_t[:,3], m.hist.U_t[:,5])"
   ]
  },
  {
   "cell_type": "markdown",
   "id": "56348b7e-c15d-4efc-bfb8-7e0f57fdf218",
   "metadata": {},
   "source": [
    "# Debugging section"
   ]
  },
  {
   "cell_type": "code",
   "execution_count": null,
   "id": "9e1bff84-1c3c-408c-861f-e82d226a4245",
   "metadata": {},
   "outputs": [],
   "source": [
    "xmodel = XDomainSinglePoint()\n",
    "m = TStepBC(\n",
    "    domains=[(xmodel, m_elastic),],\n",
    "    bc=[BCDof(\n",
    "            var='f', dof=3, value=-1)]\n",
    ")\n",
    "m.sim.reset()"
   ]
  },
  {
   "cell_type": "code",
   "execution_count": null,
   "id": "c1be7c3f-efb9-4a2c-b355-0ef56552ce65",
   "metadata": {},
   "outputs": [],
   "source": [
    "self = m.sim.tstep"
   ]
  },
  {
   "cell_type": "code",
   "execution_count": null,
   "id": "b95f0567-5ae0-47b7-ad77-455b8f7f0704",
   "metadata": {},
   "outputs": [],
   "source": [
    "self.t_n, self.t_n1 = 0, 1"
   ]
  },
  {
   "cell_type": "code",
   "execution_count": null,
   "id": "b8386a9f-05a2-4e54-ac44-1ccb8ceffe9d",
   "metadata": {},
   "outputs": [],
   "source": [
    "self.K.reset_mtx()\n",
    "f_Eis, K_ks, dof_Es = np.array(\n",
    "    [s.get_corr_pred(self.U_k, self.t_n, self.t_n1)\n",
    "     for s in self.fe_domain], dtype=object).T\n",
    "f_Eis, K_ks, dof_Es"
   ]
  },
  {
   "cell_type": "code",
   "execution_count": null,
   "id": "64451bc4-6dd1-46c8-9b98-abd39a6d6b3c",
   "metadata": {},
   "outputs": [],
   "source": [
    "self.K.sys_mtx_arrays = list(K_ks)  # improve\n",
    "self.K.n_dofs"
   ]
  },
  {
   "cell_type": "code",
   "execution_count": null,
   "id": "ff291b04-3d84-4bdc-abf2-64eaeb7001ce",
   "metadata": {},
   "outputs": [],
   "source": [
    "F_ext = np.zeros_like(self.U_k)\n",
    "self.bcond_mngr.apply(\n",
    "    self.step_flag, None, self.K, F_ext, self.t_n, self.t_n1\n",
    ")\n",
    "F_ext"
   ]
  },
  {
   "cell_type": "code",
   "execution_count": null,
   "id": "a5391ff4-3ba6-42a0-9ed9-e7d25fcff260",
   "metadata": {},
   "outputs": [],
   "source": [
    "F_int = np.bincount(\n",
    "    np.hstack(np.hstack(dof_Es)),\n",
    "    weights=np.hstack(np.hstack(f_Eis))\n",
    ")\n",
    "F_int"
   ]
  },
  {
   "cell_type": "code",
   "execution_count": null,
   "id": "070f9cf9-52da-419c-9da1-f8e1733f9ca5",
   "metadata": {},
   "outputs": [],
   "source": [
    "R = F_ext - F_int\n",
    "self.K.apply_constraints(R)\n",
    "R"
   ]
  },
  {
   "cell_type": "code",
   "execution_count": null,
   "id": "f64120e9-fc4c-48cf-a78d-b4224d506e8c",
   "metadata": {},
   "outputs": [],
   "source": [
    "dm = DenseMtx(assemb=self.K), R"
   ]
  },
  {
   "cell_type": "code",
   "execution_count": null,
   "id": "0d806e6e-d9de-49a1-a726-4270d15b03fa",
   "metadata": {},
   "outputs": [],
   "source": [
    "'''Perform a single iteration\n",
    "'''\n",
    "d_U_k, pos_def = self.K.solve(check_pos_def=True)\n",
    "if self.debug:\n",
    "    print('positive definite', pos_def)\n",
    "self.U_k[:] += d_U_k\n",
    "self.primary_var_changed = True\n",
    "self.step_flag = 'corrector'\n",
    "self.U_k"
   ]
  },
  {
   "cell_type": "code",
   "execution_count": null,
   "id": "8adb7ddf-c360-4127-9184-cbc2dea135fa",
   "metadata": {},
   "outputs": [],
   "source": [
    "du = np.linalg.solve(dm[0].mtx, dm[1])\n",
    "dm"
   ]
  },
  {
   "cell_type": "code",
   "execution_count": null,
   "id": "1fef4822-1ac4-4107-96ec-8c582dc97461",
   "metadata": {},
   "outputs": [],
   "source": [
    "np.einsum('...a,a->...', dm[0].mtx, du)"
   ]
  },
  {
   "cell_type": "markdown",
   "id": "ce8c17ba-e99c-4a2d-8302-7640c240550d",
   "metadata": {},
   "source": [
    "##  end debug"
   ]
  },
  {
   "cell_type": "code",
   "execution_count": null,
   "id": "52daa17f-9f8a-4191-9386-f339e965900b",
   "metadata": {},
   "outputs": [],
   "source": []
  }
 ],
 "metadata": {
  "kernelspec": {
   "display_name": "bmcs_env",
   "language": "python",
   "name": "bmcs_env"
  },
  "language_info": {
   "codemirror_mode": {
    "name": "ipython",
    "version": 3
   },
   "file_extension": ".py",
   "mimetype": "text/x-python",
   "name": "python",
   "nbconvert_exporter": "python",
   "pygments_lexer": "ipython3"
  }
 },
 "nbformat": 4,
 "nbformat_minor": 5
}
