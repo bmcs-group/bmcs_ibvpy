{
 "cells": [
  {
   "cell_type": "markdown",
   "id": "c1143535-2d2e-4f5b-9451-f6c5aa78b5aa",
   "metadata": {},
   "source": [
    "# **Single material point simulation - pure shear in elastic material**"
   ]
  },
  {
   "cell_type": "code",
   "execution_count": 2,
   "id": "83f63e78-3bbd-4515-9b2f-895b2b51c826",
   "metadata": {},
   "outputs": [],
   "source": [
    "%matplotlib widget\n",
    "from bmcs_matmod.msx import MSX\n",
    "import matplotlib.pylab as plt\n",
    "import numpy as np\n",
    "np.seterr(divide='ignore', invalid='ignore');\n",
    "from bmcs_matmod.msx.energy_dissipation import EnergyDissipation\n",
    "from ibvpy.tfunction import TimeFunction, TFSelector, TFCyclicSin, TFCyclicNonsymmetricConstant\n",
    "from ibvpy.api import TStepBC, TFCyclicNonsymmetricConstant, TFBilinear\n",
    "from ibvpy.api import XDomainSinglePoint, MATS3DScalarDamage, TStepBC, BCDof\n",
    "from bmcs_matmod.ms1 import MS13D\n",
    "from ibvpy.tmodel.mats3D import MATS3DElastic"
   ]
  },
  {
   "cell_type": "code",
   "execution_count": 3,
   "id": "c0fe8620-8489-44f8-933c-3edd80b1e866",
   "metadata": {},
   "outputs": [],
   "source": [
    "m_elastic = MATS3DElastic()"
   ]
  },
  {
   "cell_type": "code",
   "execution_count": 7,
   "id": "2dfdf46c-cbfe-4f7e-982c-7540b5d476ef",
   "metadata": {},
   "outputs": [],
   "source": [
    "xmodel = XDomainSinglePoint()\n",
    "m = TStepBC(\n",
    "    domains=[(xmodel, m_elastic),],\n",
    "    bc=[BCDof(\n",
    "            var='u', dof=3, value=-0.01)]\n",
    ")\n",
    "\n",
    "m.sim.tline.trait_set(step=0.1)\n",
    "m.sim.reset()\n",
    "m.sim.run()\n"
   ]
  },
  {
   "cell_type": "code",
   "execution_count": 8,
   "id": "bd25090f-46f0-4915-86b1-1823a4b4b916",
   "metadata": {},
   "outputs": [
    {
     "data": {
      "application/vnd.jupyter.widget-view+json": {
       "model_id": "36351e35c4f64964b4b8f994b50c992e",
       "version_major": 2,
       "version_minor": 0
      },
      "text/plain": [
       "Canvas(toolbar=Toolbar(toolitems=[('Home', 'Reset original view', 'home', 'home'), ('Back', 'Back to previous …"
      ]
     },
     "metadata": {},
     "output_type": "display_data"
    },
    {
     "data": {
      "text/plain": [
       "[<matplotlib.lines.Line2D at 0x1fe2a8e1160>]"
      ]
     },
     "execution_count": 8,
     "metadata": {},
     "output_type": "execute_result"
    }
   ],
   "source": [
    "%matplotlib widget\n",
    "import matplotlib.pylab as plt\n",
    "fig, ((ax1,ax2)) = plt.subplots(1, 2)\n",
    "ax1.plot(m.hist.U_t[:,3], m.hist.F_t[:,0])\n",
    "ax1.plot(m.hist.U_t[:,3], m.hist.F_t[:,1])\n",
    "ax1.plot(m.hist.U_t[:,3], m.hist.F_t[:,2])\n",
    "ax1.plot(m.hist.U_t[:,3], m.hist.F_t[:,3])\n",
    "ax1.plot(m.hist.U_t[:,3], m.hist.F_t[:,4])\n",
    "ax1.plot(m.hist.U_t[:,3], m.hist.F_t[:,5])\n",
    "\n",
    "ax2.plot(m.hist.U_t[:,3], m.hist.U_t[:,0])\n",
    "ax2.plot(m.hist.U_t[:,3], m.hist.U_t[:,1])\n",
    "ax2.plot(m.hist.U_t[:,3], m.hist.U_t[:,2])\n",
    "ax2.plot(m.hist.U_t[:,3], m.hist.U_t[:,4])\n",
    "ax2.plot(m.hist.U_t[:,3], m.hist.U_t[:,5])"
   ]
  },
  {
   "cell_type": "code",
   "execution_count": 9,
   "id": "9e1bff84-1c3c-408c-861f-e82d226a4245",
   "metadata": {},
   "outputs": [
    {
     "name": "stdout",
     "output_type": "stream",
     "text": [
      "\n"
     ]
    },
    {
     "ename": "StopIteration",
     "evalue": "Warning: convergence not reached in 100 iterations",
     "output_type": "error",
     "traceback": [
      "\u001b[1;31m---------------------------------------------------------------------------\u001b[0m",
      "\u001b[1;31mStopIteration\u001b[0m                             Traceback (most recent call last)",
      "Input \u001b[1;32mIn [9]\u001b[0m, in \u001b[0;36m<module>\u001b[1;34m\u001b[0m\n\u001b[0;32m      8\u001b[0m m\u001b[38;5;241m.\u001b[39msim\u001b[38;5;241m.\u001b[39mtline\u001b[38;5;241m.\u001b[39mtrait_set(step\u001b[38;5;241m=\u001b[39m\u001b[38;5;241m0.1\u001b[39m)\n\u001b[0;32m      9\u001b[0m m\u001b[38;5;241m.\u001b[39msim\u001b[38;5;241m.\u001b[39mreset()\n\u001b[1;32m---> 10\u001b[0m \u001b[43mm\u001b[49m\u001b[38;5;241;43m.\u001b[39;49m\u001b[43msim\u001b[49m\u001b[38;5;241;43m.\u001b[39;49m\u001b[43mrun\u001b[49m\u001b[43m(\u001b[49m\u001b[43m)\u001b[49m\n",
      "File \u001b[1;32mc:\\users\\marag\\pycharmprojects\\bmcs_ibvpy\\ibvpy\\sim\\sim_base.py:59\u001b[0m, in \u001b[0;36mSimulator.run\u001b[1;34m(self)\u001b[0m\n\u001b[0;32m     56\u001b[0m \u001b[38;5;28;01mdef\u001b[39;00m \u001b[38;5;21mrun\u001b[39m(\u001b[38;5;28mself\u001b[39m):\n\u001b[0;32m     57\u001b[0m     \u001b[38;5;124mr\u001b[39m\u001b[38;5;124;03m'''Run a thread if it does not exist - do nothing otherwise\u001b[39;00m\n\u001b[0;32m     58\u001b[0m \u001b[38;5;124;03m    '''\u001b[39;00m\n\u001b[1;32m---> 59\u001b[0m     \u001b[38;5;28;43mself\u001b[39;49m\u001b[38;5;241;43m.\u001b[39;49m\u001b[43mtloop\u001b[49m\u001b[43m(\u001b[49m\u001b[43m)\u001b[49m\n\u001b[0;32m     60\u001b[0m     \u001b[38;5;28;01mreturn\u001b[39;00m\n",
      "File \u001b[1;32mc:\\users\\marag\\pycharmprojects\\bmcs_ibvpy\\ibvpy\\sim\\tloop.py:65\u001b[0m, in \u001b[0;36mTLoop.__call__\u001b[1;34m(self)\u001b[0m\n\u001b[0;32m     63\u001b[0m \u001b[38;5;28;01mdef\u001b[39;00m \u001b[38;5;21m__call__\u001b[39m(\u001b[38;5;28mself\u001b[39m):\n\u001b[0;32m     64\u001b[0m     \u001b[38;5;28mself\u001b[39m\u001b[38;5;241m.\u001b[39minit()\n\u001b[1;32m---> 65\u001b[0m     \u001b[38;5;28;01mreturn\u001b[39;00m \u001b[38;5;28;43mself\u001b[39;49m\u001b[38;5;241;43m.\u001b[39;49m\u001b[43meval\u001b[49m\u001b[43m(\u001b[49m\u001b[43m)\u001b[49m\n",
      "File \u001b[1;32mc:\\users\\marag\\pycharmprojects\\bmcs_ibvpy\\ibvpy\\sim\\tloop_implicit.py:52\u001b[0m, in \u001b[0;36mTLoopImplicit.eval\u001b[1;34m(self)\u001b[0m\n\u001b[0;32m     50\u001b[0m         \u001b[38;5;28mself\u001b[39m\u001b[38;5;241m.\u001b[39mrestart \u001b[38;5;241m=\u001b[39m \u001b[38;5;28;01mTrue\u001b[39;00m\n\u001b[0;32m     51\u001b[0m         \u001b[38;5;28mprint\u001b[39m(\u001b[38;5;124m'\u001b[39m\u001b[38;5;124m'\u001b[39m)\n\u001b[1;32m---> 52\u001b[0m         \u001b[38;5;28;01mraise\u001b[39;00m \u001b[38;5;167;01mStopIteration\u001b[39;00m(\u001b[38;5;124m'\u001b[39m\u001b[38;5;124mWarning: \u001b[39m\u001b[38;5;124m'\u001b[39m\n\u001b[0;32m     53\u001b[0m                             \u001b[38;5;124m'\u001b[39m\u001b[38;5;124mconvergence not reached in \u001b[39m\u001b[38;5;132;01m%g\u001b[39;00m\u001b[38;5;124m iterations\u001b[39m\u001b[38;5;124m'\u001b[39m \u001b[38;5;241m%\u001b[39m k)\n\u001b[0;32m     54\u001b[0m     \u001b[38;5;28;01mreturn\u001b[39;00m\n\u001b[0;32m     55\u001b[0m \u001b[38;5;66;03m# accept the time step and record the state in history\u001b[39;00m\n",
      "\u001b[1;31mStopIteration\u001b[0m: Warning: convergence not reached in 100 iterations"
     ]
    }
   ],
   "source": [
    "xmodel = XDomainSinglePoint()\n",
    "m = TStepBC(\n",
    "    domains=[(xmodel, m_elastic),],\n",
    "    bc=[BCDof(\n",
    "            var='f', dof=3, value=-200)]\n",
    ")\n",
    "\n",
    "m.sim.tline.trait_set(step=0.1)\n",
    "m.sim.reset()\n",
    "m.sim.run()\n"
   ]
  },
  {
   "cell_type": "code",
   "execution_count": 8,
   "id": "eca1d960-6270-4462-9703-e49a91f7889b",
   "metadata": {},
   "outputs": [
    {
     "data": {
      "application/vnd.jupyter.widget-view+json": {
       "model_id": "36351e35c4f64964b4b8f994b50c992e",
       "version_major": 2,
       "version_minor": 0
      },
      "text/plain": [
       "Canvas(toolbar=Toolbar(toolitems=[('Home', 'Reset original view', 'home', 'home'), ('Back', 'Back to previous …"
      ]
     },
     "metadata": {},
     "output_type": "display_data"
    },
    {
     "data": {
      "text/plain": [
       "[<matplotlib.lines.Line2D at 0x1fe2a8e1160>]"
      ]
     },
     "execution_count": 8,
     "metadata": {},
     "output_type": "execute_result"
    }
   ],
   "source": [
    "%matplotlib widget\n",
    "import matplotlib.pylab as plt\n",
    "fig, ((ax1,ax2)) = plt.subplots(1, 2)\n",
    "ax1.plot(m.hist.U_t[:,3], m.hist.F_t[:,0])\n",
    "ax1.plot(m.hist.U_t[:,3], m.hist.F_t[:,1])\n",
    "ax1.plot(m.hist.U_t[:,3], m.hist.F_t[:,2])\n",
    "ax1.plot(m.hist.U_t[:,3], m.hist.F_t[:,3])\n",
    "ax1.plot(m.hist.U_t[:,3], m.hist.F_t[:,4])\n",
    "ax1.plot(m.hist.U_t[:,3], m.hist.F_t[:,5])\n",
    "\n",
    "ax2.plot(m.hist.U_t[:,3], m.hist.U_t[:,0])\n",
    "ax2.plot(m.hist.U_t[:,3], m.hist.U_t[:,1])\n",
    "ax2.plot(m.hist.U_t[:,3], m.hist.U_t[:,2])\n",
    "ax2.plot(m.hist.U_t[:,3], m.hist.U_t[:,4])\n",
    "ax2.plot(m.hist.U_t[:,3], m.hist.U_t[:,5])"
   ]
  }
 ],
 "metadata": {
  "kernelspec": {
   "display_name": "bmcs_env",
   "language": "python",
   "name": "bmcs_env"
  },
  "language_info": {
   "codemirror_mode": {
    "name": "ipython",
    "version": 3
   },
   "file_extension": ".py",
   "mimetype": "text/x-python",
   "name": "python",
   "nbconvert_exporter": "python",
   "pygments_lexer": "ipython3",
   "version": "3.8.12"
  }
 },
 "nbformat": 4,
 "nbformat_minor": 5
}
