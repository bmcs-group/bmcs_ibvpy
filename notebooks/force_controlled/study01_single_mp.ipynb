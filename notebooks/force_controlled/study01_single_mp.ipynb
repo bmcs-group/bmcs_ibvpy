{
 "cells": [
  {
   "cell_type": "markdown",
   "id": "c1143535-2d2e-4f5b-9451-f6c5aa78b5aa",
   "metadata": {},
   "source": [
    "# **Single material point simulation - pure shear in elastic material**"
   ]
  },
  {
   "cell_type": "code",
   "execution_count": 1,
   "id": "83f63e78-3bbd-4515-9b2f-895b2b51c826",
   "metadata": {},
   "outputs": [],
   "source": [
    "%matplotlib widget\n",
    "from bmcs_matmod.msx import MSX\n",
    "import matplotlib.pylab as plt\n",
    "import numpy as np\n",
    "np.seterr(divide='ignore', invalid='ignore');\n",
    "from bmcs_matmod.msx.energy_dissipation import EnergyDissipation\n",
    "from ibvpy.tfunction import TimeFunction, TFSelector, TFCyclicSin, TFCyclicNonsymmetricConstant\n",
    "from ibvpy.api import TStepBC, TFCyclicNonsymmetricConstant, TFBilinear\n",
    "from ibvpy.api import XDomainSinglePoint, MATS3DScalarDamage, TStepBC, BCDof\n",
    "from bmcs_matmod.ms1 import MS13D\n",
    "from ibvpy.tmodel.mats3D import MATS3DElastic"
   ]
  },
  {
   "cell_type": "code",
   "execution_count": 2,
   "id": "c0fe8620-8489-44f8-933c-3edd80b1e866",
   "metadata": {},
   "outputs": [],
   "source": [
    "m_elastic = MATS3DElastic()"
   ]
  },
  {
   "cell_type": "code",
   "execution_count": 4,
   "id": "2dfdf46c-cbfe-4f7e-982c-7540b5d476ef",
   "metadata": {},
   "outputs": [],
   "source": [
    "xmodel = XDomainSinglePoint()\n",
    "m = TStepBC(\n",
    "    domains=[(xmodel, m_elastic),],\n",
    "    bc=[BCDof(\n",
    "            var='u', dof=3, value=-0.01)]\n",
    ")\n",
    "\n",
    "m.sim.tline.trait_set(step=0.1)\n",
    "m.sim.reset()\n",
    "m.sim.run()\n"
   ]
  },
  {
   "cell_type": "code",
   "execution_count": 5,
   "id": "bd25090f-46f0-4915-86b1-1823a4b4b916",
   "metadata": {},
   "outputs": [
    {
     "data": {
      "application/vnd.jupyter.widget-view+json": {
       "model_id": "1665d7819dba4016b3a3a32ffe571b25",
       "version_major": 2,
       "version_minor": 0
      },
      "text/plain": [
       "Canvas(toolbar=Toolbar(toolitems=[('Home', 'Reset original view', 'home', 'home'), ('Back', 'Back to previous …"
      ]
     },
     "metadata": {},
     "output_type": "display_data"
    },
    {
     "data": {
      "text/plain": [
       "[<matplotlib.lines.Line2D at 0x265eae24d30>]"
      ]
     },
     "execution_count": 5,
     "metadata": {},
     "output_type": "execute_result"
    }
   ],
   "source": [
    "%matplotlib widget\n",
    "import matplotlib.pylab as plt\n",
    "fig, ((ax1,ax2)) = plt.subplots(1, 2)\n",
    "ax1.plot(m.hist.U_t[:,3], m.hist.F_t[:,0])\n",
    "ax1.plot(m.hist.U_t[:,3], m.hist.F_t[:,1])\n",
    "ax1.plot(m.hist.U_t[:,3], m.hist.F_t[:,2])\n",
    "ax1.plot(m.hist.U_t[:,3], m.hist.F_t[:,3])\n",
    "ax1.plot(m.hist.U_t[:,3], m.hist.F_t[:,4])\n",
    "ax1.plot(m.hist.U_t[:,3], m.hist.F_t[:,5])\n",
    "\n",
    "ax2.plot(m.hist.U_t[:,3], m.hist.U_t[:,0])\n",
    "ax2.plot(m.hist.U_t[:,3], m.hist.U_t[:,1])\n",
    "ax2.plot(m.hist.U_t[:,3], m.hist.U_t[:,2])\n",
    "ax2.plot(m.hist.U_t[:,3], m.hist.U_t[:,4])\n",
    "ax2.plot(m.hist.U_t[:,3], m.hist.U_t[:,5])"
   ]
  },
  {
   "cell_type": "code",
   "execution_count": 12,
   "id": "9e1bff84-1c3c-408c-861f-e82d226a4245",
   "metadata": {},
   "outputs": [],
   "source": [
    "xmodel = XDomainSinglePoint()\n",
    "m = TStepBC(\n",
    "    domains=[(xmodel, m_elastic),],\n",
    "    bc=[BCDof(\n",
    "            var='f', dof=3, value=-200)]\n",
    ")\n",
    "m.sim.reset()"
   ]
  },
  {
   "cell_type": "code",
   "execution_count": 13,
   "id": "c1be7c3f-efb9-4a2c-b355-0ef56552ce65",
   "metadata": {},
   "outputs": [],
   "source": [
    "self = m.sim.tstep"
   ]
  },
  {
   "cell_type": "code",
   "execution_count": 14,
   "id": "b95f0567-5ae0-47b7-ad77-455b8f7f0704",
   "metadata": {},
   "outputs": [],
   "source": [
    "self.t_n, self.t_n1 = 0, 0.1"
   ]
  },
  {
   "cell_type": "code",
   "execution_count": 15,
   "id": "b8386a9f-05a2-4e54-ac44-1ccb8ceffe9d",
   "metadata": {},
   "outputs": [
    {
     "data": {
      "text/plain": [
       "(array([array([[0., 0., 0., 0., 0., 0.]])], dtype=object),\n",
       " array([<ibvpy.mathkit.linalg.sys_mtx_array.SysMtxArray object at 0x000001C43DA89720>],\n",
       "       dtype=object),\n",
       " array([array([0, 1, 2, 3, 4, 5])], dtype=object))"
      ]
     },
     "execution_count": 15,
     "metadata": {},
     "output_type": "execute_result"
    }
   ],
   "source": [
    "self.K.reset_mtx()\n",
    "f_Eis, K_ks, dof_Es = np.array(\n",
    "    [s.get_corr_pred(self.U_k, self.t_n, self.t_n1)\n",
    "     for s in self.fe_domain], dtype=object).T\n",
    "f_Eis, K_ks, dof_Es"
   ]
  },
  {
   "cell_type": "code",
   "execution_count": 16,
   "id": "64451bc4-6dd1-46c8-9b98-abd39a6d6b3c",
   "metadata": {},
   "outputs": [
    {
     "data": {
      "text/plain": [
       "array([  0.,   0.,   0., -20.,   0.,   0.])"
      ]
     },
     "execution_count": 16,
     "metadata": {},
     "output_type": "execute_result"
    }
   ],
   "source": [
    "self.K.sys_mtx_arrays = list(K_ks)  # improve\n",
    "F_ext = np.zeros_like(self.U_k)\n",
    "self.bcond_mngr.apply(\n",
    "    self.step_flag, None, self.K, F_ext, self.t_n, self.t_n1\n",
    ")\n",
    "F_ext"
   ]
  },
  {
   "cell_type": "code",
   "execution_count": 17,
   "id": "a5391ff4-3ba6-42a0-9ed9-e7d25fcff260",
   "metadata": {},
   "outputs": [
    {
     "data": {
      "text/plain": [
       "array([0., 0., 0., 0., 0., 0.])"
      ]
     },
     "execution_count": 17,
     "metadata": {},
     "output_type": "execute_result"
    }
   ],
   "source": [
    "F_int = np.bincount(\n",
    "    np.hstack(np.hstack(dof_Es)),\n",
    "    weights=np.hstack(np.hstack(f_Eis))\n",
    ")\n",
    "F_int"
   ]
  },
  {
   "cell_type": "code",
   "execution_count": 18,
   "id": "070f9cf9-52da-419c-9da1-f8e1733f9ca5",
   "metadata": {},
   "outputs": [
    {
     "data": {
      "text/plain": [
       "array([  0.,   0.,   0., -20.,   0.,   0.])"
      ]
     },
     "execution_count": 18,
     "metadata": {},
     "output_type": "execute_result"
    }
   ],
   "source": [
    "R = F_ext - F_int\n",
    "self.K.apply_constraints(R)\n",
    "R"
   ]
  },
  {
   "cell_type": "code",
   "execution_count": 19,
   "id": "0d806e6e-d9de-49a1-a726-4270d15b03fa",
   "metadata": {},
   "outputs": [
    {
     "data": {
      "text/plain": [
       "array([ 0.        ,  0.        ,  0.        , -0.00141176,  0.        ,\n",
       "        0.        ])"
      ]
     },
     "execution_count": 19,
     "metadata": {},
     "output_type": "execute_result"
    }
   ],
   "source": [
    "'''Perform a single iteration\n",
    "'''\n",
    "d_U_k, pos_def = self.K.solve(check_pos_def=True)\n",
    "if self.debug:\n",
    "    print('positive definite', pos_def)\n",
    "self.U_k[:] += d_U_k\n",
    "self.primary_var_changed = True\n",
    "self.step_flag = 'corrector'\n",
    "d_U_k"
   ]
  },
  {
   "cell_type": "markdown",
   "id": "ce8c17ba-e99c-4a2d-8302-7640c240550d",
   "metadata": {},
   "source": [
    "##  end debug"
   ]
  },
  {
   "cell_type": "code",
   "execution_count": null,
   "id": "3532090a-0f5f-44e5-8b27-acb23ebbd46f",
   "metadata": {},
   "outputs": [],
   "source": [
    "m.sim.tline.trait_set(step=0.1)\n",
    "m.sim.reset()\n",
    "m.sim.run()"
   ]
  },
  {
   "cell_type": "code",
   "execution_count": 10,
   "id": "eca1d960-6270-4462-9703-e49a91f7889b",
   "metadata": {},
   "outputs": [
    {
     "data": {
      "application/vnd.jupyter.widget-view+json": {
       "model_id": "91006aac19704d0394a06c26f6fdcae5",
       "version_major": 2,
       "version_minor": 0
      },
      "text/plain": [
       "Canvas(toolbar=Toolbar(toolitems=[('Home', 'Reset original view', 'home', 'home'), ('Back', 'Back to previous …"
      ]
     },
     "metadata": {},
     "output_type": "display_data"
    },
    {
     "data": {
      "text/plain": [
       "[<matplotlib.lines.Line2D at 0x1fe2b258910>]"
      ]
     },
     "execution_count": 10,
     "metadata": {},
     "output_type": "execute_result"
    }
   ],
   "source": [
    "%matplotlib widget\n",
    "import matplotlib.pylab as plt\n",
    "fig, ((ax1,ax2)) = plt.subplots(1, 2)\n",
    "ax1.plot(m.hist.U_t[:,3], m.hist.F_t[:,0])\n",
    "ax1.plot(m.hist.U_t[:,3], m.hist.F_t[:,1])\n",
    "ax1.plot(m.hist.U_t[:,3], m.hist.F_t[:,2])\n",
    "ax1.plot(m.hist.U_t[:,3], m.hist.F_t[:,3])\n",
    "ax1.plot(m.hist.U_t[:,3], m.hist.F_t[:,4])\n",
    "ax1.plot(m.hist.U_t[:,3], m.hist.F_t[:,5])\n",
    "\n",
    "ax2.plot(m.hist.U_t[:,3], m.hist.U_t[:,0])\n",
    "ax2.plot(m.hist.U_t[:,3], m.hist.U_t[:,1])\n",
    "ax2.plot(m.hist.U_t[:,3], m.hist.U_t[:,2])\n",
    "ax2.plot(m.hist.U_t[:,3], m.hist.U_t[:,4])\n",
    "ax2.plot(m.hist.U_t[:,3], m.hist.U_t[:,5])"
   ]
  },
  {
   "cell_type": "code",
   "execution_count": null,
   "id": "52daa17f-9f8a-4191-9386-f339e965900b",
   "metadata": {},
   "outputs": [],
   "source": []
  }
 ],
 "metadata": {
  "kernelspec": {
   "display_name": "bmcs_env",
   "language": "python",
   "name": "bmcs_env"
  },
  "language_info": {
   "codemirror_mode": {
    "name": "ipython",
    "version": 3
   },
   "file_extension": ".py",
   "mimetype": "text/x-python",
   "name": "python",
   "nbconvert_exporter": "python",
   "pygments_lexer": "ipython3",
   "version": "3.8.12"
  }
 },
 "nbformat": 4,
 "nbformat_minor": 5
}
